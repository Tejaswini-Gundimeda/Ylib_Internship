{
  "nbformat": 4,
  "nbformat_minor": 0,
  "metadata": {
    "colab": {
      "provenance": []
    },
    "kernelspec": {
      "name": "python3",
      "display_name": "Python 3"
    },
    "language_info": {
      "name": "python"
    }
  },
  "cells": [
    {
      "cell_type": "markdown",
      "source": [
        "**Movie_Recommendation System**\n",
        "\n",
        "#Import Library"
      ],
      "metadata": {
        "id": "KM4xLY6xdRqr"
      }
    },
    {
      "cell_type": "code",
      "execution_count": 1,
      "metadata": {
        "id": "WCN6SffcdIpP"
      },
      "outputs": [],
      "source": [
        "import pandas as pd\n",
        "import numpy as np"
      ]
    },
    {
      "cell_type": "markdown",
      "source": [
        "#Import Dataset"
      ],
      "metadata": {
        "id": "k9pKrdyjdg_W"
      }
    },
    {
      "cell_type": "code",
      "source": [
        "df = pd.read_csv('https://raw.githubusercontent.com/Lorddhaval/Dataset/main/Movies%20Recommendation.csv')\n",
        ""
      ],
      "metadata": {
        "id": "EM0vCE2fdjZa"
      },
      "execution_count": 2,
      "outputs": []
    },
    {
      "cell_type": "markdown",
      "source": [
        "#First 5 rows od dataset"
      ],
      "metadata": {
        "id": "O7eQltdkdmNw"
      }
    },
    {
      "cell_type": "code",
      "source": [
        "df.head()\n",
        "\n",
        ""
      ],
      "metadata": {
        "colab": {
          "base_uri": "https://localhost:8080/",
          "height": 654
        },
        "id": "FG0OTVUYdpbj",
        "outputId": "ac1e2218-f162-4760-fe00-8d50cfd18794"
      },
      "execution_count": 3,
      "outputs": [
        {
          "output_type": "execute_result",
          "data": {
            "text/plain": [
              "   Movie_ID      Movie_Title                       Movie_Genre Movie_Language  \\\n",
              "0         1       Four Rooms                      Crime Comedy             en   \n",
              "1         2        Star Wars  Adventure Action Science Fiction             en   \n",
              "2         3     Finding Nemo                  Animation Family             en   \n",
              "3         4     Forrest Gump              Comedy Drama Romance             en   \n",
              "4         5  American Beauty                             Drama             en   \n",
              "\n",
              "   Movie_Budget  Movie_Popularity Movie_Release_Date  Movie_Revenue  \\\n",
              "0       4000000         22.876230         09-12-1995        4300000   \n",
              "1      11000000        126.393695         25-05-1977      775398007   \n",
              "2      94000000         85.688789         30-05-2003      940335536   \n",
              "3      55000000        138.133331         06-07-1994      677945399   \n",
              "4      15000000         80.878605         15-09-1999      356296601   \n",
              "\n",
              "   Movie_Runtime  Movie_Vote  ...  \\\n",
              "0           98.0         6.5  ...   \n",
              "1          121.0         8.1  ...   \n",
              "2          100.0         7.6  ...   \n",
              "3          142.0         8.2  ...   \n",
              "4          122.0         7.9  ...   \n",
              "\n",
              "                                      Movie_Homepage  \\\n",
              "0                                                NaN   \n",
              "1  http://www.starwars.com/films/star-wars-episod...   \n",
              "2              http://movies.disney.com/finding-nemo   \n",
              "3                                                NaN   \n",
              "4                      http://www.dreamworks.com/ab/   \n",
              "\n",
              "                                      Movie_Keywords  \\\n",
              "0          hotel new year's eve witch bet hotel room   \n",
              "1        android galaxy hermit death star lightsaber   \n",
              "2  father son relationship harbor underwater fish...   \n",
              "3  vietnam veteran hippie mentally disabled runni...   \n",
              "4  male nudity female nudity adultery midlife cri...   \n",
              "\n",
              "                                      Movie_Overview  \\\n",
              "0  It's Ted the Bellhop's first night on the job....   \n",
              "1  Princess Leia is captured and held hostage by ...   \n",
              "2  Nemo, an adventurous young clownfish, is unexp...   \n",
              "3  A man with a low IQ has accomplished great thi...   \n",
              "4  Lester Burnham, a depressed suburban father in...   \n",
              "\n",
              "                              Movie_Production_House  \\\n",
              "0  [{\"name\": \"Miramax Films\", \"id\": 14}, {\"name\":...   \n",
              "1  [{\"name\": \"Lucasfilm\", \"id\": 1}, {\"name\": \"Twe...   \n",
              "2     [{\"name\": \"Pixar Animation Studios\", \"id\": 3}]   \n",
              "3          [{\"name\": \"Paramount Pictures\", \"id\": 4}]   \n",
              "4  [{\"name\": \"DreamWorks SKG\", \"id\": 27}, {\"name\"...   \n",
              "\n",
              "                            Movie_Production_Country  \\\n",
              "0  [{\"iso_3166_1\": \"US\", \"name\": \"United States o...   \n",
              "1  [{\"iso_3166_1\": \"US\", \"name\": \"United States o...   \n",
              "2  [{\"iso_3166_1\": \"US\", \"name\": \"United States o...   \n",
              "3  [{\"iso_3166_1\": \"US\", \"name\": \"United States o...   \n",
              "4  [{\"iso_3166_1\": \"US\", \"name\": \"United States o...   \n",
              "\n",
              "                      Movie_Spoken_Language  \\\n",
              "0  [{\"iso_639_1\": \"en\", \"name\": \"English\"}]   \n",
              "1  [{\"iso_639_1\": \"en\", \"name\": \"English\"}]   \n",
              "2  [{\"iso_639_1\": \"en\", \"name\": \"English\"}]   \n",
              "3  [{\"iso_639_1\": \"en\", \"name\": \"English\"}]   \n",
              "4  [{\"iso_639_1\": \"en\", \"name\": \"English\"}]   \n",
              "\n",
              "                                       Movie_Tagline  \\\n",
              "0  Twelve outrageous guests. Four scandalous requ...   \n",
              "1       A long time ago in a galaxy far, far away...   \n",
              "2  There are 3.7 trillion fish in the ocean, they...   \n",
              "3  The world will never be the same, once you've ...   \n",
              "4                                       Look closer.   \n",
              "\n",
              "                                          Movie_Cast  \\\n",
              "0  Tim Roth Antonio Banderas Jennifer Beals Madon...   \n",
              "1  Mark Hamill Harrison Ford Carrie Fisher Peter ...   \n",
              "2  Albert Brooks Ellen DeGeneres Alexander Gould ...   \n",
              "3  Tom Hanks Robin Wright Gary Sinise Mykelti Wil...   \n",
              "4  Kevin Spacey Annette Bening Thora Birch Wes Be...   \n",
              "\n",
              "                                          Movie_Crew   Movie_Director  \n",
              "0  [{'name': 'Allison Anders', 'gender': 1, 'depa...   Allison Anders  \n",
              "1  [{'name': 'George Lucas', 'gender': 2, 'depart...     George Lucas  \n",
              "2  [{'name': 'Andrew Stanton', 'gender': 2, 'depa...   Andrew Stanton  \n",
              "3  [{'name': 'Alan Silvestri', 'gender': 2, 'depa...  Robert Zemeckis  \n",
              "4  [{'name': 'Thomas Newman', 'gender': 2, 'depar...       Sam Mendes  \n",
              "\n",
              "[5 rows x 21 columns]"
            ],
            "text/html": [
              "\n",
              "  <div id=\"df-26f794d3-391e-40fb-9d61-7f64cf47a7f5\" class=\"colab-df-container\">\n",
              "    <div>\n",
              "<style scoped>\n",
              "    .dataframe tbody tr th:only-of-type {\n",
              "        vertical-align: middle;\n",
              "    }\n",
              "\n",
              "    .dataframe tbody tr th {\n",
              "        vertical-align: top;\n",
              "    }\n",
              "\n",
              "    .dataframe thead th {\n",
              "        text-align: right;\n",
              "    }\n",
              "</style>\n",
              "<table border=\"1\" class=\"dataframe\">\n",
              "  <thead>\n",
              "    <tr style=\"text-align: right;\">\n",
              "      <th></th>\n",
              "      <th>Movie_ID</th>\n",
              "      <th>Movie_Title</th>\n",
              "      <th>Movie_Genre</th>\n",
              "      <th>Movie_Language</th>\n",
              "      <th>Movie_Budget</th>\n",
              "      <th>Movie_Popularity</th>\n",
              "      <th>Movie_Release_Date</th>\n",
              "      <th>Movie_Revenue</th>\n",
              "      <th>Movie_Runtime</th>\n",
              "      <th>Movie_Vote</th>\n",
              "      <th>...</th>\n",
              "      <th>Movie_Homepage</th>\n",
              "      <th>Movie_Keywords</th>\n",
              "      <th>Movie_Overview</th>\n",
              "      <th>Movie_Production_House</th>\n",
              "      <th>Movie_Production_Country</th>\n",
              "      <th>Movie_Spoken_Language</th>\n",
              "      <th>Movie_Tagline</th>\n",
              "      <th>Movie_Cast</th>\n",
              "      <th>Movie_Crew</th>\n",
              "      <th>Movie_Director</th>\n",
              "    </tr>\n",
              "  </thead>\n",
              "  <tbody>\n",
              "    <tr>\n",
              "      <th>0</th>\n",
              "      <td>1</td>\n",
              "      <td>Four Rooms</td>\n",
              "      <td>Crime Comedy</td>\n",
              "      <td>en</td>\n",
              "      <td>4000000</td>\n",
              "      <td>22.876230</td>\n",
              "      <td>09-12-1995</td>\n",
              "      <td>4300000</td>\n",
              "      <td>98.0</td>\n",
              "      <td>6.5</td>\n",
              "      <td>...</td>\n",
              "      <td>NaN</td>\n",
              "      <td>hotel new year's eve witch bet hotel room</td>\n",
              "      <td>It's Ted the Bellhop's first night on the job....</td>\n",
              "      <td>[{\"name\": \"Miramax Films\", \"id\": 14}, {\"name\":...</td>\n",
              "      <td>[{\"iso_3166_1\": \"US\", \"name\": \"United States o...</td>\n",
              "      <td>[{\"iso_639_1\": \"en\", \"name\": \"English\"}]</td>\n",
              "      <td>Twelve outrageous guests. Four scandalous requ...</td>\n",
              "      <td>Tim Roth Antonio Banderas Jennifer Beals Madon...</td>\n",
              "      <td>[{'name': 'Allison Anders', 'gender': 1, 'depa...</td>\n",
              "      <td>Allison Anders</td>\n",
              "    </tr>\n",
              "    <tr>\n",
              "      <th>1</th>\n",
              "      <td>2</td>\n",
              "      <td>Star Wars</td>\n",
              "      <td>Adventure Action Science Fiction</td>\n",
              "      <td>en</td>\n",
              "      <td>11000000</td>\n",
              "      <td>126.393695</td>\n",
              "      <td>25-05-1977</td>\n",
              "      <td>775398007</td>\n",
              "      <td>121.0</td>\n",
              "      <td>8.1</td>\n",
              "      <td>...</td>\n",
              "      <td>http://www.starwars.com/films/star-wars-episod...</td>\n",
              "      <td>android galaxy hermit death star lightsaber</td>\n",
              "      <td>Princess Leia is captured and held hostage by ...</td>\n",
              "      <td>[{\"name\": \"Lucasfilm\", \"id\": 1}, {\"name\": \"Twe...</td>\n",
              "      <td>[{\"iso_3166_1\": \"US\", \"name\": \"United States o...</td>\n",
              "      <td>[{\"iso_639_1\": \"en\", \"name\": \"English\"}]</td>\n",
              "      <td>A long time ago in a galaxy far, far away...</td>\n",
              "      <td>Mark Hamill Harrison Ford Carrie Fisher Peter ...</td>\n",
              "      <td>[{'name': 'George Lucas', 'gender': 2, 'depart...</td>\n",
              "      <td>George Lucas</td>\n",
              "    </tr>\n",
              "    <tr>\n",
              "      <th>2</th>\n",
              "      <td>3</td>\n",
              "      <td>Finding Nemo</td>\n",
              "      <td>Animation Family</td>\n",
              "      <td>en</td>\n",
              "      <td>94000000</td>\n",
              "      <td>85.688789</td>\n",
              "      <td>30-05-2003</td>\n",
              "      <td>940335536</td>\n",
              "      <td>100.0</td>\n",
              "      <td>7.6</td>\n",
              "      <td>...</td>\n",
              "      <td>http://movies.disney.com/finding-nemo</td>\n",
              "      <td>father son relationship harbor underwater fish...</td>\n",
              "      <td>Nemo, an adventurous young clownfish, is unexp...</td>\n",
              "      <td>[{\"name\": \"Pixar Animation Studios\", \"id\": 3}]</td>\n",
              "      <td>[{\"iso_3166_1\": \"US\", \"name\": \"United States o...</td>\n",
              "      <td>[{\"iso_639_1\": \"en\", \"name\": \"English\"}]</td>\n",
              "      <td>There are 3.7 trillion fish in the ocean, they...</td>\n",
              "      <td>Albert Brooks Ellen DeGeneres Alexander Gould ...</td>\n",
              "      <td>[{'name': 'Andrew Stanton', 'gender': 2, 'depa...</td>\n",
              "      <td>Andrew Stanton</td>\n",
              "    </tr>\n",
              "    <tr>\n",
              "      <th>3</th>\n",
              "      <td>4</td>\n",
              "      <td>Forrest Gump</td>\n",
              "      <td>Comedy Drama Romance</td>\n",
              "      <td>en</td>\n",
              "      <td>55000000</td>\n",
              "      <td>138.133331</td>\n",
              "      <td>06-07-1994</td>\n",
              "      <td>677945399</td>\n",
              "      <td>142.0</td>\n",
              "      <td>8.2</td>\n",
              "      <td>...</td>\n",
              "      <td>NaN</td>\n",
              "      <td>vietnam veteran hippie mentally disabled runni...</td>\n",
              "      <td>A man with a low IQ has accomplished great thi...</td>\n",
              "      <td>[{\"name\": \"Paramount Pictures\", \"id\": 4}]</td>\n",
              "      <td>[{\"iso_3166_1\": \"US\", \"name\": \"United States o...</td>\n",
              "      <td>[{\"iso_639_1\": \"en\", \"name\": \"English\"}]</td>\n",
              "      <td>The world will never be the same, once you've ...</td>\n",
              "      <td>Tom Hanks Robin Wright Gary Sinise Mykelti Wil...</td>\n",
              "      <td>[{'name': 'Alan Silvestri', 'gender': 2, 'depa...</td>\n",
              "      <td>Robert Zemeckis</td>\n",
              "    </tr>\n",
              "    <tr>\n",
              "      <th>4</th>\n",
              "      <td>5</td>\n",
              "      <td>American Beauty</td>\n",
              "      <td>Drama</td>\n",
              "      <td>en</td>\n",
              "      <td>15000000</td>\n",
              "      <td>80.878605</td>\n",
              "      <td>15-09-1999</td>\n",
              "      <td>356296601</td>\n",
              "      <td>122.0</td>\n",
              "      <td>7.9</td>\n",
              "      <td>...</td>\n",
              "      <td>http://www.dreamworks.com/ab/</td>\n",
              "      <td>male nudity female nudity adultery midlife cri...</td>\n",
              "      <td>Lester Burnham, a depressed suburban father in...</td>\n",
              "      <td>[{\"name\": \"DreamWorks SKG\", \"id\": 27}, {\"name\"...</td>\n",
              "      <td>[{\"iso_3166_1\": \"US\", \"name\": \"United States o...</td>\n",
              "      <td>[{\"iso_639_1\": \"en\", \"name\": \"English\"}]</td>\n",
              "      <td>Look closer.</td>\n",
              "      <td>Kevin Spacey Annette Bening Thora Birch Wes Be...</td>\n",
              "      <td>[{'name': 'Thomas Newman', 'gender': 2, 'depar...</td>\n",
              "      <td>Sam Mendes</td>\n",
              "    </tr>\n",
              "  </tbody>\n",
              "</table>\n",
              "<p>5 rows × 21 columns</p>\n",
              "</div>\n",
              "    <div class=\"colab-df-buttons\">\n",
              "\n",
              "  <div class=\"colab-df-container\">\n",
              "    <button class=\"colab-df-convert\" onclick=\"convertToInteractive('df-26f794d3-391e-40fb-9d61-7f64cf47a7f5')\"\n",
              "            title=\"Convert this dataframe to an interactive table.\"\n",
              "            style=\"display:none;\">\n",
              "\n",
              "  <svg xmlns=\"http://www.w3.org/2000/svg\" height=\"24px\" viewBox=\"0 -960 960 960\">\n",
              "    <path d=\"M120-120v-720h720v720H120Zm60-500h600v-160H180v160Zm220 220h160v-160H400v160Zm0 220h160v-160H400v160ZM180-400h160v-160H180v160Zm440 0h160v-160H620v160ZM180-180h160v-160H180v160Zm440 0h160v-160H620v160Z\"/>\n",
              "  </svg>\n",
              "    </button>\n",
              "\n",
              "  <style>\n",
              "    .colab-df-container {\n",
              "      display:flex;\n",
              "      gap: 12px;\n",
              "    }\n",
              "\n",
              "    .colab-df-convert {\n",
              "      background-color: #E8F0FE;\n",
              "      border: none;\n",
              "      border-radius: 50%;\n",
              "      cursor: pointer;\n",
              "      display: none;\n",
              "      fill: #1967D2;\n",
              "      height: 32px;\n",
              "      padding: 0 0 0 0;\n",
              "      width: 32px;\n",
              "    }\n",
              "\n",
              "    .colab-df-convert:hover {\n",
              "      background-color: #E2EBFA;\n",
              "      box-shadow: 0px 1px 2px rgba(60, 64, 67, 0.3), 0px 1px 3px 1px rgba(60, 64, 67, 0.15);\n",
              "      fill: #174EA6;\n",
              "    }\n",
              "\n",
              "    .colab-df-buttons div {\n",
              "      margin-bottom: 4px;\n",
              "    }\n",
              "\n",
              "    [theme=dark] .colab-df-convert {\n",
              "      background-color: #3B4455;\n",
              "      fill: #D2E3FC;\n",
              "    }\n",
              "\n",
              "    [theme=dark] .colab-df-convert:hover {\n",
              "      background-color: #434B5C;\n",
              "      box-shadow: 0px 1px 3px 1px rgba(0, 0, 0, 0.15);\n",
              "      filter: drop-shadow(0px 1px 2px rgba(0, 0, 0, 0.3));\n",
              "      fill: #FFFFFF;\n",
              "    }\n",
              "  </style>\n",
              "\n",
              "    <script>\n",
              "      const buttonEl =\n",
              "        document.querySelector('#df-26f794d3-391e-40fb-9d61-7f64cf47a7f5 button.colab-df-convert');\n",
              "      buttonEl.style.display =\n",
              "        google.colab.kernel.accessAllowed ? 'block' : 'none';\n",
              "\n",
              "      async function convertToInteractive(key) {\n",
              "        const element = document.querySelector('#df-26f794d3-391e-40fb-9d61-7f64cf47a7f5');\n",
              "        const dataTable =\n",
              "          await google.colab.kernel.invokeFunction('convertToInteractive',\n",
              "                                                    [key], {});\n",
              "        if (!dataTable) return;\n",
              "\n",
              "        const docLinkHtml = 'Like what you see? Visit the ' +\n",
              "          '<a target=\"_blank\" href=https://colab.research.google.com/notebooks/data_table.ipynb>data table notebook</a>'\n",
              "          + ' to learn more about interactive tables.';\n",
              "        element.innerHTML = '';\n",
              "        dataTable['output_type'] = 'display_data';\n",
              "        await google.colab.output.renderOutput(dataTable, element);\n",
              "        const docLink = document.createElement('div');\n",
              "        docLink.innerHTML = docLinkHtml;\n",
              "        element.appendChild(docLink);\n",
              "      }\n",
              "    </script>\n",
              "  </div>\n",
              "\n",
              "\n",
              "<div id=\"df-a80e6c54-33d4-4b96-944d-f4151a171718\">\n",
              "  <button class=\"colab-df-quickchart\" onclick=\"quickchart('df-a80e6c54-33d4-4b96-944d-f4151a171718')\"\n",
              "            title=\"Suggest charts\"\n",
              "            style=\"display:none;\">\n",
              "\n",
              "<svg xmlns=\"http://www.w3.org/2000/svg\" height=\"24px\"viewBox=\"0 0 24 24\"\n",
              "     width=\"24px\">\n",
              "    <g>\n",
              "        <path d=\"M19 3H5c-1.1 0-2 .9-2 2v14c0 1.1.9 2 2 2h14c1.1 0 2-.9 2-2V5c0-1.1-.9-2-2-2zM9 17H7v-7h2v7zm4 0h-2V7h2v10zm4 0h-2v-4h2v4z\"/>\n",
              "    </g>\n",
              "</svg>\n",
              "  </button>\n",
              "\n",
              "<style>\n",
              "  .colab-df-quickchart {\n",
              "      --bg-color: #E8F0FE;\n",
              "      --fill-color: #1967D2;\n",
              "      --hover-bg-color: #E2EBFA;\n",
              "      --hover-fill-color: #174EA6;\n",
              "      --disabled-fill-color: #AAA;\n",
              "      --disabled-bg-color: #DDD;\n",
              "  }\n",
              "\n",
              "  [theme=dark] .colab-df-quickchart {\n",
              "      --bg-color: #3B4455;\n",
              "      --fill-color: #D2E3FC;\n",
              "      --hover-bg-color: #434B5C;\n",
              "      --hover-fill-color: #FFFFFF;\n",
              "      --disabled-bg-color: #3B4455;\n",
              "      --disabled-fill-color: #666;\n",
              "  }\n",
              "\n",
              "  .colab-df-quickchart {\n",
              "    background-color: var(--bg-color);\n",
              "    border: none;\n",
              "    border-radius: 50%;\n",
              "    cursor: pointer;\n",
              "    display: none;\n",
              "    fill: var(--fill-color);\n",
              "    height: 32px;\n",
              "    padding: 0;\n",
              "    width: 32px;\n",
              "  }\n",
              "\n",
              "  .colab-df-quickchart:hover {\n",
              "    background-color: var(--hover-bg-color);\n",
              "    box-shadow: 0 1px 2px rgba(60, 64, 67, 0.3), 0 1px 3px 1px rgba(60, 64, 67, 0.15);\n",
              "    fill: var(--button-hover-fill-color);\n",
              "  }\n",
              "\n",
              "  .colab-df-quickchart-complete:disabled,\n",
              "  .colab-df-quickchart-complete:disabled:hover {\n",
              "    background-color: var(--disabled-bg-color);\n",
              "    fill: var(--disabled-fill-color);\n",
              "    box-shadow: none;\n",
              "  }\n",
              "\n",
              "  .colab-df-spinner {\n",
              "    border: 2px solid var(--fill-color);\n",
              "    border-color: transparent;\n",
              "    border-bottom-color: var(--fill-color);\n",
              "    animation:\n",
              "      spin 1s steps(1) infinite;\n",
              "  }\n",
              "\n",
              "  @keyframes spin {\n",
              "    0% {\n",
              "      border-color: transparent;\n",
              "      border-bottom-color: var(--fill-color);\n",
              "      border-left-color: var(--fill-color);\n",
              "    }\n",
              "    20% {\n",
              "      border-color: transparent;\n",
              "      border-left-color: var(--fill-color);\n",
              "      border-top-color: var(--fill-color);\n",
              "    }\n",
              "    30% {\n",
              "      border-color: transparent;\n",
              "      border-left-color: var(--fill-color);\n",
              "      border-top-color: var(--fill-color);\n",
              "      border-right-color: var(--fill-color);\n",
              "    }\n",
              "    40% {\n",
              "      border-color: transparent;\n",
              "      border-right-color: var(--fill-color);\n",
              "      border-top-color: var(--fill-color);\n",
              "    }\n",
              "    60% {\n",
              "      border-color: transparent;\n",
              "      border-right-color: var(--fill-color);\n",
              "    }\n",
              "    80% {\n",
              "      border-color: transparent;\n",
              "      border-right-color: var(--fill-color);\n",
              "      border-bottom-color: var(--fill-color);\n",
              "    }\n",
              "    90% {\n",
              "      border-color: transparent;\n",
              "      border-bottom-color: var(--fill-color);\n",
              "    }\n",
              "  }\n",
              "</style>\n",
              "\n",
              "  <script>\n",
              "    async function quickchart(key) {\n",
              "      const quickchartButtonEl =\n",
              "        document.querySelector('#' + key + ' button');\n",
              "      quickchartButtonEl.disabled = true;  // To prevent multiple clicks.\n",
              "      quickchartButtonEl.classList.add('colab-df-spinner');\n",
              "      try {\n",
              "        const charts = await google.colab.kernel.invokeFunction(\n",
              "            'suggestCharts', [key], {});\n",
              "      } catch (error) {\n",
              "        console.error('Error during call to suggestCharts:', error);\n",
              "      }\n",
              "      quickchartButtonEl.classList.remove('colab-df-spinner');\n",
              "      quickchartButtonEl.classList.add('colab-df-quickchart-complete');\n",
              "    }\n",
              "    (() => {\n",
              "      let quickchartButtonEl =\n",
              "        document.querySelector('#df-a80e6c54-33d4-4b96-944d-f4151a171718 button');\n",
              "      quickchartButtonEl.style.display =\n",
              "        google.colab.kernel.accessAllowed ? 'block' : 'none';\n",
              "    })();\n",
              "  </script>\n",
              "</div>\n",
              "\n",
              "    </div>\n",
              "  </div>\n"
            ],
            "application/vnd.google.colaboratory.intrinsic+json": {
              "type": "dataframe",
              "variable_name": "df"
            }
          },
          "metadata": {},
          "execution_count": 3
        }
      ]
    },
    {
      "cell_type": "markdown",
      "source": [
        "#Information about dataset"
      ],
      "metadata": {
        "id": "KPBC2Z8dduFw"
      }
    },
    {
      "cell_type": "code",
      "source": [
        "df.info()"
      ],
      "metadata": {
        "colab": {
          "base_uri": "https://localhost:8080/"
        },
        "id": "3z33qv06dxTU",
        "outputId": "409dd66b-d915-4bd8-9658-272b509dc520"
      },
      "execution_count": 4,
      "outputs": [
        {
          "output_type": "stream",
          "name": "stdout",
          "text": [
            "<class 'pandas.core.frame.DataFrame'>\n",
            "RangeIndex: 4760 entries, 0 to 4759\n",
            "Data columns (total 21 columns):\n",
            " #   Column                    Non-Null Count  Dtype  \n",
            "---  ------                    --------------  -----  \n",
            " 0   Movie_ID                  4760 non-null   int64  \n",
            " 1   Movie_Title               4760 non-null   object \n",
            " 2   Movie_Genre               4760 non-null   object \n",
            " 3   Movie_Language            4760 non-null   object \n",
            " 4   Movie_Budget              4760 non-null   int64  \n",
            " 5   Movie_Popularity          4760 non-null   float64\n",
            " 6   Movie_Release_Date        4760 non-null   object \n",
            " 7   Movie_Revenue             4760 non-null   int64  \n",
            " 8   Movie_Runtime             4758 non-null   float64\n",
            " 9   Movie_Vote                4760 non-null   float64\n",
            " 10  Movie_Vote_Count          4760 non-null   int64  \n",
            " 11  Movie_Homepage            1699 non-null   object \n",
            " 12  Movie_Keywords            4373 non-null   object \n",
            " 13  Movie_Overview            4757 non-null   object \n",
            " 14  Movie_Production_House    4760 non-null   object \n",
            " 15  Movie_Production_Country  4760 non-null   object \n",
            " 16  Movie_Spoken_Language     4760 non-null   object \n",
            " 17  Movie_Tagline             3942 non-null   object \n",
            " 18  Movie_Cast                4733 non-null   object \n",
            " 19  Movie_Crew                4760 non-null   object \n",
            " 20  Movie_Director            4738 non-null   object \n",
            "dtypes: float64(3), int64(4), object(14)\n",
            "memory usage: 781.1+ KB\n"
          ]
        }
      ]
    },
    {
      "cell_type": "code",
      "source": [
        "df.shape"
      ],
      "metadata": {
        "colab": {
          "base_uri": "https://localhost:8080/"
        },
        "id": "tX6elfRHd1-w",
        "outputId": "2034075c-b985-4aab-9093-9171222bb65f"
      },
      "execution_count": 5,
      "outputs": [
        {
          "output_type": "execute_result",
          "data": {
            "text/plain": [
              "(4760, 21)"
            ]
          },
          "metadata": {},
          "execution_count": 5
        }
      ]
    },
    {
      "cell_type": "markdown",
      "source": [
        "#Columns in dataset"
      ],
      "metadata": {
        "id": "9M9kzwnld4NG"
      }
    },
    {
      "cell_type": "code",
      "source": [
        "df.columns"
      ],
      "metadata": {
        "colab": {
          "base_uri": "https://localhost:8080/"
        },
        "id": "dzNElKx6d6np",
        "outputId": "469a978d-39d2-468f-998c-cd943ba21b01"
      },
      "execution_count": 6,
      "outputs": [
        {
          "output_type": "execute_result",
          "data": {
            "text/plain": [
              "Index(['Movie_ID', 'Movie_Title', 'Movie_Genre', 'Movie_Language',\n",
              "       'Movie_Budget', 'Movie_Popularity', 'Movie_Release_Date',\n",
              "       'Movie_Revenue', 'Movie_Runtime', 'Movie_Vote', 'Movie_Vote_Count',\n",
              "       'Movie_Homepage', 'Movie_Keywords', 'Movie_Overview',\n",
              "       'Movie_Production_House', 'Movie_Production_Country',\n",
              "       'Movie_Spoken_Language', 'Movie_Tagline', 'Movie_Cast', 'Movie_Crew',\n",
              "       'Movie_Director'],\n",
              "      dtype='object')"
            ]
          },
          "metadata": {},
          "execution_count": 6
        }
      ]
    },
    {
      "cell_type": "markdown",
      "source": [
        "#Feature Selection"
      ],
      "metadata": {
        "id": "PHGHxpRHd_mh"
      }
    },
    {
      "cell_type": "code",
      "source": [
        "df_features = df[['Movie_Genre','Movie_Keywords','Movie_Tagline','Movie_Cast','Movie_Director']].fillna('')\n",
        "df_features.shape"
      ],
      "metadata": {
        "colab": {
          "base_uri": "https://localhost:8080/"
        },
        "id": "a5wVgEz4eEWO",
        "outputId": "65fb2e76-8b3d-4427-bc4a-388c1582d26d"
      },
      "execution_count": 7,
      "outputs": [
        {
          "output_type": "execute_result",
          "data": {
            "text/plain": [
              "(4760, 5)"
            ]
          },
          "metadata": {},
          "execution_count": 7
        }
      ]
    },
    {
      "cell_type": "code",
      "source": [
        "df_features"
      ],
      "metadata": {
        "colab": {
          "base_uri": "https://localhost:8080/",
          "height": 545
        },
        "id": "w8X9keFeeJeF",
        "outputId": "31cb1897-5b0a-4498-e558-5f6e97b873d9"
      },
      "execution_count": 8,
      "outputs": [
        {
          "output_type": "execute_result",
          "data": {
            "text/plain": [
              "                           Movie_Genre  \\\n",
              "0                         Crime Comedy   \n",
              "1     Adventure Action Science Fiction   \n",
              "2                     Animation Family   \n",
              "3                 Comedy Drama Romance   \n",
              "4                                Drama   \n",
              "...                                ...   \n",
              "4755                            Horror   \n",
              "4756               Comedy Family Drama   \n",
              "4757                    Thriller Drama   \n",
              "4758                            Family   \n",
              "4759                       Documentary   \n",
              "\n",
              "                                         Movie_Keywords  \\\n",
              "0             hotel new year's eve witch bet hotel room   \n",
              "1           android galaxy hermit death star lightsaber   \n",
              "2     father son relationship harbor underwater fish...   \n",
              "3     vietnam veteran hippie mentally disabled runni...   \n",
              "4     male nudity female nudity adultery midlife cri...   \n",
              "...                                                 ...   \n",
              "4755                                                      \n",
              "4756                                                      \n",
              "4757                     christian film sex trafficking   \n",
              "4758                                                      \n",
              "4759  music actors legendary perfomer classic hollyw...   \n",
              "\n",
              "                                          Movie_Tagline  \\\n",
              "0     Twelve outrageous guests. Four scandalous requ...   \n",
              "1          A long time ago in a galaxy far, far away...   \n",
              "2     There are 3.7 trillion fish in the ocean, they...   \n",
              "3     The world will never be the same, once you've ...   \n",
              "4                                          Look closer.   \n",
              "...                                                 ...   \n",
              "4755                The hot spot where Satan's waitin'.   \n",
              "4756           It’s better to stand out than to fit in.   \n",
              "4757           She never knew it could happen to her...   \n",
              "4758                                                      \n",
              "4759                                                      \n",
              "\n",
              "                                             Movie_Cast     Movie_Director  \n",
              "0     Tim Roth Antonio Banderas Jennifer Beals Madon...     Allison Anders  \n",
              "1     Mark Hamill Harrison Ford Carrie Fisher Peter ...       George Lucas  \n",
              "2     Albert Brooks Ellen DeGeneres Alexander Gould ...     Andrew Stanton  \n",
              "3     Tom Hanks Robin Wright Gary Sinise Mykelti Wil...    Robert Zemeckis  \n",
              "4     Kevin Spacey Annette Bening Thora Birch Wes Be...         Sam Mendes  \n",
              "...                                                 ...                ...  \n",
              "4755  Lisa Hart Carroll Michael Des Barres Paul Drak...         Pece Dingo  \n",
              "4756  Roni Akurati Brighton Sharbino Jason Lee Anjul...       Frank Lotito  \n",
              "4757  Nicole Smolen Kim Baldwin Ariana Stephens Brys...       Jaco Booyens  \n",
              "4758                                                                        \n",
              "4759                                    Tony Oppedisano  Simon Napier-Bell  \n",
              "\n",
              "[4760 rows x 5 columns]"
            ],
            "text/html": [
              "\n",
              "  <div id=\"df-6c926fdb-4bd9-4675-9d6b-52704da227d9\" class=\"colab-df-container\">\n",
              "    <div>\n",
              "<style scoped>\n",
              "    .dataframe tbody tr th:only-of-type {\n",
              "        vertical-align: middle;\n",
              "    }\n",
              "\n",
              "    .dataframe tbody tr th {\n",
              "        vertical-align: top;\n",
              "    }\n",
              "\n",
              "    .dataframe thead th {\n",
              "        text-align: right;\n",
              "    }\n",
              "</style>\n",
              "<table border=\"1\" class=\"dataframe\">\n",
              "  <thead>\n",
              "    <tr style=\"text-align: right;\">\n",
              "      <th></th>\n",
              "      <th>Movie_Genre</th>\n",
              "      <th>Movie_Keywords</th>\n",
              "      <th>Movie_Tagline</th>\n",
              "      <th>Movie_Cast</th>\n",
              "      <th>Movie_Director</th>\n",
              "    </tr>\n",
              "  </thead>\n",
              "  <tbody>\n",
              "    <tr>\n",
              "      <th>0</th>\n",
              "      <td>Crime Comedy</td>\n",
              "      <td>hotel new year's eve witch bet hotel room</td>\n",
              "      <td>Twelve outrageous guests. Four scandalous requ...</td>\n",
              "      <td>Tim Roth Antonio Banderas Jennifer Beals Madon...</td>\n",
              "      <td>Allison Anders</td>\n",
              "    </tr>\n",
              "    <tr>\n",
              "      <th>1</th>\n",
              "      <td>Adventure Action Science Fiction</td>\n",
              "      <td>android galaxy hermit death star lightsaber</td>\n",
              "      <td>A long time ago in a galaxy far, far away...</td>\n",
              "      <td>Mark Hamill Harrison Ford Carrie Fisher Peter ...</td>\n",
              "      <td>George Lucas</td>\n",
              "    </tr>\n",
              "    <tr>\n",
              "      <th>2</th>\n",
              "      <td>Animation Family</td>\n",
              "      <td>father son relationship harbor underwater fish...</td>\n",
              "      <td>There are 3.7 trillion fish in the ocean, they...</td>\n",
              "      <td>Albert Brooks Ellen DeGeneres Alexander Gould ...</td>\n",
              "      <td>Andrew Stanton</td>\n",
              "    </tr>\n",
              "    <tr>\n",
              "      <th>3</th>\n",
              "      <td>Comedy Drama Romance</td>\n",
              "      <td>vietnam veteran hippie mentally disabled runni...</td>\n",
              "      <td>The world will never be the same, once you've ...</td>\n",
              "      <td>Tom Hanks Robin Wright Gary Sinise Mykelti Wil...</td>\n",
              "      <td>Robert Zemeckis</td>\n",
              "    </tr>\n",
              "    <tr>\n",
              "      <th>4</th>\n",
              "      <td>Drama</td>\n",
              "      <td>male nudity female nudity adultery midlife cri...</td>\n",
              "      <td>Look closer.</td>\n",
              "      <td>Kevin Spacey Annette Bening Thora Birch Wes Be...</td>\n",
              "      <td>Sam Mendes</td>\n",
              "    </tr>\n",
              "    <tr>\n",
              "      <th>...</th>\n",
              "      <td>...</td>\n",
              "      <td>...</td>\n",
              "      <td>...</td>\n",
              "      <td>...</td>\n",
              "      <td>...</td>\n",
              "    </tr>\n",
              "    <tr>\n",
              "      <th>4755</th>\n",
              "      <td>Horror</td>\n",
              "      <td></td>\n",
              "      <td>The hot spot where Satan's waitin'.</td>\n",
              "      <td>Lisa Hart Carroll Michael Des Barres Paul Drak...</td>\n",
              "      <td>Pece Dingo</td>\n",
              "    </tr>\n",
              "    <tr>\n",
              "      <th>4756</th>\n",
              "      <td>Comedy Family Drama</td>\n",
              "      <td></td>\n",
              "      <td>It’s better to stand out than to fit in.</td>\n",
              "      <td>Roni Akurati Brighton Sharbino Jason Lee Anjul...</td>\n",
              "      <td>Frank Lotito</td>\n",
              "    </tr>\n",
              "    <tr>\n",
              "      <th>4757</th>\n",
              "      <td>Thriller Drama</td>\n",
              "      <td>christian film sex trafficking</td>\n",
              "      <td>She never knew it could happen to her...</td>\n",
              "      <td>Nicole Smolen Kim Baldwin Ariana Stephens Brys...</td>\n",
              "      <td>Jaco Booyens</td>\n",
              "    </tr>\n",
              "    <tr>\n",
              "      <th>4758</th>\n",
              "      <td>Family</td>\n",
              "      <td></td>\n",
              "      <td></td>\n",
              "      <td></td>\n",
              "      <td></td>\n",
              "    </tr>\n",
              "    <tr>\n",
              "      <th>4759</th>\n",
              "      <td>Documentary</td>\n",
              "      <td>music actors legendary perfomer classic hollyw...</td>\n",
              "      <td></td>\n",
              "      <td>Tony Oppedisano</td>\n",
              "      <td>Simon Napier-Bell</td>\n",
              "    </tr>\n",
              "  </tbody>\n",
              "</table>\n",
              "<p>4760 rows × 5 columns</p>\n",
              "</div>\n",
              "    <div class=\"colab-df-buttons\">\n",
              "\n",
              "  <div class=\"colab-df-container\">\n",
              "    <button class=\"colab-df-convert\" onclick=\"convertToInteractive('df-6c926fdb-4bd9-4675-9d6b-52704da227d9')\"\n",
              "            title=\"Convert this dataframe to an interactive table.\"\n",
              "            style=\"display:none;\">\n",
              "\n",
              "  <svg xmlns=\"http://www.w3.org/2000/svg\" height=\"24px\" viewBox=\"0 -960 960 960\">\n",
              "    <path d=\"M120-120v-720h720v720H120Zm60-500h600v-160H180v160Zm220 220h160v-160H400v160Zm0 220h160v-160H400v160ZM180-400h160v-160H180v160Zm440 0h160v-160H620v160ZM180-180h160v-160H180v160Zm440 0h160v-160H620v160Z\"/>\n",
              "  </svg>\n",
              "    </button>\n",
              "\n",
              "  <style>\n",
              "    .colab-df-container {\n",
              "      display:flex;\n",
              "      gap: 12px;\n",
              "    }\n",
              "\n",
              "    .colab-df-convert {\n",
              "      background-color: #E8F0FE;\n",
              "      border: none;\n",
              "      border-radius: 50%;\n",
              "      cursor: pointer;\n",
              "      display: none;\n",
              "      fill: #1967D2;\n",
              "      height: 32px;\n",
              "      padding: 0 0 0 0;\n",
              "      width: 32px;\n",
              "    }\n",
              "\n",
              "    .colab-df-convert:hover {\n",
              "      background-color: #E2EBFA;\n",
              "      box-shadow: 0px 1px 2px rgba(60, 64, 67, 0.3), 0px 1px 3px 1px rgba(60, 64, 67, 0.15);\n",
              "      fill: #174EA6;\n",
              "    }\n",
              "\n",
              "    .colab-df-buttons div {\n",
              "      margin-bottom: 4px;\n",
              "    }\n",
              "\n",
              "    [theme=dark] .colab-df-convert {\n",
              "      background-color: #3B4455;\n",
              "      fill: #D2E3FC;\n",
              "    }\n",
              "\n",
              "    [theme=dark] .colab-df-convert:hover {\n",
              "      background-color: #434B5C;\n",
              "      box-shadow: 0px 1px 3px 1px rgba(0, 0, 0, 0.15);\n",
              "      filter: drop-shadow(0px 1px 2px rgba(0, 0, 0, 0.3));\n",
              "      fill: #FFFFFF;\n",
              "    }\n",
              "  </style>\n",
              "\n",
              "    <script>\n",
              "      const buttonEl =\n",
              "        document.querySelector('#df-6c926fdb-4bd9-4675-9d6b-52704da227d9 button.colab-df-convert');\n",
              "      buttonEl.style.display =\n",
              "        google.colab.kernel.accessAllowed ? 'block' : 'none';\n",
              "\n",
              "      async function convertToInteractive(key) {\n",
              "        const element = document.querySelector('#df-6c926fdb-4bd9-4675-9d6b-52704da227d9');\n",
              "        const dataTable =\n",
              "          await google.colab.kernel.invokeFunction('convertToInteractive',\n",
              "                                                    [key], {});\n",
              "        if (!dataTable) return;\n",
              "\n",
              "        const docLinkHtml = 'Like what you see? Visit the ' +\n",
              "          '<a target=\"_blank\" href=https://colab.research.google.com/notebooks/data_table.ipynb>data table notebook</a>'\n",
              "          + ' to learn more about interactive tables.';\n",
              "        element.innerHTML = '';\n",
              "        dataTable['output_type'] = 'display_data';\n",
              "        await google.colab.output.renderOutput(dataTable, element);\n",
              "        const docLink = document.createElement('div');\n",
              "        docLink.innerHTML = docLinkHtml;\n",
              "        element.appendChild(docLink);\n",
              "      }\n",
              "    </script>\n",
              "  </div>\n",
              "\n",
              "\n",
              "<div id=\"df-dd47a986-87fc-48d8-9d5a-7179012e0c56\">\n",
              "  <button class=\"colab-df-quickchart\" onclick=\"quickchart('df-dd47a986-87fc-48d8-9d5a-7179012e0c56')\"\n",
              "            title=\"Suggest charts\"\n",
              "            style=\"display:none;\">\n",
              "\n",
              "<svg xmlns=\"http://www.w3.org/2000/svg\" height=\"24px\"viewBox=\"0 0 24 24\"\n",
              "     width=\"24px\">\n",
              "    <g>\n",
              "        <path d=\"M19 3H5c-1.1 0-2 .9-2 2v14c0 1.1.9 2 2 2h14c1.1 0 2-.9 2-2V5c0-1.1-.9-2-2-2zM9 17H7v-7h2v7zm4 0h-2V7h2v10zm4 0h-2v-4h2v4z\"/>\n",
              "    </g>\n",
              "</svg>\n",
              "  </button>\n",
              "\n",
              "<style>\n",
              "  .colab-df-quickchart {\n",
              "      --bg-color: #E8F0FE;\n",
              "      --fill-color: #1967D2;\n",
              "      --hover-bg-color: #E2EBFA;\n",
              "      --hover-fill-color: #174EA6;\n",
              "      --disabled-fill-color: #AAA;\n",
              "      --disabled-bg-color: #DDD;\n",
              "  }\n",
              "\n",
              "  [theme=dark] .colab-df-quickchart {\n",
              "      --bg-color: #3B4455;\n",
              "      --fill-color: #D2E3FC;\n",
              "      --hover-bg-color: #434B5C;\n",
              "      --hover-fill-color: #FFFFFF;\n",
              "      --disabled-bg-color: #3B4455;\n",
              "      --disabled-fill-color: #666;\n",
              "  }\n",
              "\n",
              "  .colab-df-quickchart {\n",
              "    background-color: var(--bg-color);\n",
              "    border: none;\n",
              "    border-radius: 50%;\n",
              "    cursor: pointer;\n",
              "    display: none;\n",
              "    fill: var(--fill-color);\n",
              "    height: 32px;\n",
              "    padding: 0;\n",
              "    width: 32px;\n",
              "  }\n",
              "\n",
              "  .colab-df-quickchart:hover {\n",
              "    background-color: var(--hover-bg-color);\n",
              "    box-shadow: 0 1px 2px rgba(60, 64, 67, 0.3), 0 1px 3px 1px rgba(60, 64, 67, 0.15);\n",
              "    fill: var(--button-hover-fill-color);\n",
              "  }\n",
              "\n",
              "  .colab-df-quickchart-complete:disabled,\n",
              "  .colab-df-quickchart-complete:disabled:hover {\n",
              "    background-color: var(--disabled-bg-color);\n",
              "    fill: var(--disabled-fill-color);\n",
              "    box-shadow: none;\n",
              "  }\n",
              "\n",
              "  .colab-df-spinner {\n",
              "    border: 2px solid var(--fill-color);\n",
              "    border-color: transparent;\n",
              "    border-bottom-color: var(--fill-color);\n",
              "    animation:\n",
              "      spin 1s steps(1) infinite;\n",
              "  }\n",
              "\n",
              "  @keyframes spin {\n",
              "    0% {\n",
              "      border-color: transparent;\n",
              "      border-bottom-color: var(--fill-color);\n",
              "      border-left-color: var(--fill-color);\n",
              "    }\n",
              "    20% {\n",
              "      border-color: transparent;\n",
              "      border-left-color: var(--fill-color);\n",
              "      border-top-color: var(--fill-color);\n",
              "    }\n",
              "    30% {\n",
              "      border-color: transparent;\n",
              "      border-left-color: var(--fill-color);\n",
              "      border-top-color: var(--fill-color);\n",
              "      border-right-color: var(--fill-color);\n",
              "    }\n",
              "    40% {\n",
              "      border-color: transparent;\n",
              "      border-right-color: var(--fill-color);\n",
              "      border-top-color: var(--fill-color);\n",
              "    }\n",
              "    60% {\n",
              "      border-color: transparent;\n",
              "      border-right-color: var(--fill-color);\n",
              "    }\n",
              "    80% {\n",
              "      border-color: transparent;\n",
              "      border-right-color: var(--fill-color);\n",
              "      border-bottom-color: var(--fill-color);\n",
              "    }\n",
              "    90% {\n",
              "      border-color: transparent;\n",
              "      border-bottom-color: var(--fill-color);\n",
              "    }\n",
              "  }\n",
              "</style>\n",
              "\n",
              "  <script>\n",
              "    async function quickchart(key) {\n",
              "      const quickchartButtonEl =\n",
              "        document.querySelector('#' + key + ' button');\n",
              "      quickchartButtonEl.disabled = true;  // To prevent multiple clicks.\n",
              "      quickchartButtonEl.classList.add('colab-df-spinner');\n",
              "      try {\n",
              "        const charts = await google.colab.kernel.invokeFunction(\n",
              "            'suggestCharts', [key], {});\n",
              "      } catch (error) {\n",
              "        console.error('Error during call to suggestCharts:', error);\n",
              "      }\n",
              "      quickchartButtonEl.classList.remove('colab-df-spinner');\n",
              "      quickchartButtonEl.classList.add('colab-df-quickchart-complete');\n",
              "    }\n",
              "    (() => {\n",
              "      let quickchartButtonEl =\n",
              "        document.querySelector('#df-dd47a986-87fc-48d8-9d5a-7179012e0c56 button');\n",
              "      quickchartButtonEl.style.display =\n",
              "        google.colab.kernel.accessAllowed ? 'block' : 'none';\n",
              "    })();\n",
              "  </script>\n",
              "</div>\n",
              "\n",
              "  <div id=\"id_886b6f0c-e8af-4b23-8f55-153d52234abe\">\n",
              "    <style>\n",
              "      .colab-df-generate {\n",
              "        background-color: #E8F0FE;\n",
              "        border: none;\n",
              "        border-radius: 50%;\n",
              "        cursor: pointer;\n",
              "        display: none;\n",
              "        fill: #1967D2;\n",
              "        height: 32px;\n",
              "        padding: 0 0 0 0;\n",
              "        width: 32px;\n",
              "      }\n",
              "\n",
              "      .colab-df-generate:hover {\n",
              "        background-color: #E2EBFA;\n",
              "        box-shadow: 0px 1px 2px rgba(60, 64, 67, 0.3), 0px 1px 3px 1px rgba(60, 64, 67, 0.15);\n",
              "        fill: #174EA6;\n",
              "      }\n",
              "\n",
              "      [theme=dark] .colab-df-generate {\n",
              "        background-color: #3B4455;\n",
              "        fill: #D2E3FC;\n",
              "      }\n",
              "\n",
              "      [theme=dark] .colab-df-generate:hover {\n",
              "        background-color: #434B5C;\n",
              "        box-shadow: 0px 1px 3px 1px rgba(0, 0, 0, 0.15);\n",
              "        filter: drop-shadow(0px 1px 2px rgba(0, 0, 0, 0.3));\n",
              "        fill: #FFFFFF;\n",
              "      }\n",
              "    </style>\n",
              "    <button class=\"colab-df-generate\" onclick=\"generateWithVariable('df_features')\"\n",
              "            title=\"Generate code using this dataframe.\"\n",
              "            style=\"display:none;\">\n",
              "\n",
              "  <svg xmlns=\"http://www.w3.org/2000/svg\" height=\"24px\"viewBox=\"0 0 24 24\"\n",
              "       width=\"24px\">\n",
              "    <path d=\"M7,19H8.4L18.45,9,17,7.55,7,17.6ZM5,21V16.75L18.45,3.32a2,2,0,0,1,2.83,0l1.4,1.43a1.91,1.91,0,0,1,.58,1.4,1.91,1.91,0,0,1-.58,1.4L9.25,21ZM18.45,9,17,7.55Zm-12,3A5.31,5.31,0,0,0,4.9,8.1,5.31,5.31,0,0,0,1,6.5,5.31,5.31,0,0,0,4.9,4.9,5.31,5.31,0,0,0,6.5,1,5.31,5.31,0,0,0,8.1,4.9,5.31,5.31,0,0,0,12,6.5,5.46,5.46,0,0,0,6.5,12Z\"/>\n",
              "  </svg>\n",
              "    </button>\n",
              "    <script>\n",
              "      (() => {\n",
              "      const buttonEl =\n",
              "        document.querySelector('#id_886b6f0c-e8af-4b23-8f55-153d52234abe button.colab-df-generate');\n",
              "      buttonEl.style.display =\n",
              "        google.colab.kernel.accessAllowed ? 'block' : 'none';\n",
              "\n",
              "      buttonEl.onclick = () => {\n",
              "        google.colab.notebook.generateWithVariable('df_features');\n",
              "      }\n",
              "      })();\n",
              "    </script>\n",
              "  </div>\n",
              "\n",
              "    </div>\n",
              "  </div>\n"
            ],
            "application/vnd.google.colaboratory.intrinsic+json": {
              "type": "dataframe",
              "variable_name": "df_features",
              "summary": "{\n  \"name\": \"df_features\",\n  \"rows\": 4760,\n  \"fields\": [\n    {\n      \"column\": \"Movie_Genre\",\n      \"properties\": {\n        \"dtype\": \"category\",\n        \"num_unique_values\": 1164,\n        \"samples\": [\n          \"Family Animation Adventure\",\n          \"Adventure Science Fiction Action\",\n          \"Action Crime Drama Romance Thriller\"\n        ],\n        \"semantic_type\": \"\",\n        \"description\": \"\"\n      }\n    },\n    {\n      \"column\": \"Movie_Keywords\",\n      \"properties\": {\n        \"dtype\": \"string\",\n        \"num_unique_values\": 4203,\n        \"samples\": [\n          \"canada nazis sequel spin off ancient evil\",\n          \"sex professor wedding woman director columbia university\",\n          \"prophecy sea beach gold small town\"\n        ],\n        \"semantic_type\": \"\",\n        \"description\": \"\"\n      }\n    },\n    {\n      \"column\": \"Movie_Tagline\",\n      \"properties\": {\n        \"dtype\": \"string\",\n        \"num_unique_values\": 3928,\n        \"samples\": [\n          \"The messenger must be silenced.\",\n          \"It's not the house that's haunted.\",\n          \"The final hunt begins.\"\n        ],\n        \"semantic_type\": \"\",\n        \"description\": \"\"\n      }\n    },\n    {\n      \"column\": \"Movie_Cast\",\n      \"properties\": {\n        \"dtype\": \"string\",\n        \"num_unique_values\": 4715,\n        \"samples\": [\n          \"Robin Tunney Fairuza Balk Neve Campbell Rachel True Skeet Ulrich\",\n          \"Peter Sellers Christopher Plummer Herbert Lom Catherine Schell Peter Arne\",\n          \"John Wayne Laraine Day Cedric Hardwicke Judith Anderson Anthony Quinn\"\n        ],\n        \"semantic_type\": \"\",\n        \"description\": \"\"\n      }\n    },\n    {\n      \"column\": \"Movie_Director\",\n      \"properties\": {\n        \"dtype\": \"category\",\n        \"num_unique_values\": 2332,\n        \"samples\": [\n          \"Rob McKittrick\",\n          \"Terron R. Parsons\",\n          \"Cyrus Nowrasteh\"\n        ],\n        \"semantic_type\": \"\",\n        \"description\": \"\"\n      }\n    }\n  ]\n}"
            }
          },
          "metadata": {},
          "execution_count": 8
        }
      ]
    },
    {
      "cell_type": "code",
      "source": [
        "x = df_features['Movie_Genre'] + ' ' + df_features['Movie_Keywords'] + ' ' + df_features['Movie_Tagline'] + ' ' + df_features['Movie_Cast']+ ' ' + df_features['Movie_Director']\n",
        "x.shape"
      ],
      "metadata": {
        "colab": {
          "base_uri": "https://localhost:8080/"
        },
        "id": "clbH2sq4eNkS",
        "outputId": "f5509111-9886-4f78-ecf4-59ef1b5f3d92"
      },
      "execution_count": 9,
      "outputs": [
        {
          "output_type": "execute_result",
          "data": {
            "text/plain": [
              "(4760,)"
            ]
          },
          "metadata": {},
          "execution_count": 9
        }
      ]
    },
    {
      "cell_type": "markdown",
      "source": [
        "#Features Text Converted to Tokens"
      ],
      "metadata": {
        "id": "eMRb6b8LeSYY"
      }
    },
    {
      "cell_type": "code",
      "source": [
        "from sklearn.feature_extraction.text import TfidfVectorizer\n",
        "tfidf = TfidfVectorizer()\n",
        "x = tfidf.fit_transform(x)\n",
        "x.shape"
      ],
      "metadata": {
        "colab": {
          "base_uri": "https://localhost:8080/"
        },
        "id": "XJjFZb8seYBh",
        "outputId": "edfc5a2e-3581-4dc9-d7a6-31abab4ee2ab"
      },
      "execution_count": 10,
      "outputs": [
        {
          "output_type": "execute_result",
          "data": {
            "text/plain": [
              "(4760, 17258)"
            ]
          },
          "metadata": {},
          "execution_count": 10
        }
      ]
    },
    {
      "cell_type": "code",
      "source": [
        "print(x)"
      ],
      "metadata": {
        "colab": {
          "base_uri": "https://localhost:8080/"
        },
        "id": "3GTLDppWegcE",
        "outputId": "f755bf3b-6ba9-473f-d38a-210d0ac296b1"
      },
      "execution_count": 11,
      "outputs": [
        {
          "output_type": "stream",
          "name": "stdout",
          "text": [
            "  (0, 617)\t0.1633382144407513\n",
            "  (0, 492)\t0.1432591540388685\n",
            "  (0, 15413)\t0.1465525095337543\n",
            "  (0, 9675)\t0.14226057295252661\n",
            "  (0, 9465)\t0.1659841367820977\n",
            "  (0, 1390)\t0.16898383612799558\n",
            "  (0, 7825)\t0.09799561597509843\n",
            "  (0, 1214)\t0.13865857545144072\n",
            "  (0, 729)\t0.13415063359531618\n",
            "  (0, 13093)\t0.1432591540388685\n",
            "  (0, 15355)\t0.10477815972666779\n",
            "  (0, 9048)\t0.0866842116160778\n",
            "  (0, 11161)\t0.06250380151644369\n",
            "  (0, 16773)\t0.17654247479915475\n",
            "  (0, 5612)\t0.08603537588547631\n",
            "  (0, 16735)\t0.10690083751525419\n",
            "  (0, 7904)\t0.13348000542112332\n",
            "  (0, 15219)\t0.09800472886453934\n",
            "  (0, 11242)\t0.07277788238484746\n",
            "  (0, 3878)\t0.11998399582562203\n",
            "  (0, 5499)\t0.11454057510303811\n",
            "  (0, 7071)\t0.19822417598406614\n",
            "  (0, 7454)\t0.14745635785412262\n",
            "  (0, 1495)\t0.19712637387361423\n",
            "  (0, 9206)\t0.15186283580984414\n",
            "  :\t:\n",
            "  (4757, 5455)\t0.12491480594769522\n",
            "  (4757, 2967)\t0.16273475835631626\n",
            "  (4757, 8464)\t0.23522565554066333\n",
            "  (4757, 6938)\t0.17088173678136628\n",
            "  (4757, 8379)\t0.17480603856721913\n",
            "  (4757, 15303)\t0.07654356007668191\n",
            "  (4757, 15384)\t0.09754322497537371\n",
            "  (4757, 7649)\t0.11479421494340192\n",
            "  (4757, 10896)\t0.14546473055066447\n",
            "  (4757, 4494)\t0.05675298448720501\n",
            "  (4758, 5238)\t1.0\n",
            "  (4759, 11264)\t0.33947721804318337\n",
            "  (4759, 11708)\t0.33947721804318337\n",
            "  (4759, 205)\t0.3237911628497312\n",
            "  (4759, 8902)\t0.3040290704566037\n",
            "  (4759, 14062)\t0.3237911628497312\n",
            "  (4759, 3058)\t0.2812896191863103\n",
            "  (4759, 7130)\t0.26419662449963793\n",
            "  (4759, 10761)\t0.3126617295732147\n",
            "  (4759, 4358)\t0.18306542312175342\n",
            "  (4759, 14051)\t0.20084315377640435\n",
            "  (4759, 5690)\t0.19534291014627303\n",
            "  (4759, 15431)\t0.19628653185946862\n",
            "  (4759, 1490)\t0.21197258705292082\n",
            "  (4759, 10666)\t0.15888268987343043\n"
          ]
        }
      ]
    },
    {
      "cell_type": "markdown",
      "source": [
        "#Similarity Score Using Cosine Similarity"
      ],
      "metadata": {
        "id": "EmTi8cMOekAx"
      }
    },
    {
      "cell_type": "code",
      "source": [
        "from sklearn.metrics.pairwise import cosine_similarity\n",
        "Similarity_Score = cosine_similarity(x)\n",
        "Similarity_Score"
      ],
      "metadata": {
        "colab": {
          "base_uri": "https://localhost:8080/"
        },
        "id": "06iFr0tMepzS",
        "outputId": "98118f57-2943-4b89-ce1c-fe7bc788f31c"
      },
      "execution_count": 12,
      "outputs": [
        {
          "output_type": "execute_result",
          "data": {
            "text/plain": [
              "array([[1.        , 0.01351235, 0.03570468, ..., 0.        , 0.        ,\n",
              "        0.        ],\n",
              "       [0.01351235, 1.        , 0.00806674, ..., 0.        , 0.        ,\n",
              "        0.        ],\n",
              "       [0.03570468, 0.00806674, 1.        , ..., 0.        , 0.08014876,\n",
              "        0.        ],\n",
              "       ...,\n",
              "       [0.        , 0.        , 0.        , ..., 1.        , 0.        ,\n",
              "        0.        ],\n",
              "       [0.        , 0.        , 0.08014876, ..., 0.        , 1.        ,\n",
              "        0.        ],\n",
              "       [0.        , 0.        , 0.        , ..., 0.        , 0.        ,\n",
              "        1.        ]])"
            ]
          },
          "metadata": {},
          "execution_count": 12
        }
      ]
    },
    {
      "cell_type": "code",
      "source": [
        "Similarity_Score.shape"
      ],
      "metadata": {
        "colab": {
          "base_uri": "https://localhost:8080/"
        },
        "id": "ccY0sB4SewZQ",
        "outputId": "2a63c1f1-081a-4525-def0-d7feecb4025a"
      },
      "execution_count": 13,
      "outputs": [
        {
          "output_type": "execute_result",
          "data": {
            "text/plain": [
              "(4760, 4760)"
            ]
          },
          "metadata": {},
          "execution_count": 13
        }
      ]
    },
    {
      "cell_type": "markdown",
      "source": [
        "#Get Movie Name as Input form User & Validate for Closest Spelling"
      ],
      "metadata": {
        "id": "jgbfasJweypF"
      }
    },
    {
      "cell_type": "code",
      "source": [
        "Favourite_Movie_Name = input(' Enter your favourite movie name :')"
      ],
      "metadata": {
        "colab": {
          "base_uri": "https://localhost:8080/"
        },
        "id": "Ud7HpcAHe2u2",
        "outputId": "faa75d66-db17-4941-e8e7-f45b39dac1b6"
      },
      "execution_count": 14,
      "outputs": [
        {
          "name": "stdout",
          "output_type": "stream",
          "text": [
            " Enter your favourite movie name :New Year\n"
          ]
        }
      ]
    },
    {
      "cell_type": "code",
      "source": [
        "All_Movies_Title_List = df['Movie_Title'].tolist()"
      ],
      "metadata": {
        "id": "4SR4ZB82fD7i"
      },
      "execution_count": 15,
      "outputs": []
    },
    {
      "cell_type": "code",
      "source": [
        "import difflib"
      ],
      "metadata": {
        "id": "k1aEukhzfGGH"
      },
      "execution_count": 16,
      "outputs": []
    },
    {
      "cell_type": "code",
      "source": [
        "Movie_Recommendation = difflib.get_close_matches(Favourite_Movie_Name, All_Movies_Title_List)\n",
        "print(Movie_Recommendation)"
      ],
      "metadata": {
        "colab": {
          "base_uri": "https://localhost:8080/"
        },
        "id": "TYhDySYBfIyU",
        "outputId": "56de09ae-ec49-45d0-c03f-d972718c84a0"
      },
      "execution_count": 17,
      "outputs": [
        {
          "output_type": "stream",
          "name": "stdout",
          "text": [
            "[\"New Year's Eve\", 'Leap Year', 'The Big Year']\n"
          ]
        }
      ]
    },
    {
      "cell_type": "code",
      "source": [
        "Close_Match = Movie_Recommendation[0]\n",
        "print(Close_Match)"
      ],
      "metadata": {
        "colab": {
          "base_uri": "https://localhost:8080/"
        },
        "id": "bLosLb7ffLkI",
        "outputId": "aea5abae-3966-45d5-9f5a-372d17412e16"
      },
      "execution_count": 18,
      "outputs": [
        {
          "output_type": "stream",
          "name": "stdout",
          "text": [
            "New Year's Eve\n"
          ]
        }
      ]
    },
    {
      "cell_type": "code",
      "source": [
        "Index_of_Close_Match_Movie = df[df.Movie_Title == Close_Match]['Movie_ID'].values[0]\n",
        "print(Index_of_Close_Match_Movie)"
      ],
      "metadata": {
        "colab": {
          "base_uri": "https://localhost:8080/"
        },
        "id": "6m8u9SgbfN5D",
        "outputId": "7f68b42e-27ab-4642-bd96-b37eec9ed26e"
      },
      "execution_count": 19,
      "outputs": [
        {
          "output_type": "stream",
          "name": "stdout",
          "text": [
            "3647\n"
          ]
        }
      ]
    },
    {
      "cell_type": "code",
      "source": [
        "Recommendation_Score = list(enumerate(Similarity_Score[Index_of_Close_Match_Movie]))\n",
        "print(Recommendation_Score)"
      ],
      "metadata": {
        "colab": {
          "base_uri": "https://localhost:8080/"
        },
        "id": "TdqZyy-ffRO1",
        "outputId": "50d39665-a25a-4cb5-e73e-e72ca926b993"
      },
      "execution_count": 20,
      "outputs": [
        {
          "output_type": "stream",
          "name": "stdout",
          "text": [
            "[(0, 0.03127795571612317), (1, 0.0), (2, 0.01209974320878397), (3, 0.0025261473046874284), (4, 0.003031912326575776), (5, 0.0028820832315816333), (6, 0.019055233117240795), (7, 0.0227803550990403), (8, 0.015205277389667878), (9, 0.0), (10, 0.015027635427402824), (11, 0.0029756585687888194), (12, 0.0030685923093562552), (13, 0.009354765544098472), (14, 0.010182237114045714), (15, 0.0026504501200700016), (16, 0.0023950542983237613), (17, 0.0), (18, 0.0027553964224529257), (19, 0.013508483814934413), (20, 0.003005615597988687), (21, 0.03628879574341744), (22, 0.0), (23, 0.002994466865737593), (24, 0.009144410036183256), (25, 0.0023769839073894835), (26, 0.020711961632454146), (27, 0.0), (28, 0.0), (29, 0.002736428107837018), (30, 0.0), (31, 0.002702475119774487), (32, 0.01227801152847699), (33, 0.002539470623337583), (34, 0.0029901096258232378), (35, 0.010267581505872666), (36, 0.0), (37, 0.010158060490122037), (38, 0.0), (39, 0.0), (40, 0.0), (41, 0.00319743987738356), (42, 0.0), (43, 0.024133951643191192), (44, 0.002392010153267279), (45, 0.04561180044096085), (46, 0.01034235770437714), (47, 0.00987680080186576), (48, 0.0031662033233125922), (49, 0.0), (50, 0.013925969939211464), (51, 0.0030232944333083967), (52, 0.002747513823017479), (53, 0.010544249584808898), (54, 0.0), (55, 0.0), (56, 0.0), (57, 0.009177120889748773), (58, 0.0), (59, 0.0), (60, 0.011976810181604975), (61, 0.002836986862067202), (62, 0.003172539245889458), (63, 0.011142905041869117), (64, 0.0), (65, 0.0), (66, 0.0028679281721916278), (67, 0.0), (68, 0.0030475296753207006), (69, 0.015483478624033323), (70, 0.0), (71, 0.0029438389769601407), (72, 0.0), (73, 0.0), (74, 0.003056107458598202), (75, 0.0), (76, 0.03338557893060171), (77, 0.0), (78, 0.00935355714065008), (79, 0.0028645732272000405), (80, 0.012920771748435042), (81, 0.01379276163315745), (82, 0.02132564813606344), (83, 0.017947047484428526), (84, 0.0), (85, 0.002764373085640026), (86, 0.0), (87, 0.0318473632260696), (88, 0.027533464612548478), (89, 0.019968973480162938), (90, 0.0), (91, 0.012484005893836367), (92, 0.0025288211616562766), (93, 0.0), (94, 0.012949736969741991), (95, 0.0), (96, 0.015710806884792806), (97, 0.002521721500590385), (98, 0.002813741971498342), (99, 0.0), (100, 0.0), (101, 0.0), (102, 0.0), (103, 0.0876177268167373), (104, 0.00289167418309559), (105, 0.10752712146219268), (106, 0.013067120040161051), (107, 0.003259057769275712), (108, 0.03002686877694815), (109, 0.0028648271221282827), (110, 0.0144120562325466), (111, 0.0026693531273386875), (112, 0.0027664490258616954), (113, 0.020663809293983818), (114, 0.014014285729364761), (115, 0.002938250001265359), (116, 0.0027120521125787614), (117, 0.0), (118, 0.0), (119, 0.04379213034822375), (120, 0.03762862428720324), (121, 0.012868073274131498), (122, 0.0), (123, 0.003143866151227008), (124, 0.002623860388406072), (125, 0.0), (126, 0.002711198432237745), (127, 0.002797935673219795), (128, 0.0), (129, 0.002006587437025407), (130, 0.05177568181991727), (131, 0.03438846948222693), (132, 0.0025475900080735216), (133, 0.0), (134, 0.0), (135, 0.0), (136, 0.02320499514486888), (137, 0.0), (138, 0.0), (139, 0.0), (140, 0.0656625713344349), (141, 0.020094574559782245), (142, 0.10728067717895527), (143, 0.0), (144, 0.013229221468213344), (145, 0.0), (146, 0.0), (147, 0.06064589139516531), (148, 0.0), (149, 0.03616113294178965), (150, 0.0), (151, 0.0), (152, 0.0), (153, 0.0), (154, 0.01314213941805418), (155, 0.008303456119607568), (156, 0.00233433480658555), (157, 0.002736731008460918), (158, 0.012558941799728102), (159, 0.0022489712674295965), (160, 0.016233401037188424), (161, 0.002582883521425364), (162, 0.0), (163, 0.0), (164, 0.013322485700955785), (165, 0.0024840587010895496), (166, 0.0025377756457871784), (167, 0.002776002191244998), (168, 0.0), (169, 0.013755873235366551), (170, 0.022858891036961648), (171, 0.0), (172, 0.002882644942920554), (173, 0.003011611174266788), (174, 0.0028383316019663517), (175, 0.011822479830968152), (176, 0.002952674567475966), (177, 0.0), (178, 0.02165365823614887), (179, 0.013554379218160726), (180, 0.0), (181, 0.040969922514726406), (182, 0.01692833151627932), (183, 0.0026353610436679865), (184, 0.0025303862752083183), (185, 0.0), (186, 0.011792588847066295), (187, 0.024738186042584223), (188, 0.0), (189, 0.0), (190, 0.022437663061261617), (191, 0.02687114160099535), (192, 0.003107925632842413), (193, 0.022380933044785313), (194, 0.02829524360548113), (195, 0.0024152976037595925), (196, 0.011759983585907588), (197, 0.002713219364937077), (198, 0.0029155399708244464), (199, 0.012766298504472317), (200, 0.01818822035674876), (201, 0.024434542236366794), (202, 0.04049539707806533), (203, 0.0027189242197766758), (204, 0.0030020564934889727), (205, 0.0), (206, 0.003048194793215549), (207, 0.0), (208, 0.0030507239736711554), (209, 0.06815822566426206), (210, 0.0645629406247413), (211, 0.003003560911378264), (212, 0.041941625176569394), (213, 0.0026744611909300647), (214, 0.0), (215, 0.016499268177381107), (216, 0.08046723153896136), (217, 0.0), (218, 0.034961221506958455), (219, 0.0), (220, 0.0), (221, 0.020126385317875955), (222, 0.0025291699923913253), (223, 0.0), (224, 0.038035366469055844), (225, 0.0), (226, 0.002873139430924557), (227, 0.0030709872568711943), (228, 0.045369552563224655), (229, 0.013053010459483937), (230, 0.0), (231, 0.0), (232, 0.0365450166342791), (233, 0.0), (234, 0.0), (235, 0.003243375184902173), (236, 0.03187497039785558), (237, 0.018054899304974583), (238, 0.0029308010975112285), (239, 0.0), (240, 0.0), (241, 0.011100100143370314), (242, 0.0024879162336073186), (243, 0.0020230551027161613), (244, 0.0), (245, 0.0), (246, 0.0479219398192151), (247, 0.0028412061982217574), (248, 0.0), (249, 0.002520074228769391), (250, 0.0), (251, 0.002462910969183581), (252, 0.0025453293600055274), (253, 0.003141696243247365), (254, 0.0031672231630836254), (255, 0.003009066186068598), (256, 0.0021467768323412957), (257, 0.0), (258, 0.0), (259, 0.0), (260, 0.0), (261, 0.0), (262, 0.0030187346312129677), (263, 0.0), (264, 0.0), (265, 0.011153624737991441), (266, 0.0022109894020924887), (267, 0.002435154066568138), (268, 0.002562909371661266), (269, 0.002465685956275863), (270, 0.07064258763287726), (271, 0.002202216774117577), (272, 0.0), (273, 0.013684216135027061), (274, 0.030189979271161956), (275, 0.011767187898622355), (276, 0.019408497054351197), (277, 0.0), (278, 0.00247486928248364), (279, 0.013107130039538575), (280, 0.002866020181799248), (281, 0.050335233188247085), (282, 0.002830880191678611), (283, 0.0021028581571116856), (284, 0.0), (285, 0.018642528925667548), (286, 0.06296962750137464), (287, 0.0026962896758353527), (288, 0.0), (289, 0.0), (290, 0.0), (291, 0.0), (292, 0.002787946461098001), (293, 0.022096243962021537), (294, 0.008859909673003485), (295, 0.0), (296, 0.01049342774904168), (297, 0.0), (298, 0.0), (299, 0.0), (300, 0.021202273146834174), (301, 0.0), (302, 0.0), (303, 0.0), (304, 0.021591743579402408), (305, 0.0), (306, 0.0), (307, 0.002695359495026382), (308, 0.037946364472506565), (309, 0.0022855290169436797), (310, 0.010691036321152423), (311, 0.021982000323322575), (312, 0.0), (313, 0.0), (314, 0.0), (315, 0.017765015617890043), (316, 0.0), (317, 0.02971361193884718), (318, 0.00314029072991987), (319, 0.011406323528970475), (320, 0.03558373944361679), (321, 0.0), (322, 0.05271834280578619), (323, 0.047526531188353816), (324, 0.030406860455432866), (325, 0.0027153936600366317), (326, 0.003519077585636266), (327, 0.0), (328, 0.0), (329, 0.03539389635173353), (330, 0.011729056897189522), (331, 0.0), (332, 0.0), (333, 0.009897638373824947), (334, 0.010012727744732936), (335, 0.0), (336, 0.017964328752246544), (337, 0.0), (338, 0.0), (339, 0.0), (340, 0.0), (341, 0.02521682976733983), (342, 0.003130313577031057), (343, 0.014107145285603669), (344, 0.0), (345, 0.0), (346, 0.0028553296797687797), (347, 0.031919756266970904), (348, 0.0028445549574069254), (349, 0.03917781169022408), (350, 0.01524230114208209), (351, 0.0021923286327449236), (352, 0.0), (353, 0.0029184357694615045), (354, 0.016207445976179968), (355, 0.012910226052997385), (356, 0.08486582631591973), (357, 0.01208196253232939), (358, 0.002794713832218291), (359, 0.015578080013190117), (360, 0.02222236665923798), (361, 0.0), (362, 0.0), (363, 0.0154090455917777), (364, 0.002472115718821465), (365, 0.0), (366, 0.009074490370354474), (367, 0.0), (368, 0.0), (369, 0.008516103340152395), (370, 0.06998418333158189), (371, 0.0031620067544352645), (372, 0.002677398520955087), (373, 0.03629264246121876), (374, 0.00283510346118605), (375, 0.0), (376, 0.0), (377, 0.01442578766766725), (378, 0.0028858401391539477), (379, 0.0), (380, 0.0), (381, 0.009088387841438674), (382, 0.0), (383, 0.009917178158503577), (384, 0.0), (385, 0.0), (386, 0.018441657649827015), (387, 0.0027100806583472037), (388, 0.058764574311175904), (389, 0.0), (390, 0.0), (391, 0.0), (392, 0.0), (393, 0.0), (394, 0.0), (395, 0.0030830097734775527), (396, 0.002761367840210159), (397, 0.0), (398, 0.0), (399, 0.03144363185490758), (400, 0.016819171942306893), (401, 0.0), (402, 0.003503010790270095), (403, 0.002435579886565391), (404, 0.0), (405, 0.0), (406, 0.0029317692809629485), (407, 0.020162191228450865), (408, 0.002716791969196999), (409, 0.010244609781939055), (410, 0.002673367321895267), (411, 0.0), (412, 0.0023476020442857446), (413, 0.0), (414, 0.01671224494429645), (415, 0.0), (416, 0.0026332287061795337), (417, 0.0), (418, 0.0), (419, 0.0032363549146461534), (420, 0.0), (421, 0.0), (422, 0.032641418706438136), (423, 0.0), (424, 0.0), (425, 0.0), (426, 0.0), (427, 0.0), (428, 0.002594325257385687), (429, 0.054125131635234205), (430, 0.003092862903881052), (431, 0.0033888284985386123), (432, 0.0024445646075276213), (433, 0.0138854689733153), (434, 0.0362286433790473), (435, 0.05673531300461296), (436, 0.003214990670733337), (437, 0.002726588379217022), (438, 0.0), (439, 0.02993979029517709), (440, 0.0), (441, 0.013878310594158236), (442, 0.0023826561517744857), (443, 0.016194010418947073), (444, 0.023585979448638168), (445, 0.0024599445118642796), (446, 0.002803153800354678), (447, 0.0029837930165106754), (448, 0.003316766679181152), (449, 0.002598856203557417), (450, 0.0031530947151202854), (451, 0.022351002641671173), (452, 0.010545088438328304), (453, 0.0021972968194231145), (454, 0.0), (455, 0.002039065049507069), (456, 0.00304446888728614), (457, 0.0026373579653051937), (458, 0.022967833536865902), (459, 0.013638123163648583), (460, 0.0), (461, 0.0), (462, 0.038415113225566816), (463, 0.0026631075155935926), (464, 0.0028403470456590785), (465, 0.0026234015450989634), (466, 0.0028409067146493994), (467, 0.013900636931889022), (468, 0.0), (469, 0.023307330742622208), (470, 0.0223257535674318), (471, 0.0130748842367332), (472, 0.002958311195876125), (473, 0.029506871941347147), (474, 0.01922310453210135), (475, 0.001004557484433803), (476, 0.0031542965677886963), (477, 0.014127245239022323), (478, 0.0032521053989725424), (479, 0.0772678018942189), (480, 0.002521519536161528), (481, 0.0031249890421261085), (482, 0.0029993102386311706), (483, 0.0030339737964230518), (484, 0.0), (485, 0.028177200277732073), (486, 0.0), (487, 0.03248452103402136), (488, 0.002779429251640067), (489, 0.025322455644094802), (490, 0.0028454609976557256), (491, 0.0), (492, 0.08038428011571903), (493, 0.0030509479109501634), (494, 0.0), (495, 0.0025415314888909417), (496, 0.027073697612561464), (497, 0.0), (498, 0.0), (499, 0.003127172210873247), (500, 0.0), (501, 0.015903614649260173), (502, 0.003008269619332147), (503, 0.017796411795591632), (504, 0.0028908992497515087), (505, 0.0027298011631597553), (506, 0.0), (507, 0.002698167429058313), (508, 0.03750144596723028), (509, 0.014358271082421029), (510, 0.011191514613472339), (511, 0.0), (512, 0.0), (513, 0.0), (514, 0.0), (515, 0.002590166688589674), (516, 0.0), (517, 0.0), (518, 0.0033687280576234924), (519, 0.01817465180388127), (520, 0.031608552724821576), (521, 0.010713501675399285), (522, 0.0027893388736056624), (523, 0.0), (524, 0.04303537219980402), (525, 0.0), (526, 0.0036134206203608716), (527, 0.011084075390621131), (528, 0.0), (529, 0.0), (530, 0.06366248915176106), (531, 0.0), (532, 0.010332746483604676), (533, 0.0032320026607466222), (534, 0.002838083507051244), (535, 0.0), (536, 0.03131185811502526), (537, 0.0), (538, 0.0), (539, 0.013799023179047763), (540, 0.0), (541, 0.037605533496908664), (542, 0.051692864781816186), (543, 0.035342968632086615), (544, 0.002916035646271382), (545, 0.0), (546, 0.010736219881361506), (547, 0.002422702872301841), (548, 0.0), (549, 0.027942703051338055), (550, 0.0), (551, 0.002984288947249096), (552, 0.0), (553, 0.0), (554, 0.0), (555, 0.0), (556, 0.0), (557, 0.017258484403171796), (558, 0.002649736673030672), (559, 0.0), (560, 0.0), (561, 0.01039849655059208), (562, 0.0021800060070749105), (563, 0.002591125438713543), (564, 0.0030104544318651574), (565, 0.0), (566, 0.0024107823419542546), (567, 0.0), (568, 0.013078717993155293), (569, 0.0), (570, 0.0), (571, 0.00221553891835694), (572, 0.0), (573, 0.0), (574, 0.0), (575, 0.011678350477331815), (576, 0.06053476803942752), (577, 0.0), (578, 0.0027120266874021363), (579, 0.03306162470457808), (580, 0.03812601263308746), (581, 0.066429662724543), (582, 0.0), (583, 0.0), (584, 0.002973308288846725), (585, 0.0), (586, 0.0), (587, 0.02263799683042624), (588, 0.0029859654067574903), (589, 0.01297569439560433), (590, 0.002648431175001638), (591, 0.0), (592, 0.0), (593, 0.002930912569942231), (594, 0.0025684132986351763), (595, 0.0), (596, 0.0032196540696871967), (597, 0.012585778233219942), (598, 0.013045017475119516), (599, 0.0), (600, 0.011708740537422168), (601, 0.0), (602, 0.0), (603, 0.0), (604, 0.1211782075963796), (605, 0.051977526475438116), (606, 0.014457729895338424), (607, 0.002214241508685027), (608, 0.002604777369720739), (609, 0.011108857584028298), (610, 0.014020466856182504), (611, 0.004616746025245765), (612, 0.018022833918445197), (613, 0.0), (614, 0.0242874106849921), (615, 0.0), (616, 0.00239464169591279), (617, 0.0024260962981452728), (618, 0.0), (619, 0.03224600690101399), (620, 0.051443700858131526), (621, 0.0), (622, 0.003053373492748727), (623, 0.0030519203795405076), (624, 0.002628345732191821), (625, 0.0), (626, 0.0024351894350424694), (627, 0.003891002707977828), (628, 0.054001656609931004), (629, 0.0), (630, 0.04854421950632619), (631, 0.00295453495924781), (632, 0.0), (633, 0.0), (634, 0.017971970348386504), (635, 0.0), (636, 0.0029020400581884274), (637, 0.002975669830853975), (638, 0.0026484249977027827), (639, 0.01190755569471462), (640, 0.0), (641, 0.01002606817894857), (642, 0.0024820541496218085), (643, 0.002784530830706757), (644, 0.002729733722239154), (645, 0.027715514133414554), (646, 0.0027633405842397633), (647, 0.012284465168423025), (648, 0.017097398436970862), (649, 0.04554729772035316), (650, 0.0), (651, 0.016388562323195563), (652, 0.0029391835409939477), (653, 0.07885243368770695), (654, 0.0), (655, 0.002683386774496756), (656, 0.0), (657, 0.002551756782241549), (658, 0.06655110368233194), (659, 0.0026766721517639367), (660, 0.003001635336915115), (661, 0.0), (662, 0.0), (663, 0.0), (664, 0.0), (665, 0.05509289725484244), (666, 0.0), (667, 0.0), (668, 0.0), (669, 0.012882468177609041), (670, 0.003541303744043732), (671, 0.0), (672, 0.015136649670660116), (673, 0.02246261595064969), (674, 0.0), (675, 0.003133691707826676), (676, 0.0272446826570584), (677, 0.0), (678, 0.0), (679, 0.0), (680, 0.0030559535856836397), (681, 0.0), (682, 0.026339515121436074), (683, 0.023237912943449374), (684, 0.04220845454534264), (685, 0.0), (686, 0.0), (687, 0.0), (688, 0.00318321471887361), (689, 0.002857772731303517), (690, 0.0), (691, 0.0023224501321675796), (692, 0.03142262173238448), (693, 0.0027967888016160536), (694, 0.0027021907449755887), (695, 0.0), (696, 0.002892371794162985), (697, 0.002885545630114689), (698, 0.002718722035660816), (699, 0.0), (700, 0.0), (701, 0.003207658182665541), (702, 0.0), (703, 0.015078520001508165), (704, 0.0), (705, 0.0025439409798693165), (706, 0.01634922758054355), (707, 0.002416933333546917), (708, 0.0), (709, 0.0), (710, 0.023269938221742552), (711, 0.07654093298845509), (712, 0.0025387477334744566), (713, 0.0), (714, 0.011259060753045998), (715, 0.04868385735409095), (716, 0.003013293009311849), (717, 0.002996615513003272), (718, 0.0), (719, 0.002308535398979381), (720, 0.0), (721, 0.0032924592517114167), (722, 0.002581986750382021), (723, 0.019825907071538574), (724, 0.029909355076824566), (725, 0.0), (726, 0.0), (727, 0.0028231918349550566), (728, 0.003099294292783814), (729, 0.003204313614571653), (730, 0.0), (731, 0.02972695311741263), (732, 0.029450673652912013), (733, 0.0024862590349235287), (734, 0.01311231708870814), (735, 0.003923814449886408), (736, 0.0), (737, 0.0032410399038237192), (738, 0.0), (739, 0.0032789614990516975), (740, 0.02934407344975231), (741, 0.027593594209469382), (742, 0.015956484027840678), (743, 0.03487054073830948), (744, 0.002657402546289322), (745, 0.0), (746, 0.0), (747, 0.020396712873473156), (748, 0.0), (749, 0.002875260769863994), (750, 0.002927485060204119), (751, 0.0), (752, 0.0), (753, 0.036005658778998764), (754, 0.0), (755, 0.002792579909523671), (756, 0.009771159830184319), (757, 0.0022953356724260015), (758, 0.0), (759, 0.029694805348295), (760, 0.03411858828438674), (761, 0.0326196397928796), (762, 0.0), (763, 0.010505033136854915), (764, 0.0), (765, 0.0), (766, 0.002658807982562467), (767, 0.0027258443192937722), (768, 0.014385615342730708), (769, 0.002835915896955535), (770, 0.0), (771, 0.0), (772, 0.0), (773, 0.0), (774, 0.002977401672583551), (775, 0.022062057901048624), (776, 0.010156110412261679), (777, 0.0335589426365258), (778, 0.0), (779, 0.009511827134721164), (780, 0.0), (781, 0.0), (782, 0.0027573901567889965), (783, 0.017691528420237308), (784, 0.0), (785, 0.01410984990386501), (786, 0.0), (787, 0.019397010919919605), (788, 0.025710364873688565), (789, 0.0), (790, 0.0), (791, 0.00308695705342675), (792, 0.0030566568300762252), (793, 0.0), (794, 0.0031054227059328777), (795, 0.0), (796, 0.011623905783877533), (797, 0.0), (798, 0.0027422144295430424), (799, 0.002801256861992159), (800, 0.0025828257014479947), (801, 0.0), (802, 0.0), (803, 0.0), (804, 0.002584519043265752), (805, 0.002657231081229802), (806, 0.021242277871060554), (807, 0.008834871455777476), (808, 0.0025332557085362374), (809, 0.0), (810, 0.01709251722391083), (811, 0.032844063512927006), (812, 0.0), (813, 0.0032273867190520944), (814, 0.0), (815, 0.037704779983306284), (816, 0.002338799176256474), (817, 0.0027807681859026378), (818, 0.01322680675730168), (819, 0.0), (820, 0.0), (821, 0.0), (822, 0.0), (823, 0.003312182257561034), (824, 0.009749817156974677), (825, 0.0), (826, 0.034783394598445753), (827, 0.0), (828, 0.1077362387598256), (829, 0.0323997468715984), (830, 0.003020640337817959), (831, 0.0020285923486943968), (832, 0.002921761398235844), (833, 0.0), (834, 0.013807539484272336), (835, 0.013162175556831265), (836, 0.0), (837, 0.04084263676045139), (838, 0.002671983172243104), (839, 0.0), (840, 0.0), (841, 0.0), (842, 0.0), (843, 0.002363105154106752), (844, 0.006194497279473689), (845, 0.022161139154073303), (846, 0.01873293023200378), (847, 0.02427425362709289), (848, 0.0028979647509350284), (849, 0.0), (850, 0.0029253602995299127), (851, 0.01803239927559783), (852, 0.0027487519227551026), (853, 0.013124700976840584), (854, 0.0027423661271917987), (855, 0.0), (856, 0.027739385286291433), (857, 0.0031731896321561433), (858, 0.01146149906936225), (859, 0.0), (860, 0.0033293883031271635), (861, 0.02808542240679607), (862, 0.012284936453471531), (863, 0.019349487486271303), (864, 0.0029036111122863082), (865, 0.014376175374506453), (866, 0.0026713588009345556), (867, 0.00283199698274719), (868, 0.0026679639205974977), (869, 0.033212425134598995), (870, 0.031225271634212366), (871, 0.0029525021024590244), (872, 0.003076282765728536), (873, 0.0), (874, 0.0024780654700701818), (875, 0.019438155388182596), (876, 0.05674309715177312), (877, 0.0), (878, 0.002714089282086735), (879, 0.0029979116764411442), (880, 0.0028322700750845215), (881, 0.008777776670201977), (882, 0.0), (883, 0.0027449449350235035), (884, 0.002989642794669475), (885, 0.002577425085570847), (886, 0.0026939555052119643), (887, 0.003124489151906911), (888, 0.0031847418744643317), (889, 0.02724276824684837), (890, 0.014602094260604175), (891, 0.0), (892, 0.0), (893, 0.0), (894, 0.04924600577935385), (895, 0.013044129216892469), (896, 0.04783731465905237), (897, 0.0028953870889468123), (898, 0.0), (899, 0.002648865837019842), (900, 0.002686709899144963), (901, 0.0023800775812469446), (902, 0.0), (903, 0.002693558320699991), (904, 0.0), (905, 0.016312395120959937), (906, 0.01404257970917995), (907, 0.002642533342079788), (908, 0.0), (909, 0.0), (910, 0.0026304249912908833), (911, 0.00272233849245433), (912, 0.0), (913, 0.0), (914, 0.0), (915, 0.0), (916, 0.027906356208371952), (917, 0.0025720783280484163), (918, 0.0), (919, 0.0), (920, 0.0), (921, 0.0026743507328950756), (922, 0.003223919199915617), (923, 0.0027672766805375767), (924, 0.012195499717477583), (925, 0.0033040817410128673), (926, 0.026036661177656496), (927, 0.0), (928, 0.0), (929, 0.012114896341994615), (930, 0.022468176244721055), (931, 0.017698318278456405), (932, 0.0), (933, 0.002934672185774864), (934, 0.012760192575838446), (935, 0.002672749112528914), (936, 0.012597636009838445), (937, 0.0033572227819664404), (938, 0.0324729511758817), (939, 0.030762707196626833), (940, 0.014405904253312292), (941, 0.0026913495901127256), (942, 0.026514737221290528), (943, 0.0), (944, 0.01304442356928821), (945, 0.0), (946, 0.0), (947, 0.0038761968000154117), (948, 0.0), (949, 0.0034179548239382596), (950, 0.0), (951, 0.002425802401484794), (952, 0.046548485041183106), (953, 0.002313642010868056), (954, 0.0), (955, 0.0), (956, 0.0), (957, 0.015500213882193515), (958, 0.0), (959, 0.002791074305087943), (960, 0.0), (961, 0.0), (962, 0.002724730732643276), (963, 0.040251578027783744), (964, 0.00927634111971633), (965, 0.0), (966, 0.01602742693996036), (967, 0.0031725414743024633), (968, 0.0026029950411047983), (969, 0.002932965216199519), (970, 0.009401441501882107), (971, 0.0), (972, 0.008523214706442097), (973, 0.027686958856353406), (974, 0.0), (975, 0.015891227863361945), (976, 0.0), (977, 0.0), (978, 0.0), (979, 0.009839530191538697), (980, 0.02127417866263301), (981, 0.01260475060659914), (982, 0.0), (983, 0.0), (984, 0.0027333217699355545), (985, 0.0032871092242896427), (986, 0.002871339882972225), (987, 0.0029804695724016646), (988, 0.0028541584754501375), (989, 0.04328106155739669), (990, 0.0), (991, 0.0030845270300744903), (992, 0.0), (993, 0.0028946670757500443), (994, 0.02091839268592868), (995, 0.0), (996, 0.0), (997, 0.0), (998, 0.0373991658586283), (999, 0.023977302334812423), (1000, 0.002584569763375383), (1001, 0.0027386981436723847), (1002, 0.030771133651601938), (1003, 0.0), (1004, 0.0025756005559976537), (1005, 0.033470728498658696), (1006, 0.003002108722014396), (1007, 0.0030251158612910355), (1008, 0.015175946827930529), (1009, 0.002549186893967764), (1010, 0.011774148079818948), (1011, 0.0), (1012, 0.0), (1013, 0.0), (1014, 0.0), (1015, 0.003106209545730549), (1016, 0.02610296726143555), (1017, 0.0027930175574994026), (1018, 0.0), (1019, 0.0054535922261471255), (1020, 0.0027568361270003893), (1021, 0.002862278651926198), (1022, 0.0), (1023, 0.00323004885266033), (1024, 0.0), (1025, 0.00991601034682618), (1026, 0.0028197243526804274), (1027, 0.013388179623298163), (1028, 0.013917425175236928), (1029, 0.0), (1030, 0.02049061849901829), (1031, 0.0), (1032, 0.0308048925334256), (1033, 0.013420288908372494), (1034, 0.0027518557064509196), (1035, 0.002791566478516804), (1036, 0.030760592628407846), (1037, 0.002337514623263047), (1038, 0.0), (1039, 0.012655716753911733), (1040, 0.0022443529287547036), (1041, 0.0026973133465324674), (1042, 0.002399928872143392), (1043, 0.04924311009298016), (1044, 0.013563036350393572), (1045, 0.0), (1046, 0.00945122653005449), (1047, 0.0), (1048, 0.021997230527541663), (1049, 0.003407350708628398), (1050, 0.002448034342431657), (1051, 0.0), (1052, 0.002660254746312067), (1053, 0.0033798338492624625), (1054, 0.0), (1055, 0.0), (1056, 0.0), (1057, 0.0), (1058, 0.0), (1059, 0.002844438508976795), (1060, 0.016378024256807112), (1061, 0.0), (1062, 0.0), (1063, 0.0), (1064, 0.003481383435715402), (1065, 0.0026263964505383965), (1066, 0.0), (1067, 0.0), (1068, 0.013041056212039794), (1069, 0.0), (1070, 0.0), (1071, 0.003066502611660399), (1072, 0.0028461005975126304), (1073, 0.0), (1074, 0.0), (1075, 0.0030270653643562433), (1076, 0.01072620132062673), (1077, 0.0029356395165537983), (1078, 0.0023930291639834168), (1079, 0.002642482768374073), (1080, 0.002586848423565046), (1081, 0.010237522392559345), (1082, 0.010928526384561894), (1083, 0.014567426171776103), (1084, 0.0028156880680128013), (1085, 0.0), (1086, 0.0), (1087, 0.002921383694517983), (1088, 0.0024564103441653434), (1089, 0.012233850383802217), (1090, 0.022133533647323803), (1091, 0.0), (1092, 0.0), (1093, 0.0), (1094, 0.0), (1095, 0.04542185455958806), (1096, 0.0027955537106256535), (1097, 0.0), (1098, 0.011416968404429408), (1099, 0.0), (1100, 0.030206953495241974), (1101, 0.0), (1102, 0.002851924501308534), (1103, 0.015195496353736272), (1104, 0.0), (1105, 0.0), (1106, 0.0), (1107, 0.045982667278420604), (1108, 0.0), (1109, 0.01882281940655642), (1110, 0.013762055114165452), (1111, 0.0), (1112, 0.032484387738190346), (1113, 0.0), (1114, 0.030386387824843698), (1115, 0.0), (1116, 0.01493903704958962), (1117, 0.0027604737911383387), (1118, 0.0), (1119, 0.022600568095816), (1120, 0.0), (1121, 0.03294133921275229), (1122, 0.014254246680986038), (1123, 0.0027309788972095395), (1124, 0.027259474892637255), (1125, 0.0), (1126, 0.0), (1127, 0.03340775016045567), (1128, 0.0), (1129, 0.0), (1130, 0.01364097020531148), (1131, 0.002883123138025714), (1132, 0.002730905118487163), (1133, 0.011103507934524831), (1134, 0.0), (1135, 0.016434848101443834), (1136, 0.002519182956873797), (1137, 0.0), (1138, 0.0029067797738119502), (1139, 0.08098200926315191), (1140, 0.0030767624848569647), (1141, 0.003070865003120234), (1142, 0.0), (1143, 0.0), (1144, 0.011162508715659892), (1145, 0.003973548054848064), (1146, 0.01768912931520572), (1147, 0.0), (1148, 0.003244409279741584), (1149, 0.0), (1150, 0.0), (1151, 0.0), (1152, 0.016960986332311724), (1153, 0.0), (1154, 0.0), (1155, 0.0), (1156, 0.0), (1157, 0.010209780115053961), (1158, 0.0), (1159, 0.011012244207755052), (1160, 0.0027274587069637058), (1161, 0.0025939147793492276), (1162, 0.0), (1163, 0.002868468761159405), (1164, 0.014400883922525287), (1165, 0.0), (1166, 0.033022939615935845), (1167, 0.0), (1168, 0.0034506223465848905), (1169, 0.05446355449685282), (1170, 0.0028767619123666937), (1171, 0.0), (1172, 0.0), (1173, 0.026298320472626664), (1174, 0.002937614343162226), (1175, 0.01713119457381876), (1176, 0.0029332119031935523), (1177, 0.0027068767484071795), (1178, 0.00945271480844994), (1179, 0.002873134865804545), (1180, 0.0), (1181, 0.06417110507036931), (1182, 0.0029317829262344866), (1183, 0.019106126938187442), (1184, 0.0032782122238134625), (1185, 0.0), (1186, 0.02896772210110998), (1187, 0.024870602496495316), (1188, 0.05481955731703181), (1189, 0.0), (1190, 0.0), (1191, 0.0028848661702851153), (1192, 0.022178468527623535), (1193, 0.0), (1194, 0.0), (1195, 0.03121852234337808), (1196, 0.0), (1197, 0.012965498575304994), (1198, 0.0), (1199, 0.0025348728293225946), (1200, 0.0), (1201, 0.0), (1202, 0.021314481610153674), (1203, 0.0026980054201221244), (1204, 0.0029154836171776865), (1205, 0.0), (1206, 0.013088303567229976), (1207, 0.030946554118411903), (1208, 0.003663496042780461), (1209, 0.002394587595769855), (1210, 0.008091414411719608), (1211, 0.013361931824389783), (1212, 0.10466948389682125), (1213, 0.0), (1214, 0.009330562869406188), (1215, 0.0024596393562330864), (1216, 0.002605717313703225), (1217, 0.0024946946219090906), (1218, 0.0), (1219, 0.002577859118802932), (1220, 0.02268004110804354), (1221, 0.0), (1222, 0.011821347222769693), (1223, 0.0028846477616356575), (1224, 0.002999591765205331), (1225, 0.0030314132674468374), (1226, 0.0), (1227, 0.017692574447225166), (1228, 0.019005267473402542), (1229, 0.0029999540407980602), (1230, 0.0), (1231, 0.0), (1232, 0.017105973130379756), (1233, 0.0), (1234, 0.003042877005192108), (1235, 0.01720049203841912), (1236, 0.0), (1237, 0.002608474729607109), (1238, 0.0), (1239, 0.011026353505758422), (1240, 0.0), (1241, 0.0023622671399345482), (1242, 0.0), (1243, 0.003134231547545714), (1244, 0.0), (1245, 0.0027854180605597976), (1246, 0.0), (1247, 0.002775440632887801), (1248, 0.020338142567462112), (1249, 0.0), (1250, 0.0), (1251, 0.02749946601216962), (1252, 0.0028469907545333557), (1253, 0.013904700542951981), (1254, 0.04325418809452349), (1255, 0.0161288708583297), (1256, 0.0), (1257, 0.043150992272117446), (1258, 0.0), (1259, 0.03739766663429045), (1260, 0.0), (1261, 0.013555730507963328), (1262, 0.013883773649980183), (1263, 0.017464983850161393), (1264, 0.09318489257963333), (1265, 0.0), (1266, 0.0), (1267, 0.030578083446318235), (1268, 0.0), (1269, 0.0), (1270, 0.03081431470139027), (1271, 0.0), (1272, 0.03174192118859248), (1273, 0.013324976139552558), (1274, 0.0), (1275, 0.003315635165956435), (1276, 0.021036040280206336), (1277, 0.010469995797253861), (1278, 0.0), (1279, 0.0), (1280, 0.0), (1281, 0.0), (1282, 0.0), (1283, 0.00978562539146805), (1284, 0.002797245097422684), (1285, 0.0), (1286, 0.0028170674257480505), (1287, 0.0), (1288, 0.012830419090804136), (1289, 0.0), (1290, 0.03624517834682532), (1291, 0.027897369872491033), (1292, 0.0), (1293, 0.017022895902233652), (1294, 0.014372977934571594), (1295, 0.0), (1296, 0.032325729404109535), (1297, 0.0), (1298, 0.0028576137028148473), (1299, 0.01920472526694247), (1300, 0.039606220649554956), (1301, 0.014830218197540641), (1302, 0.0), (1303, 0.002316809783159068), (1304, 0.0028744881774998574), (1305, 0.03734919721445939), (1306, 0.0020947633662247514), (1307, 0.0), (1308, 0.0026363536341502958), (1309, 0.0), (1310, 0.0), (1311, 0.0), (1312, 0.0024249681863266954), (1313, 0.035953187720439594), (1314, 0.01094625181444943), (1315, 0.0), (1316, 0.010012720251321284), (1317, 0.002328211609920157), (1318, 0.02908720529282245), (1319, 0.013736343630409747), (1320, 0.0), (1321, 0.0), (1322, 0.0), (1323, 0.0), (1324, 0.0030652135203530434), (1325, 0.00311456930151012), (1326, 0.028915399916936594), (1327, 0.0), (1328, 0.0), (1329, 0.0), (1330, 0.022990007459398006), (1331, 0.0), (1332, 0.0), (1333, 0.015037708541155857), (1334, 0.002949836077181785), (1335, 0.014140379173666229), (1336, 0.01920937532457828), (1337, 0.04463921319272161), (1338, 0.02586063484436038), (1339, 0.03466687553413218), (1340, 0.0024403291517978358), (1341, 0.014535836266451097), (1342, 0.044367608751610416), (1343, 0.0), (1344, 0.0), (1345, 0.0323243359448682), (1346, 0.0), (1347, 0.0), (1348, 0.009692537297402644), (1349, 0.0032377376890809673), (1350, 0.0027990723021430546), (1351, 0.05698325904995381), (1352, 0.0309922795326304), (1353, 0.0), (1354, 0.0), (1355, 0.0029426448904340224), (1356, 0.00243212464580085), (1357, 0.002648096543206683), (1358, 0.0), (1359, 0.003087758617284127), (1360, 0.0026152593256186405), (1361, 0.0), (1362, 0.0), (1363, 0.08171041052785993), (1364, 0.002983754465842333), (1365, 0.026242338001059663), (1366, 0.012629488976099943), (1367, 0.002399662819167025), (1368, 0.0), (1369, 0.02886465915952574), (1370, 0.002477694198202891), (1371, 0.044641395076299675), (1372, 0.00269554905658953), (1373, 0.017157949145657637), (1374, 0.033967004604783704), (1375, 0.04193174691092817), (1376, 0.0), (1377, 0.016604546337512693), (1378, 0.0028710928766784573), (1379, 0.03546448812723344), (1380, 0.0), (1381, 0.0), (1382, 0.03405234758033017), (1383, 0.023235894885898903), (1384, 0.00990354173147394), (1385, 0.0028771472997445677), (1386, 0.01131280494117566), (1387, 0.015324077594158868), (1388, 0.0), (1389, 0.0), (1390, 0.0), (1391, 0.0), (1392, 0.012448253062350756), (1393, 0.0), (1394, 0.0025458888577254662), (1395, 0.0), (1396, 0.0), (1397, 0.002484930461665832), (1398, 0.003326451205647543), (1399, 0.0), (1400, 0.02231361848944934), (1401, 0.0), (1402, 0.0030132177310337213), (1403, 0.002207776729184298), (1404, 0.0027162540113682757), (1405, 0.0), (1406, 0.0), (1407, 0.0), (1408, 0.03984539866928287), (1409, 0.034892047244169326), (1410, 0.0029042427172850803), (1411, 0.02759147383183825), (1412, 0.0), (1413, 0.0029162898472389364), (1414, 0.025070861702253436), (1415, 0.0023543100427341913), (1416, 0.03242801207516122), (1417, 0.0022430653664037756), (1418, 0.0), (1419, 0.032431659257586155), (1420, 0.0), (1421, 0.002770184308088393), (1422, 0.0027978275704485527), (1423, 0.029278836745604053), (1424, 0.0), (1425, 0.0), (1426, 0.0), (1427, 0.0023555467704941264), (1428, 0.0), (1429, 0.0034544928509569594), (1430, 0.023458878923750502), (1431, 0.0), (1432, 0.03027045495134224), (1433, 0.002673364653023522), (1434, 0.002623529003057816), (1435, 0.0), (1436, 0.0), (1437, 0.020730331491759502), (1438, 0.0028457771240739636), (1439, 0.0030087033555838815), (1440, 0.03581102833734945), (1441, 0.019721963198034508), (1442, 0.035133929152194245), (1443, 0.0), (1444, 0.0), (1445, 0.0), (1446, 0.0027537036219149277), (1447, 0.05243494246641066), (1448, 0.030136303558523855), (1449, 0.0), (1450, 0.028106116135079736), (1451, 0.0), (1452, 0.0), (1453, 0.011346066954019204), (1454, 0.0031562015993272284), (1455, 0.0), (1456, 0.019105904089370008), (1457, 0.0), (1458, 0.0), (1459, 0.0), (1460, 0.03921302690940692), (1461, 0.03398818949363712), (1462, 0.002635664494310405), (1463, 0.0027705415917855442), (1464, 0.011468787843057306), (1465, 0.014717005613313317), (1466, 0.012971984409887415), (1467, 0.008753869291811732), (1468, 0.0), (1469, 0.0), (1470, 0.0), (1471, 0.0021308998840552738), (1472, 0.017172382024780893), (1473, 0.0), (1474, 0.0032045980662017987), (1475, 0.0029956066541711106), (1476, 0.002911275649625131), (1477, 0.0026504295614759093), (1478, 0.05391789864169991), (1479, 0.0031516554061311957), (1480, 0.0), (1481, 0.019922566933738967), (1482, 0.0), (1483, 0.0028512452831325344), (1484, 0.0030396224028419847), (1485, 0.0), (1486, 0.0), (1487, 0.0), (1488, 0.02063583238775382), (1489, 0.0032288873011075605), (1490, 0.0), (1491, 0.0), (1492, 0.0), (1493, 0.010727854682821628), (1494, 0.0029602876900266264), (1495, 0.01434658513816955), (1496, 0.0), (1497, 0.03722226450207071), (1498, 0.003194650844174556), (1499, 0.036509831761015035), (1500, 0.013833675308848279), (1501, 0.0), (1502, 0.0), (1503, 0.06652833407810639), (1504, 0.0), (1505, 0.017761810921648885), (1506, 0.009588046382892698), (1507, 0.0), (1508, 0.010958435345097032), (1509, 0.001963051282777022), (1510, 0.002900936571203082), (1511, 0.015312575376113363), (1512, 0.018413825921347465), (1513, 0.002993367629653078), (1514, 0.032638096201288325), (1515, 0.0), (1516, 0.002959343028833173), (1517, 0.011078514532722147), (1518, 0.02279817154434732), (1519, 0.01294711868377516), (1520, 0.0), (1521, 0.0), (1522, 0.0), (1523, 0.0), (1524, 0.0), (1525, 0.0), (1526, 0.01347548994024758), (1527, 0.002812246764774104), (1528, 0.0026099788947523605), (1529, 0.0), (1530, 0.0), (1531, 0.05013731363848119), (1532, 0.0), (1533, 0.0029148615694484163), (1534, 0.0), (1535, 0.0), (1536, 0.0), (1537, 0.0030764936255184257), (1538, 0.012708541388329702), (1539, 0.03253380179504054), (1540, 0.020688937595859574), (1541, 0.0), (1542, 0.0), (1543, 0.002647428109210964), (1544, 0.0), (1545, 0.0), (1546, 0.0), (1547, 0.03952292218772439), (1548, 0.0), (1549, 0.010976296216239), (1550, 0.01380588557812441), (1551, 0.0), (1552, 0.0), (1553, 0.0025360639693054634), (1554, 0.0), (1555, 0.14626416658638516), (1556, 0.0), (1557, 0.0), (1558, 0.002671175815240921), (1559, 0.012204275745061482), (1560, 0.0), (1561, 0.01069556723860169), (1562, 0.013061561228892495), (1563, 0.019875876345696836), (1564, 0.0), (1565, 0.0024561882706490273), (1566, 0.011136370697462492), (1567, 0.0), (1568, 0.0), (1569, 0.04174872930981427), (1570, 0.0030220158284573456), (1571, 0.00237573156835542), (1572, 0.0180621832874254), (1573, 0.0), (1574, 0.002899776544702949), (1575, 0.0), (1576, 0.02309846996197553), (1577, 0.0), (1578, 0.0), (1579, 0.0), (1580, 0.003170834812572637), (1581, 0.0), (1582, 0.002758711701757645), (1583, 0.0), (1584, 0.0), (1585, 0.0), (1586, 0.008889886328062717), (1587, 0.0), (1588, 0.01473416330571469), (1589, 0.0), (1590, 0.0), (1591, 0.0), (1592, 0.0), (1593, 0.0034823649552466573), (1594, 0.044183532514280976), (1595, 0.0026004619209639536), (1596, 0.0), (1597, 0.002768045152675088), (1598, 0.0028365933493745277), (1599, 0.011266291576755159), (1600, 0.0), (1601, 0.0), (1602, 0.01837529136303031), (1603, 0.0), (1604, 0.0), (1605, 0.05377756696518849), (1606, 0.017018877613092537), (1607, 0.0), (1608, 0.01868480662309407), (1609, 0.0), (1610, 0.0), (1611, 0.0), (1612, 0.013942042462840743), (1613, 0.0), (1614, 0.0), (1615, 0.034413385222780646), (1616, 0.0025252343043507225), (1617, 0.04913068430893653), (1618, 0.028798086346218332), (1619, 0.0030622851518552854), (1620, 0.0026869178950349663), (1621, 0.002832792583752429), (1622, 0.017983662593413954), (1623, 0.0), (1624, 0.011393255507820207), (1625, 0.03511360199607949), (1626, 0.012777407833436534), (1627, 0.002456318962955346), (1628, 0.0026292692021867474), (1629, 0.040132462786336864), (1630, 0.0), (1631, 0.017357140821556444), (1632, 0.0), (1633, 0.0), (1634, 0.002848019162300006), (1635, 0.010912826539738543), (1636, 0.0), (1637, 0.0030823282018037413), (1638, 0.05861261211216979), (1639, 0.0), (1640, 0.0), (1641, 0.0026646867095712133), (1642, 0.002659495089609398), (1643, 0.003016798612068475), (1644, 0.01827397685319954), (1645, 0.002776003769744202), (1646, 0.008953225545881039), (1647, 0.0), (1648, 0.0104557600871054), (1649, 0.0), (1650, 0.012982839031748598), (1651, 0.0), (1652, 0.0), (1653, 0.002802181326563603), (1654, 0.01746290343352746), (1655, 0.0034954213252945615), (1656, 0.003294478992656111), (1657, 0.0), (1658, 0.0031813889800001915), (1659, 0.0), (1660, 0.014628654534022095), (1661, 0.0), (1662, 0.0), (1663, 0.0027070775964776837), (1664, 0.017326746880901307), (1665, 0.01927305315786769), (1666, 0.027712988542817268), (1667, 0.0026482696386490893), (1668, 0.0), (1669, 0.0), (1670, 0.003024422585237942), (1671, 0.002782068625967648), (1672, 0.015539623009034081), (1673, 0.0), (1674, 0.012138456176712283), (1675, 0.002617780320878438), (1676, 0.0), (1677, 0.002260719851451022), (1678, 0.05835103627882294), (1679, 0.025375442613172622), (1680, 0.028800285278766602), (1681, 0.0), (1682, 0.002696568269286305), (1683, 0.0030749417434870418), (1684, 0.0), (1685, 0.003040242604629061), (1686, 0.0), (1687, 0.0030467139292627526), (1688, 0.0029301730368043507), (1689, 0.0), (1690, 0.08016006264735505), (1691, 0.02243495314115231), (1692, 0.01395237655240941), (1693, 0.0026980031437663496), (1694, 0.05516676173980482), (1695, 0.0114137465164398), (1696, 0.02473945571826606), (1697, 0.04983174678588586), (1698, 0.009611539070243908), (1699, 0.0), (1700, 0.026878336401662713), (1701, 0.0), (1702, 0.0), (1703, 0.002973124726055322), (1704, 0.0), (1705, 0.0), (1706, 0.002899704878727603), (1707, 0.014417295165563549), (1708, 0.003086317588836964), (1709, 0.0), (1710, 0.05202097731585632), (1711, 0.0036034758673308127), (1712, 0.0030715167706990083), (1713, 0.0), (1714, 0.0), (1715, 0.009965924493031195), (1716, 0.003222644623412524), (1717, 0.002959422480558404), (1718, 0.0), (1719, 0.012635802252495446), (1720, 0.0), (1721, 0.0), (1722, 0.002901761075609701), (1723, 0.01717424086180255), (1724, 0.0), (1725, 0.015589590573538025), (1726, 0.0), (1727, 0.002987688616169211), (1728, 0.0), (1729, 0.0), (1730, 0.0026197662997960655), (1731, 0.0), (1732, 0.0), (1733, 0.0031507125277165805), (1734, 0.05848462502320611), (1735, 0.024151984020666352), (1736, 0.003008185301984186), (1737, 0.0), (1738, 0.010563568891092197), (1739, 0.04469941374584814), (1740, 0.002931295536926792), (1741, 0.011217467266697902), (1742, 0.0027170133618169114), (1743, 0.023920527793725735), (1744, 0.013356647220497442), (1745, 0.0), (1746, 0.0), (1747, 0.002236259153550461), (1748, 0.0033643165601158656), (1749, 0.0), (1750, 0.0), (1751, 0.0), (1752, 0.0), (1753, 0.00956479180123083), (1754, 0.003165457096350606), (1755, 0.0), (1756, 0.010493236978311322), (1757, 0.0), (1758, 0.0), (1759, 0.032063092236049494), (1760, 0.04176999170893268), (1761, 0.0), (1762, 0.0025634858783277407), (1763, 0.002460738489441703), (1764, 0.0024908126580375617), (1765, 0.03373229811678893), (1766, 0.0), (1767, 0.0), (1768, 0.002954396105763317), (1769, 0.014067574272538567), (1770, 0.025182455517635257), (1771, 0.013748064182254612), (1772, 0.0), (1773, 0.0), (1774, 0.012961157630069775), (1775, 0.0), (1776, 0.043525102708359215), (1777, 0.0), (1778, 0.0), (1779, 0.04973721645421189), (1780, 0.02365102669472885), (1781, 0.0), (1782, 0.002628165731491917), (1783, 0.0), (1784, 0.01661240853473285), (1785, 0.0), (1786, 0.019478615987538427), (1787, 0.0), (1788, 0.0), (1789, 0.052086042552490205), (1790, 0.035902296704958044), (1791, 0.034488790299559306), (1792, 0.003376901648939922), (1793, 0.0026932633682106855), (1794, 0.0), (1795, 0.0), (1796, 0.023990166860320097), (1797, 0.015526752525907248), (1798, 0.0030848417696263094), (1799, 0.0), (1800, 0.0), (1801, 0.0024132241339367517), (1802, 0.0), (1803, 0.01215218828594192), (1804, 0.0), (1805, 0.003130767486545167), (1806, 0.03212101919856257), (1807, 0.03199112620105009), (1808, 0.002577076389762284), (1809, 0.010056401416358317), (1810, 0.0), (1811, 0.01683851850200343), (1812, 0.0), (1813, 0.029995192058722878), (1814, 0.018952845692490082), (1815, 0.0), (1816, 0.0), (1817, 0.0), (1818, 0.023907540325052247), (1819, 0.0026770973448277443), (1820, 0.013113751140305588), (1821, 0.003015392044574128), (1822, 0.0030333629210782154), (1823, 0.0), (1824, 0.010459607605130365), (1825, 0.0), (1826, 0.0025984273835107908), (1827, 0.0025984838799181366), (1828, 0.026814760791010615), (1829, 0.01991380419844605), (1830, 0.018238805629509674), (1831, 0.0028412064271806222), (1832, 0.0), (1833, 0.01453551027960098), (1834, 0.0), (1835, 0.03160005520416525), (1836, 0.03302194895821386), (1837, 0.011018221481542823), (1838, 0.06933263678675441), (1839, 0.0), (1840, 0.0), (1841, 0.0), (1842, 0.028433058975124378), (1843, 0.0032591923937288123), (1844, 0.0), (1845, 0.014354865138575146), (1846, 0.0), (1847, 0.030003559387845012), (1848, 0.0030933314683335095), (1849, 0.047312096473308626), (1850, 0.04145252356791924), (1851, 0.002991591432935206), (1852, 0.0), (1853, 0.0030415962538655125), (1854, 0.033671359797010345), (1855, 0.0), (1856, 0.0), (1857, 0.0), (1858, 0.003215346054170577), (1859, 0.0), (1860, 0.002955183399657084), (1861, 0.01904710641414549), (1862, 0.003218240099274751), (1863, 0.0), (1864, 0.0027638195488995476), (1865, 0.07106686652099883), (1866, 0.0031376770998027387), (1867, 0.03352131496789621), (1868, 0.0), (1869, 0.002601696660465838), (1870, 0.0), (1871, 0.020927226418296176), (1872, 0.021409940717266165), (1873, 0.0), (1874, 0.0031054618167211884), (1875, 0.002638762160373571), (1876, 0.002890040905897998), (1877, 0.0027420460085675444), (1878, 0.002728394959034006), (1879, 0.0), (1880, 0.0), (1881, 0.0), (1882, 0.0028154489342210047), (1883, 0.0), (1884, 0.0026858020263976086), (1885, 0.003366916693936403), (1886, 0.002283946547506195), (1887, 0.003256396188116943), (1888, 0.02854661426141418), (1889, 0.0), (1890, 0.0031885025037644383), (1891, 0.002848600624492203), (1892, 0.0026092998105728994), (1893, 0.03439972416742426), (1894, 0.0), (1895, 0.04048887309214792), (1896, 0.003048402350072734), (1897, 0.0031156112531177792), (1898, 0.04968112604171894), (1899, 0.013146048850317909), (1900, 0.0), (1901, 0.05445255638966446), (1902, 0.05289715459098672), (1903, 0.013191237762363642), (1904, 0.0), (1905, 0.0031328143431522243), (1906, 0.01835672225048324), (1907, 0.02278544018152553), (1908, 0.0865553451124437), (1909, 0.05007553098251659), (1910, 0.009400458214446888), (1911, 0.0), (1912, 0.0), (1913, 0.010981036393879089), (1914, 0.013252912629141356), (1915, 0.10480303159873613), (1916, 0.0030281151029563865), (1917, 0.0), (1918, 0.003035254252264916), (1919, 0.047050199642825814), (1920, 0.0026569075923199245), (1921, 0.002568078543013881), (1922, 0.033303154446537836), (1923, 0.0031913302276188474), (1924, 0.0032828466568647473), (1925, 0.0), (1926, 0.054007543252242024), (1927, 0.0), (1928, 0.03147616857214596), (1929, 0.00273940407034569), (1930, 0.0), (1931, 0.050440229426879216), (1932, 0.0), (1933, 0.010846576068536869), (1934, 0.015157002184772707), (1935, 0.026706514524851586), (1936, 0.002936874459883361), (1937, 0.017396324648529377), (1938, 0.0), (1939, 0.0), (1940, 0.0), (1941, 0.02189649238727956), (1942, 0.0029235174681483964), (1943, 0.0025011389769220437), (1944, 0.0), (1945, 0.0), (1946, 0.0029528143316935097), (1947, 0.03786142997879573), (1948, 0.01728734006483136), (1949, 0.0), (1950, 0.0023471495927628034), (1951, 0.0030487510012086696), (1952, 0.04096091372453754), (1953, 0.0), (1954, 0.02889106438369192), (1955, 0.0), (1956, 0.0), (1957, 0.011846871101643989), (1958, 0.0), (1959, 0.028441934458051175), (1960, 0.029111683129712126), (1961, 0.0), (1962, 0.0), (1963, 0.02252608894149991), (1964, 0.10072630570602252), (1965, 0.030353796276652266), (1966, 0.010812412010655623), (1967, 0.0027915549552466885), (1968, 0.0033745849002516605), (1969, 0.01638176833846689), (1970, 0.0), (1971, 0.027066866101514802), (1972, 0.0), (1973, 0.01721005412971728), (1974, 0.012887052790191618), (1975, 0.0), (1976, 0.0), (1977, 0.012465786534244593), (1978, 0.0), (1979, 0.0), (1980, 0.0025773555309035532), (1981, 0.0), (1982, 0.010192134727696369), (1983, 0.00299273537721472), (1984, 0.0), (1985, 0.002903623290686486), (1986, 0.028739660369702193), (1987, 0.0), (1988, 0.04554276847238823), (1989, 0.002307984042749156), (1990, 0.03465520838383111), (1991, 0.0), (1992, 0.013174095992469692), (1993, 0.013463766737694272), (1994, 0.0), (1995, 0.0030898593491174766), (1996, 0.0), (1997, 0.003121995604938353), (1998, 0.0), (1999, 0.0), (2000, 0.022394524147787396), (2001, 0.0), (2002, 0.0), (2003, 0.0), (2004, 0.002700752132587715), (2005, 0.0), (2006, 0.0), (2007, 0.0), (2008, 0.0027944949545449477), (2009, 0.0), (2010, 0.0022692708228448802), (2011, 0.00261291003192682), (2012, 0.01279679150978924), (2013, 0.0), (2014, 0.028903060689956638), (2015, 0.0), (2016, 0.01762220909908577), (2017, 0.0), (2018, 0.0), (2019, 0.011051113756626155), (2020, 0.0), (2021, 0.0), (2022, 0.011183467000381407), (2023, 0.0412367678910608), (2024, 0.0027516818218666353), (2025, 0.0), (2026, 0.0), (2027, 0.013505452619647173), (2028, 0.0), (2029, 0.03184164715091275), (2030, 0.0), (2031, 0.002593023950061703), (2032, 0.10089232712246374), (2033, 0.0), (2034, 0.002367426799176649), (2035, 0.0024343255024028647), (2036, 0.0), (2037, 0.0031315669168172056), (2038, 0.0), (2039, 0.0024171207247758626), (2040, 0.003174576954550685), (2041, 0.029471534213336842), (2042, 0.0), (2043, 0.0), (2044, 0.0), (2045, 0.0029203115443136663), (2046, 0.025017090332529607), (2047, 0.04500756424557104), (2048, 0.002957598919391715), (2049, 0.003167912871274333), (2050, 0.01344614397354381), (2051, 0.0032647961452176803), (2052, 0.017061549870525675), (2053, 0.0029666932432933215), (2054, 0.0), (2055, 0.012689442855369121), (2056, 0.0), (2057, 0.0), (2058, 0.0), (2059, 0.015955429073842894), (2060, 0.048869854496738), (2061, 0.002910458616022818), (2062, 0.0), (2063, 0.0481686734696142), (2064, 0.0), (2065, 0.04575911463597498), (2066, 0.0), (2067, 0.014085147221182091), (2068, 0.013304196788325446), (2069, 0.0028232948503219613), (2070, 0.02821835192042123), (2071, 0.0), (2072, 0.002977583014910766), (2073, 0.020978603018258307), (2074, 0.0), (2075, 0.003765190787864507), (2076, 0.02750729090509722), (2077, 0.0), (2078, 0.0), (2079, 0.0), (2080, 0.002776349564155449), (2081, 0.0), (2082, 0.0), (2083, 0.0030071953150131218), (2084, 0.0), (2085, 0.0), (2086, 0.0), (2087, 0.002810517880927927), (2088, 0.03322436235407578), (2089, 0.003376528951550003), (2090, 0.0), (2091, 0.0029135288239233617), (2092, 0.0), (2093, 0.0), (2094, 0.0), (2095, 0.0), (2096, 0.02193995425259437), (2097, 0.003126976160308069), (2098, 0.0), (2099, 0.0026858307038269526), (2100, 0.02896005011843008), (2101, 0.01217691000436097), (2102, 0.002809195207355502), (2103, 0.04192969573121686), (2104, 0.003068843370600931), (2105, 0.0030598883322224316), (2106, 0.0), (2107, 0.0), (2108, 0.03619994086027057), (2109, 0.017111298942074936), (2110, 0.03773756282190832), (2111, 0.013714527255551511), (2112, 0.03892447731854619), (2113, 0.0), (2114, 0.0), (2115, 0.035994697629021404), (2116, 0.003101354903178132), (2117, 0.002756331546838504), (2118, 0.024348589104507393), (2119, 0.016429444190460954), (2120, 0.0), (2121, 0.019596360618069943), (2122, 0.014134331527119392), (2123, 0.00297429126670933), (2124, 0.011925164928230581), (2125, 0.0), (2126, 0.0029634380103744115), (2127, 0.002412313577588073), (2128, 0.0), (2129, 0.02846098090142459), (2130, 0.0), (2131, 0.0027604304887740164), (2132, 0.002400642087660179), (2133, 0.0027179455818987066), (2134, 0.003214165038630958), (2135, 0.0), (2136, 0.0), (2137, 0.004072730028505242), (2138, 0.0), (2139, 0.0), (2140, 0.0), (2141, 0.031173729980927205), (2142, 0.0033513607093480324), (2143, 0.030877644345312864), (2144, 0.06257602156532052), (2145, 0.0), (2146, 0.002455704911065596), (2147, 0.031568384644487205), (2148, 0.0029784001371455766), (2149, 0.030473536079367855), (2150, 0.0), (2151, 0.0030637248489112424), (2152, 0.0), (2153, 0.0), (2154, 0.0036806963245240125), (2155, 0.0029237650943248206), (2156, 0.028326997587620223), (2157, 0.002416244978669474), (2158, 0.0), (2159, 0.003168640053712634), (2160, 0.0), (2161, 0.00990807090563104), (2162, 0.003085825886021109), (2163, 0.09674141699259348), (2164, 0.0), (2165, 0.0), (2166, 0.002706243917553464), (2167, 0.0), (2168, 0.0), (2169, 0.002892108027516507), (2170, 0.020812046620461454), (2171, 0.0), (2172, 0.030130399852606862), (2173, 0.032116239988694055), (2174, 0.01387798124553271), (2175, 0.027463688951852486), (2176, 0.0031721480209705158), (2177, 0.0), (2178, 0.0), (2179, 0.0), (2180, 0.0), (2181, 0.0), (2182, 0.0), (2183, 0.010318657899745263), (2184, 0.0), (2185, 0.009968528361178078), (2186, 0.03371088191949424), (2187, 0.003297927040103028), (2188, 0.0035069155390398095), (2189, 0.0040336804358978), (2190, 0.054246038347675114), (2191, 0.0025770473866047593), (2192, 0.0028938032742953403), (2193, 0.014128331290472926), (2194, 0.0), (2195, 0.03252879903889417), (2196, 0.022385288202666158), (2197, 0.01980799352240105), (2198, 0.0), (2199, 0.0037405338532331537), (2200, 0.0), (2201, 0.0026730933136063597), (2202, 0.0), (2203, 0.0), (2204, 0.025211858820292588), (2205, 0.016577840409957526), (2206, 0.0), (2207, 0.0), (2208, 0.0), (2209, 0.03630983896508557), (2210, 0.01423518974429388), (2211, 0.027328410458368486), (2212, 0.0262362694532167), (2213, 0.030261243990287085), (2214, 0.003124327815602766), (2215, 0.0), (2216, 0.002816216967371336), (2217, 0.0), (2218, 0.0), (2219, 0.01350134590444136), (2220, 0.0), (2221, 0.020890237242583314), (2222, 0.014565514558046668), (2223, 0.003267229669347615), (2224, 0.002726716966661638), (2225, 0.0), (2226, 0.0028098095001940584), (2227, 0.019460594569626566), (2228, 0.049231673873327914), (2229, 0.003140291357162364), (2230, 0.0029510766001998516), (2231, 0.0), (2232, 0.0), (2233, 0.0), (2234, 0.04934425854962292), (2235, 0.0), (2236, 0.05187096901043952), (2237, 0.0025214800694479495), (2238, 0.0), (2239, 0.029377671713449644), (2240, 0.002521668936156729), (2241, 0.0), (2242, 0.0027312848584025323), (2243, 0.0), (2244, 0.03270980738056372), (2245, 0.013620174993975562), (2246, 0.0), (2247, 0.0), (2248, 0.02932139437882371), (2249, 0.0), (2250, 0.01693838554054483), (2251, 0.10763516596201891), (2252, 0.03346620842112463), (2253, 0.0), (2254, 0.03499879747902992), (2255, 0.003707341108835626), (2256, 0.0), (2257, 0.0036996238364822914), (2258, 0.0), (2259, 0.03130885173728706), (2260, 0.0030739422038478996), (2261, 0.020528813412515865), (2262, 0.010024817141767022), (2263, 0.0), (2264, 0.002552877128059808), (2265, 0.002608652129037465), (2266, 0.025345575773699645), (2267, 0.020859783220610884), (2268, 0.0027751992029649408), (2269, 0.003335063419180223), (2270, 0.012097087676943258), (2271, 0.0), (2272, 0.027625155611379508), (2273, 0.0), (2274, 0.029805517660363334), (2275, 0.0), (2276, 0.011429955459552705), (2277, 0.002912865002594971), (2278, 0.01855991701651155), (2279, 0.01364179487540235), (2280, 0.0), (2281, 0.0), (2282, 0.0), (2283, 0.0), (2284, 0.021282403791180567), (2285, 0.0025856662048428115), (2286, 0.04168035586351332), (2287, 0.0023973593762775087), (2288, 0.00303944718151701), (2289, 0.0028536347649206198), (2290, 0.018668984073540153), (2291, 0.009533271578883114), (2292, 0.033217936606907264), (2293, 0.00313221205606561), (2294, 0.0), (2295, 0.00291921957098027), (2296, 0.01487743819021173), (2297, 0.0), (2298, 0.0), (2299, 0.004595090168953213), (2300, 0.0), (2301, 0.0026285532662025145), (2302, 0.00326382874860339), (2303, 0.0027101279213109872), (2304, 0.0), (2305, 0.034015544888020346), (2306, 0.0036355752647801733), (2307, 0.0), (2308, 0.0), (2309, 0.013374488860036421), (2310, 0.003841989306614155), (2311, 0.027977105664053262), (2312, 0.0), (2313, 0.0029174152623136313), (2314, 0.0), (2315, 0.026785306580588825), (2316, 0.0), (2317, 0.00265879215441698), (2318, 0.0), (2319, 0.0029851521441971477), (2320, 0.03791544079846584), (2321, 0.0029522836070147032), (2322, 0.024575521010188246), (2323, 0.0025931445412514854), (2324, 0.007415046191801914), (2325, 0.036771633927131966), (2326, 0.0), (2327, 0.0), (2328, 0.0), (2329, 0.010914408145887285), (2330, 0.0), (2331, 0.0), (2332, 0.0), (2333, 0.0), (2334, 0.0029576487578024265), (2335, 0.0), (2336, 0.02889696321396197), (2337, 0.0), (2338, 0.0025961862208734045), (2339, 0.0), (2340, 0.057987021148851875), (2341, 0.0), (2342, 0.0), (2343, 0.0), (2344, 0.0028795062267736463), (2345, 0.0), (2346, 0.0032671814861823935), (2347, 0.0026415495483582876), (2348, 0.030720471171732964), (2349, 0.045158101108336304), (2350, 0.0036924762394492903), (2351, 0.021836850897798757), (2352, 0.0), (2353, 0.0), (2354, 0.0028763982514882604), (2355, 0.002395651803659333), (2356, 0.003212289927591115), (2357, 0.0), (2358, 0.0), (2359, 0.08656940326913713), (2360, 0.0), (2361, 0.003047957694644368), (2362, 0.0026340683731465764), (2363, 0.0), (2364, 0.0), (2365, 0.0), (2366, 0.0), (2367, 0.0027506243332192353), (2368, 0.021108670776706383), (2369, 0.0), (2370, 0.0029937287232809817), (2371, 0.0), (2372, 0.01237333932355188), (2373, 0.0), (2374, 0.0029122193587065486), (2375, 0.0031568568078406732), (2376, 0.023507559168825916), (2377, 0.0), (2378, 0.003381714937817028), (2379, 0.004147049101349971), (2380, 0.024496823053466576), (2381, 0.0), (2382, 0.0024615337234853807), (2383, 0.0), (2384, 0.0), (2385, 0.0030265527240915524), (2386, 0.0029378503744985464), (2387, 0.03254387179717454), (2388, 0.04356939676632421), (2389, 0.0), (2390, 0.03575402609624046), (2391, 0.0030690876201284294), (2392, 0.0037519162233633817), (2393, 0.0030665681282229275), (2394, 0.003027851266413837), (2395, 0.0), (2396, 0.03291122030996141), (2397, 0.0029224722117239914), (2398, 0.01064659524255711), (2399, 0.012923987956133554), (2400, 0.00325011859573894), (2401, 0.0316972239225749), (2402, 0.029536683520284948), (2403, 0.0033119076438850956), (2404, 0.0039084115597658176), (2405, 0.002988653114718455), (2406, 0.003375314327254203), (2407, 0.003972110707144032), (2408, 0.03207935634489774), (2409, 0.0), (2410, 0.0031523522108134203), (2411, 0.01585382097690777), (2412, 0.0024951002792581874), (2413, 0.0), (2414, 0.0), (2415, 0.003486831318740068), (2416, 0.013799016534154792), (2417, 0.03818708903176232), (2418, 0.0030459263739294517), (2419, 0.003018940579213726), (2420, 0.0), (2421, 0.0), (2422, 0.020548001247458314), (2423, 0.003621363260845033), (2424, 0.0), (2425, 0.0037242036486330515), (2426, 0.0), (2427, 0.003337809783796064), (2428, 0.003171190088822146), (2429, 0.0), (2430, 0.002915421909308425), (2431, 0.0), (2432, 0.0), (2433, 0.0), (2434, 0.03899038623366687), (2435, 0.017488653392704757), (2436, 0.0032116527287137904), (2437, 0.0032615997894070133), (2438, 0.003559295311138441), (2439, 0.015020164669879847), (2440, 0.00583652698941615), (2441, 0.026410652172530812), (2442, 0.02622939194228704), (2443, 0.009195048139843322), (2444, 0.0), (2445, 0.01297894566727899), (2446, 0.04322212887073297), (2447, 0.0024645549575259963), (2448, 0.0037527528565692407), (2449, 0.0), (2450, 0.0), (2451, 0.0), (2452, 0.015272204206806084), (2453, 0.002641029170324658), (2454, 0.0034698755875822336), (2455, 0.0), (2456, 0.0), (2457, 0.0025848622914315658), (2458, 0.0), (2459, 0.039697533096197224), (2460, 0.04186266758426624), (2461, 0.002786134872487914), (2462, 0.0), (2463, 0.0028245613878919297), (2464, 0.0031514991336767024), (2465, 0.01706911555222951), (2466, 0.03349491735092849), (2467, 0.0027723899053599234), (2468, 0.0), (2469, 0.002249801585321911), (2470, 0.0), (2471, 0.0), (2472, 0.014146240644138561), (2473, 0.00273666325792554), (2474, 0.033037163646528145), (2475, 0.0030902310055274536), (2476, 0.0), (2477, 0.0031046327712681873), (2478, 0.03744082217743328), (2479, 0.0), (2480, 0.0), (2481, 0.01762814768391898), (2482, 0.0026486856828617355), (2483, 0.03832426706463416), (2484, 0.0038421104824170804), (2485, 0.012453247510551917), (2486, 0.03395665356169507), (2487, 0.0), (2488, 0.003511773788074098), (2489, 0.002928411531180608), (2490, 0.004141664156864856), (2491, 0.026792934083829777), (2492, 0.0028915179092952785), (2493, 0.0), (2494, 0.0030980707087752708), (2495, 0.0028732793388617874), (2496, 0.0026872563452485392), (2497, 0.0), (2498, 0.0), (2499, 0.0), (2500, 0.0), (2501, 0.0), (2502, 0.033015938503814284), (2503, 0.0), (2504, 0.0), (2505, 0.0031912572351744245), (2506, 0.0), (2507, 0.03542941600686348), (2508, 0.009210552835704116), (2509, 0.02680208201018877), (2510, 0.0), (2511, 0.01896292148073755), (2512, 0.0323807630187552), (2513, 0.010320207353381225), (2514, 0.026720092936833743), (2515, 0.037390754815386326), (2516, 0.0), (2517, 0.0), (2518, 0.0), (2519, 0.0), (2520, 0.012137187139594087), (2521, 0.0), (2522, 0.003062532902924637), (2523, 0.0), (2524, 0.011362918242980725), (2525, 0.031065360102545975), (2526, 0.013888831285479868), (2527, 0.0024714576940517595), (2528, 0.002668516037219088), (2529, 0.004171250633287274), (2530, 0.003652237426715805), (2531, 0.0029947384148436224), (2532, 0.0), (2533, 0.032803105092169604), (2534, 0.011209528426627067), (2535, 0.045344728356291504), (2536, 0.0), (2537, 0.04474113561806087), (2538, 0.010048612115342621), (2539, 0.0), (2540, 0.002738699521716759), (2541, 0.009442771872547061), (2542, 0.0), (2543, 0.0), (2544, 0.0), (2545, 0.002993776339596468), (2546, 0.00299139424171969), (2547, 0.0), (2548, 0.0), (2549, 0.0), (2550, 0.01879050836330851), (2551, 0.0), (2552, 0.040896207500533896), (2553, 0.020637055554068688), (2554, 0.002898842963152243), (2555, 0.019189063728389685), (2556, 0.01298252817538863), (2557, 0.03260964944258727), (2558, 0.03393871443771274), (2559, 0.07825131417269432), (2560, 0.0032979987698274426), (2561, 0.002997891670334993), (2562, 0.013334745273102048), (2563, 0.04923102541853841), (2564, 0.0), (2565, 0.0030482644612005944), (2566, 0.0), (2567, 0.0), (2568, 0.003514427486291963), (2569, 0.013834630894500644), (2570, 0.024226820805737195), (2571, 0.03187370202827359), (2572, 0.02490689518340711), (2573, 0.01155913274648576), (2574, 0.0), (2575, 0.0), (2576, 0.0), (2577, 0.0), (2578, 0.0), (2579, 0.003220941890528567), (2580, 0.023480792682830303), (2581, 0.013905070368198375), (2582, 0.0), (2583, 0.01414010542572953), (2584, 0.0), (2585, 0.036307329897748604), (2586, 0.014287635595360063), (2587, 0.012424848603082253), (2588, 0.0), (2589, 0.0), (2590, 0.0), (2591, 0.03786343830006589), (2592, 0.003181186425327012), (2593, 0.002651178472616761), (2594, 0.027857208387692744), (2595, 0.00311671950582499), (2596, 0.0), (2597, 0.0), (2598, 0.002718676205392949), (2599, 0.0), (2600, 0.0), (2601, 0.0029968012065012596), (2602, 0.0023843129520908966), (2603, 0.0024134186326440995), (2604, 0.05782155129525529), (2605, 0.031438943243745555), (2606, 0.11698139676308768), (2607, 0.02923412186356615), (2608, 0.0), (2609, 0.003064973074592807), (2610, 0.003036805651864943), (2611, 0.0024652336873529647), (2612, 0.016394284711174475), (2613, 0.038422956822347754), (2614, 0.006240264628720286), (2615, 0.0), (2616, 0.0), (2617, 0.029918356903101087), (2618, 0.0), (2619, 0.003460451118330489), (2620, 0.0), (2621, 0.002500017870907618), (2622, 0.0), (2623, 0.0032530527903549366), (2624, 0.0031442663389551397), (2625, 0.003301427896665341), (2626, 0.0), (2627, 0.0), (2628, 0.042695516449708634), (2629, 0.0032619328766224547), (2630, 0.0), (2631, 0.028243822770123425), (2632, 0.0028059894319409306), (2633, 0.017821006014188654), (2634, 0.0026849812130380337), (2635, 0.0), (2636, 0.032840064141053886), (2637, 0.0), (2638, 0.0032649173423974385), (2639, 0.0), (2640, 0.1047343845278388), (2641, 0.0), (2642, 0.0027685256097028333), (2643, 0.0037163516428172197), (2644, 0.03425962148314654), (2645, 0.041973691372144885), (2646, 0.020271502913622758), (2647, 0.0029103961070409724), (2648, 0.011473979630223714), (2649, 0.00405898059743209), (2650, 0.0029855225194559258), (2651, 0.002718702013914111), (2652, 0.002905040765132709), (2653, 0.00277292104327366), (2654, 0.026281631527752872), (2655, 0.0038080744895908313), (2656, 0.0), (2657, 0.0), (2658, 0.05781862818940283), (2659, 0.042840667608671876), (2660, 0.007265972053417024), (2661, 0.003084745065351441), (2662, 0.0), (2663, 0.010878646097288072), (2664, 0.0030634785422696733), (2665, 0.0), (2666, 0.0), (2667, 0.0), (2668, 0.0029566529219387716), (2669, 0.0), (2670, 0.018956945178492685), (2671, 0.0), (2672, 0.0), (2673, 0.003822580774221801), (2674, 0.002645159714321769), (2675, 0.0), (2676, 0.0), (2677, 0.0), (2678, 0.004679859633984801), (2679, 0.013248668124827114), (2680, 0.0), (2681, 0.01702685800799733), (2682, 0.0), (2683, 0.0), (2684, 0.0), (2685, 0.030564711035577327), (2686, 0.009615582581198925), (2687, 0.15457801099964155), (2688, 0.0), (2689, 0.0), (2690, 0.010566558852000769), (2691, 0.0), (2692, 0.0024952762541183417), (2693, 0.0551321024799047), (2694, 0.0038277056106560815), (2695, 0.0028770780910571106), (2696, 0.15439118141607236), (2697, 0.02152523746392268), (2698, 0.031776705586117844), (2699, 0.0), (2700, 0.0), (2701, 0.0), (2702, 0.049994267392814644), (2703, 0.0899712639869717), (2704, 0.0), (2705, 0.0031114063302953437), (2706, 0.002731858820208978), (2707, 0.0033725454584408003), (2708, 0.0), (2709, 0.0), (2710, 0.020570025906363965), (2711, 0.01740770174413991), (2712, 0.03524876804424945), (2713, 0.0), (2714, 0.0030411627914071105), (2715, 0.024084322660916792), (2716, 0.0027678457279428164), (2717, 0.0), (2718, 0.01942119361099853), (2719, 0.011808758952763372), (2720, 0.0033678483444203795), (2721, 0.0024968555468886677), (2722, 0.004033948918129803), (2723, 0.07517824904831748), (2724, 0.002553414917392461), (2725, 0.003073145559981997), (2726, 0.03071025727386662), (2727, 0.06394030547681959), (2728, 0.002615567242767781), (2729, 0.011871414676418803), (2730, 0.0), (2731, 0.0038571698149111756), (2732, 0.0), (2733, 0.0), (2734, 0.03248259857922711), (2735, 0.030113217465817597), (2736, 0.0), (2737, 0.0), (2738, 0.0033910721201849538), (2739, 0.01843038694052042), (2740, 0.003235413160227511), (2741, 0.002587296874982205), (2742, 0.0), (2743, 0.002463661624694637), (2744, 0.014510513257130835), (2745, 0.0029004315229682323), (2746, 0.0029217158525934642), (2747, 0.012131709970893915), (2748, 0.003124726513660916), (2749, 0.02706748958266327), (2750, 0.0), (2751, 0.010552111289002188), (2752, 0.002748394165369946), (2753, 0.027377253067723324), (2754, 0.0), (2755, 0.003038510455048244), (2756, 0.0), (2757, 0.004398157528342265), (2758, 0.002440467319931005), (2759, 0.013740712124886059), (2760, 0.0022055517924733084), (2761, 0.0024727931627539657), (2762, 0.03328360667960303), (2763, 0.0), (2764, 0.004093896324855012), (2765, 0.0027314076297445034), (2766, 0.056370285420850076), (2767, 0.0022418520585369426), (2768, 0.004084704495733725), (2769, 0.0033917111440733205), (2770, 0.0), (2771, 0.01796183235315435), (2772, 0.003403917685725141), (2773, 0.0), (2774, 0.0), (2775, 0.04427659787053625), (2776, 0.0030948616739042453), (2777, 0.002658862824025377), (2778, 0.003474603214473957), (2779, 0.002743122408692486), (2780, 0.0), (2781, 0.0), (2782, 0.018895996227732803), (2783, 0.002891841555210749), (2784, 0.0029370807912387975), (2785, 0.0), (2786, 0.003077233063034494), (2787, 0.04567653872939939), (2788, 0.0), (2789, 0.0), (2790, 0.0), (2791, 0.0), (2792, 0.003044353501281754), (2793, 0.014143149715839218), (2794, 0.011519952459290403), (2795, 0.0036288986311125344), (2796, 0.0032884898447356208), (2797, 0.0035171736659736622), (2798, 0.002917984134748438), (2799, 0.0), (2800, 0.0027148608946448143), (2801, 0.0), (2802, 0.00280980644348961), (2803, 0.002615033501515449), (2804, 0.0), (2805, 0.0), (2806, 0.0), (2807, 0.017947717278643152), (2808, 0.0027844007450670365), (2809, 0.006049272535495818), (2810, 0.0), (2811, 0.0), (2812, 0.00270807844909067), (2813, 0.011151166484989417), (2814, 0.030265676342592047), (2815, 0.1551533742963929), (2816, 0.030773255930295874), (2817, 0.06382731206356426), (2818, 0.0), (2819, 0.0), (2820, 0.0), (2821, 0.03462412198364176), (2822, 0.0), (2823, 0.0), (2824, 0.0), (2825, 0.0), (2826, 0.03545490686960233), (2827, 0.0), (2828, 0.0), (2829, 0.0), (2830, 0.003198067193745902), (2831, 0.002876834794066253), (2832, 0.0037710824943134754), (2833, 0.026510186574186703), (2834, 0.03961781446537803), (2835, 0.027179181960461353), (2836, 0.017572863126062828), (2837, 0.0), (2838, 0.0036723100996720044), (2839, 0.0), (2840, 0.003204900378016094), (2841, 0.007820336360052922), (2842, 0.0), (2843, 0.0), (2844, 0.011563539228410039), (2845, 0.030019037888774015), (2846, 0.00336233150561412), (2847, 0.0), (2848, 0.0035075120769350377), (2849, 0.003037874988265369), (2850, 0.0), (2851, 0.0), (2852, 0.032452312245752554), (2853, 0.013930820584263174), (2854, 0.0031913353350788796), (2855, 0.0), (2856, 0.0), (2857, 0.04025928224096455), (2858, 0.004072957389343619), (2859, 0.0027243149148440723), (2860, 0.032268082108651355), (2861, 0.0038088076294563794), (2862, 0.0026779815805328534), (2863, 0.0029628337005336235), (2864, 0.020795490739574318), (2865, 0.013449801445099455), (2866, 0.0), (2867, 0.010856345312206335), (2868, 0.002658550413963525), (2869, 0.0), (2870, 0.003895422932191135), (2871, 0.02988676185902893), (2872, 0.003307709419783514), (2873, 0.0), (2874, 0.0), (2875, 0.0), (2876, 0.002399929570031932), (2877, 0.0), (2878, 0.0030290862193324323), (2879, 0.003499517320835971), (2880, 0.0), (2881, 0.003254462481714942), (2882, 0.05076482037995278), (2883, 0.0038885814255339097), (2884, 0.003317157321058287), (2885, 0.0), (2886, 0.03237516603293532), (2887, 0.002911639706448736), (2888, 0.0031127122991955296), (2889, 0.003955715539108119), (2890, 0.03598894354513681), (2891, 0.0), (2892, 0.01329030958731614), (2893, 0.12821963325916452), (2894, 0.021722784925367552), (2895, 0.0034395349199556184), (2896, 0.0), (2897, 0.013469308750666507), (2898, 0.0), (2899, 0.0027012374995899085), (2900, 0.032511081080758585), (2901, 0.003689357095141016), (2902, 0.0021134060234770844), (2903, 0.0032224722828041977), (2904, 0.04859003730819937), (2905, 0.0), (2906, 0.026183891420980186), (2907, 0.012985005200495649), (2908, 0.02019331532248293), (2909, 0.0028025075751561867), (2910, 0.01369880111295164), (2911, 0.014571484567269739), (2912, 0.03158066123285857), (2913, 0.07411543174900122), (2914, 0.003249775122372314), (2915, 0.0031248855690197883), (2916, 0.003218676651064296), (2917, 0.016213200432485725), (2918, 0.017062732962417296), (2919, 0.0029685107342371235), (2920, 0.002629175146208379), (2921, 0.0), (2922, 0.0), (2923, 0.003871704010473517), (2924, 0.003332555039362427), (2925, 0.03512046602562588), (2926, 0.034109039632317366), (2927, 0.0), (2928, 0.0), (2929, 0.0), (2930, 0.0), (2931, 0.002599345378508497), (2932, 0.003799273595360355), (2933, 0.002440301196640286), (2934, 0.002894469144375243), (2935, 0.0), (2936, 0.03841383558553382), (2937, 0.045855337315237846), (2938, 0.0), (2939, 0.037041965353743364), (2940, 0.003071347790534465), (2941, 0.03822073760422469), (2942, 0.012115350963546833), (2943, 0.002863205823027321), (2944, 0.0), (2945, 0.03192574431316882), (2946, 0.002827926451769451), (2947, 0.0), (2948, 0.0), (2949, 0.0030703052544838127), (2950, 0.0), (2951, 0.04830076621858899), (2952, 0.0), (2953, 0.003041570489101686), (2954, 0.06404014562673174), (2955, 0.011363075092799829), (2956, 0.0), (2957, 0.02076720492272917), (2958, 0.017043750807786837), (2959, 0.0), (2960, 0.0), (2961, 0.002828472821839813), (2962, 0.0), (2963, 0.0), (2964, 0.0030706494207911245), (2965, 0.01329989966506712), (2966, 0.03964819517719207), (2967, 0.0), (2968, 0.0), (2969, 0.011612244213064098), (2970, 0.11415745412951951), (2971, 0.0), (2972, 0.0027085866985552555), (2973, 0.029170157486164836), (2974, 0.003226204400380944), (2975, 0.002524510697481048), (2976, 0.0025741262309344187), (2977, 0.03339448546787061), (2978, 0.06319677504327734), (2979, 0.0), (2980, 0.013731384456512435), (2981, 0.014346549112900273), (2982, 0.016048018635025633), (2983, 0.0), (2984, 0.03085902999055917), (2985, 0.01167837124700683), (2986, 0.003398942587603418), (2987, 0.003317382324657599), (2988, 0.0029637207282029645), (2989, 0.004004019012716653), (2990, 0.0), (2991, 0.0), (2992, 0.021836741278368425), (2993, 0.003465936336824183), (2994, 0.0), (2995, 0.002723392574448445), (2996, 0.03589243867370551), (2997, 0.0027160201832858296), (2998, 0.004313922468340407), (2999, 0.032429854998274096), (3000, 0.0029421201567629666), (3001, 0.0), (3002, 0.0), (3003, 0.018857090673019425), (3004, 0.050391035107717336), (3005, 0.0), (3006, 0.0), (3007, 0.017941638732163995), (3008, 0.0), (3009, 0.0), (3010, 0.002770948766631494), (3011, 0.0), (3012, 0.00322166483816361), (3013, 0.036792114419418515), (3014, 0.013217306374540614), (3015, 0.04132921143933721), (3016, 0.0029499458369640014), (3017, 0.0), (3018, 0.011620678829863935), (3019, 0.0033451527665499864), (3020, 0.03959404259935418), (3021, 0.028069134369461457), (3022, 0.0), (3023, 0.01052788253643462), (3024, 0.0023770744062448835), (3025, 0.0), (3026, 0.00317478429996487), (3027, 0.027964514245814934), (3028, 0.01640377411072437), (3029, 0.031179793277146643), (3030, 0.0038927733057735683), (3031, 0.07778302069920105), (3032, 0.03798346842572804), (3033, 0.0), (3034, 0.0), (3035, 0.002735581149599245), (3036, 0.013311310931345705), (3037, 0.003033174925541675), (3038, 0.0), (3039, 0.0), (3040, 0.004012942390862765), (3041, 0.0), (3042, 0.04419099697862488), (3043, 0.04401231759542627), (3044, 0.0031322807212657597), (3045, 0.01164512350665429), (3046, 0.0028183528344138536), (3047, 0.0), (3048, 0.0), (3049, 0.0), (3050, 0.0026326958541983934), (3051, 0.004098912998898307), (3052, 0.0039249478156289435), (3053, 0.017556322248215024), (3054, 0.0), (3055, 0.003910146948094769), (3056, 0.002380506324434988), (3057, 0.05764900696995474), (3058, 0.0), (3059, 0.0), (3060, 0.01433408427346084), (3061, 0.0), (3062, 0.0031857748143227322), (3063, 0.009840390503141914), (3064, 0.00312674958109889), (3065, 0.002440765035260335), (3066, 0.0), (3067, 0.032219882357895795), (3068, 0.0), (3069, 0.002806149231525169), (3070, 0.047461215989789377), (3071, 0.002691507103594308), (3072, 0.0033398140733603165), (3073, 0.0), (3074, 0.02597107956005782), (3075, 0.002790789033305499), (3076, 0.003760653116680391), (3077, 0.0), (3078, 0.0), (3079, 0.0), (3080, 0.0), (3081, 0.0033817564397737795), (3082, 0.0), (3083, 0.01310875525659208), (3084, 0.003047699255989618), (3085, 0.0), (3086, 0.03449682890990154), (3087, 0.0), (3088, 0.04422588105674352), (3089, 0.0), (3090, 0.010942199735886967), (3091, 0.027613579404618456), (3092, 0.0), (3093, 0.020257618787281922), (3094, 0.0033622708552957024), (3095, 0.015031392395656429), (3096, 0.01475588133039896), (3097, 0.003168576381770425), (3098, 0.01661966575134792), (3099, 0.0), (3100, 0.03170587948698327), (3101, 0.036032854567987216), (3102, 0.0), (3103, 0.0), (3104, 0.0), (3105, 0.0), (3106, 0.0), (3107, 0.0), (3108, 0.03925965010998739), (3109, 0.0), (3110, 0.033457177782905245), (3111, 0.012531130316929685), (3112, 0.003089941588569761), (3113, 0.0029308565391868587), (3114, 0.010286817738098041), (3115, 0.0), (3116, 0.003157667555354541), (3117, 0.05826657300585905), (3118, 0.0), (3119, 0.003939452680485145), (3120, 0.024342951599957596), (3121, 0.0), (3122, 0.00274126396542028), (3123, 0.03978204389345115), (3124, 0.0), (3125, 0.0028877268821650187), (3126, 0.0), (3127, 0.010778509496700513), (3128, 0.0036222603983272683), (3129, 0.012115384369356441), (3130, 0.0), (3131, 0.0), (3132, 0.0), (3133, 0.0132545048149895), (3134, 0.0), (3135, 0.0), (3136, 0.0), (3137, 0.005334058192663913), (3138, 0.0), (3139, 0.0040683821960760536), (3140, 0.003616331501886477), (3141, 0.010720523886235945), (3142, 0.0), (3143, 0.0), (3144, 0.0), (3145, 0.0), (3146, 0.03690156895713294), (3147, 0.0026751063881584177), (3148, 0.003253457360672299), (3149, 0.0), (3150, 0.0030064915505760795), (3151, 0.002737244304341446), (3152, 0.034134275825996055), (3153, 0.0029589881952190506), (3154, 0.003517046008630367), (3155, 0.0028931901018695474), (3156, 0.017057924430674016), (3157, 0.03630199777911011), (3158, 0.0), (3159, 0.0035564292930119574), (3160, 0.0), (3161, 0.0), (3162, 0.0), (3163, 0.0), (3164, 0.0), (3165, 0.0033004728913512507), (3166, 0.003985931312511556), (3167, 0.0025734000384175473), (3168, 0.0), (3169, 0.0), (3170, 0.01597718842523083), (3171, 0.03470668065674743), (3172, 0.0), (3173, 0.016717255916618236), (3174, 0.002865861791564242), (3175, 0.0), (3176, 0.0), (3177, 0.0456307037527205), (3178, 0.004543209528681139), (3179, 0.0), (3180, 0.015688451965174974), (3181, 0.0), (3182, 0.0029272119397604213), (3183, 0.0031466542857059724), (3184, 0.003086377981061002), (3185, 0.0), (3186, 0.003258198241088077), (3187, 0.0030239029975358683), (3188, 0.0), (3189, 0.0), (3190, 0.0), (3191, 0.0), (3192, 0.03210357687962179), (3193, 0.0), (3194, 0.002712242642573238), (3195, 0.002827829768416657), (3196, 0.003222239577454953), (3197, 0.0), (3198, 0.00296847243675367), (3199, 0.002225243666215989), (3200, 0.0024415502060769574), (3201, 0.028873416855978908), (3202, 0.0), (3203, 0.0), (3204, 0.0), (3205, 0.008277030048409639), (3206, 0.0394605852651061), (3207, 0.0), (3208, 0.0), (3209, 0.0), (3210, 0.0028985008821216605), (3211, 0.0024879601793394174), (3212, 0.0), (3213, 0.060392361138483105), (3214, 0.0027433354214707406), (3215, 0.0), (3216, 0.07328875676071733), (3217, 0.03832618636225166), (3218, 0.003063479243024099), (3219, 0.0037552722528837053), (3220, 0.03187558606775529), (3221, 0.0), (3222, 0.0), (3223, 0.0), (3224, 0.03395602393348765), (3225, 0.0029446460572781856), (3226, 0.032639725360412986), (3227, 0.0028973467003354752), (3228, 0.0034872443417949634), (3229, 0.011556651580064728), (3230, 0.0033174609766277565), (3231, 0.012627762924169065), (3232, 0.0), (3233, 0.002956173877487805), (3234, 0.0031409330692774846), (3235, 0.0030632951866302184), (3236, 0.0), (3237, 0.013828864075610865), (3238, 0.012048992379773943), (3239, 0.04111969788357042), (3240, 0.016306496056585212), (3241, 0.0029978381356470804), (3242, 0.034242110960306396), (3243, 0.02462616512314715), (3244, 0.012917757888045792), (3245, 0.0), (3246, 0.0027547534556743034), (3247, 0.055846615930013874), (3248, 0.0032047296658065795), (3249, 0.040791737719493806), (3250, 0.0), (3251, 0.050217466274150926), (3252, 0.01166638172655805), (3253, 0.0), (3254, 0.01683046254689807), (3255, 0.0), (3256, 0.0), (3257, 0.039299207965724184), (3258, 0.0031246612670615737), (3259, 0.0), (3260, 0.002819324665696567), (3261, 0.0), (3262, 0.0036973981995084546), (3263, 0.0), (3264, 0.034438139770742386), (3265, 0.0), (3266, 0.041141814686827385), (3267, 0.0026073712760178447), (3268, 0.0027425946631437314), (3269, 0.03527975759274876), (3270, 0.0), (3271, 0.02287221187025115), (3272, 0.0), (3273, 0.0031991077041532237), (3274, 0.003237677860786044), (3275, 0.06373045900904528), (3276, 0.031954233834638794), (3277, 0.0), (3278, 0.142863715491233), (3279, 0.012083390846231305), (3280, 0.03015842349336892), (3281, 0.0), (3282, 0.04229668731376022), (3283, 0.03322058296239078), (3284, 0.002631771083728288), (3285, 0.002160249972573119), (3286, 0.0), (3287, 0.0), (3288, 0.0), (3289, 0.033424516230432896), (3290, 0.002957174542830585), (3291, 0.0038615314621221137), (3292, 0.0037511626414999948), (3293, 0.01948273474262773), (3294, 0.013006260057197435), (3295, 0.0), (3296, 0.0032682618339436188), (3297, 0.0030533379138783794), (3298, 0.002775763011492073), (3299, 0.013912492018664886), (3300, 0.0027003951640478937), (3301, 0.0022502168900300113), (3302, 0.003501135357437675), (3303, 0.01424791534853795), (3304, 0.0026019475366817913), (3305, 0.0), (3306, 0.015562391116306893), (3307, 0.0033378932679908693), (3308, 0.003401931041463024), (3309, 0.0), (3310, 0.0), (3311, 0.002599350638243026), (3312, 0.0), (3313, 0.0023460238578151553), (3314, 0.0030475969049666234), (3315, 0.002745034444721065), (3316, 0.002210409421460609), (3317, 0.0023535781995226383), (3318, 0.01529902538798146), (3319, 0.0), (3320, 0.0), (3321, 0.0), (3322, 0.003698273559329692), (3323, 0.0), (3324, 0.034952881315905265), (3325, 0.058271337842026955), (3326, 0.0030434524346037795), (3327, 0.00257745979028348), (3328, 0.009202644228960555), (3329, 0.06216811736748639), (3330, 0.0028637473701512077), (3331, 0.01715869692471523), (3332, 0.03584526487790947), (3333, 0.0), (3334, 0.03268018563752836), (3335, 0.0029033515833722275), (3336, 0.012601971945216632), (3337, 0.003315612972322858), (3338, 0.11869903207281922), (3339, 0.0), (3340, 0.0), (3341, 0.002881580257454604), (3342, 0.01911402586376007), (3343, 0.0), (3344, 0.0024403841253811996), (3345, 0.0), (3346, 0.002865894697998452), (3347, 0.01175120805556355), (3348, 0.031563280528275756), (3349, 0.0029812362725423988), (3350, 0.0), (3351, 0.02209286076241836), (3352, 0.07439294271343191), (3353, 0.0029874257995216803), (3354, 0.04106243909597806), (3355, 0.003305904562089435), (3356, 0.010499576523968907), (3357, 0.04054051206753005), (3358, 0.0034885783443577667), (3359, 0.03795612795861386), (3360, 0.15192808489747275), (3361, 0.0133487783108368), (3362, 0.011086730951025041), (3363, 0.003583754133094618), (3364, 0.003317236043722685), (3365, 0.014515969741359972), (3366, 0.0), (3367, 0.0), (3368, 0.0), (3369, 0.061180471267690065), (3370, 0.06180781458287382), (3371, 0.032946015782349194), (3372, 0.03425325805006943), (3373, 0.02959362205067264), (3374, 0.0028517556772481136), (3375, 0.0), (3376, 0.027850686838948906), (3377, 0.0), (3378, 0.0), (3379, 0.002817236034326952), (3380, 0.0025508278627053623), (3381, 0.0028392212028996193), (3382, 0.002998430811660716), (3383, 0.0), (3384, 0.0), (3385, 0.0), (3386, 0.0029115911455959236), (3387, 0.0), (3388, 0.06609489047916786), (3389, 0.03227169215296423), (3390, 0.01333996331955997), (3391, 0.0064063427332944406), (3392, 0.016696573935605096), (3393, 0.01459944354300232), (3394, 0.0), (3395, 0.0), (3396, 0.0033144724124686887), (3397, 0.0), (3398, 0.0), (3399, 0.0026846381691072244), (3400, 0.0), (3401, 0.0), (3402, 0.0028001984428748907), (3403, 0.002517537478840091), (3404, 0.0), (3405, 0.0), (3406, 0.014775984587830542), (3407, 0.06083637298228303), (3408, 0.054023862006106184), (3409, 0.02895137720809318), (3410, 0.026245401408367227), (3411, 0.0), (3412, 0.013654938328512445), (3413, 0.0034514571243953935), (3414, 0.03650880263640988), (3415, 0.031126246509073124), (3416, 0.0), (3417, 0.0031648627398087534), (3418, 0.012706063345422049), (3419, 0.03763851029986822), (3420, 0.033494069256091746), (3421, 0.025470553312753868), (3422, 0.04310723532724401), (3423, 0.00328796675897717), (3424, 0.0), (3425, 0.05412992378101672), (3426, 0.0), (3427, 0.0), (3428, 0.0), (3429, 0.0), (3430, 0.00239183754807355), (3431, 0.0261906473794034), (3432, 0.0), (3433, 0.002705698160220801), (3434, 0.003057056219733181), (3435, 0.00284560385361795), (3436, 0.0028920086037794897), (3437, 0.003008211029113437), (3438, 0.0), (3439, 0.0), (3440, 0.0), (3441, 0.020994328488411325), (3442, 0.018785909211824117), (3443, 0.0), (3444, 0.0), (3445, 0.0029428667265784525), (3446, 0.0), (3447, 0.0028079002997042713), (3448, 0.0), (3449, 0.015129386173383446), (3450, 0.003337316021171942), (3451, 0.0), (3452, 0.0026795111903521007), (3453, 0.0), (3454, 0.0), (3455, 0.0026384639988303394), (3456, 0.020569005191207974), (3457, 0.034537496410226284), (3458, 0.009592132214870683), (3459, 0.012813455890748112), (3460, 0.0026423638391844632), (3461, 0.0), (3462, 0.0), (3463, 0.0), (3464, 0.011793111884443826), (3465, 0.0), (3466, 0.013275257535374492), (3467, 0.0), (3468, 0.0), (3469, 0.053031375094820615), (3470, 0.0), (3471, 0.002284756999296118), (3472, 0.0), (3473, 0.0), (3474, 0.002611085822369917), (3475, 0.0), (3476, 0.0), (3477, 0.057357639165137704), (3478, 0.002873540060355906), (3479, 0.003837532590202181), (3480, 0.0), (3481, 0.0), (3482, 0.0), (3483, 0.014824054510956976), (3484, 0.0), (3485, 0.0098879945830834), (3486, 0.0), (3487, 0.013461471423013726), (3488, 0.0), (3489, 0.0), (3490, 0.017568468544917823), (3491, 0.002884814521475884), (3492, 0.002869997521480215), (3493, 0.0030076067473070183), (3494, 0.018412081978299664), (3495, 0.012539249716533309), (3496, 0.03951845869973738), (3497, 0.05487966091466742), (3498, 0.03486051290067458), (3499, 0.0028229234672411934), (3500, 0.0026659483892821144), (3501, 0.03315268284337807), (3502, 0.0), (3503, 0.0027554355853077303), (3504, 0.03304962276745836), (3505, 0.0), (3506, 0.050449863527420466), (3507, 0.0), (3508, 0.018004163853746643), (3509, 0.0), (3510, 0.03206289162306307), (3511, 0.003024786535994565), (3512, 0.0044063132191916226), (3513, 0.0), (3514, 0.022098874026827718), (3515, 0.0), (3516, 0.0031251680455153885), (3517, 0.0029752785175741654), (3518, 0.0), (3519, 0.0), (3520, 0.0), (3521, 0.040179884584714894), (3522, 0.0), (3523, 0.004119277258192044), (3524, 0.0033808704298022157), (3525, 0.0), (3526, 0.0029407463425930327), (3527, 0.0029703517922242163), (3528, 0.0), (3529, 0.0), (3530, 0.0), (3531, 0.013677431371386137), (3532, 0.0), (3533, 0.0), (3534, 0.01624035224038159), (3535, 0.0), (3536, 0.03819998860018406), (3537, 0.06314541959669251), (3538, 0.026005955811703743), (3539, 0.0), (3540, 0.03804001110505508), (3541, 0.0028905291975683052), (3542, 0.002940053334983424), (3543, 0.0), (3544, 0.039700563833886385), (3545, 0.0), (3546, 0.018747717068939518), (3547, 0.034542245238804725), (3548, 0.013959382538405287), (3549, 0.0), (3550, 0.0), (3551, 0.03223005802559186), (3552, 0.0530446223424146), (3553, 0.002847933958282615), (3554, 0.0), (3555, 0.051494982091691364), (3556, 0.018404862558372263), (3557, 0.016646162485211034), (3558, 0.0026528834259338576), (3559, 0.011668227413842765), (3560, 0.0032286807458543018), (3561, 0.04421268209011064), (3562, 0.0), (3563, 0.002618965505680867), (3564, 0.0028846820077862508), (3565, 0.002843856709732107), (3566, 0.0), (3567, 0.0), (3568, 0.0), (3569, 0.002463692954719072), (3570, 0.0), (3571, 0.002938356189035327), (3572, 0.0), (3573, 0.0), (3574, 0.008546150962660416), (3575, 0.011311077215645424), (3576, 0.0), (3577, 0.02616038212029939), (3578, 0.0177987570341298), (3579, 0.01195094469828347), (3580, 0.0), (3581, 0.0), (3582, 0.017061453456127352), (3583, 0.0), (3584, 0.0), (3585, 0.0), (3586, 0.0), (3587, 0.003236949550153033), (3588, 0.0), (3589, 0.0), (3590, 0.0030524106535524415), (3591, 0.0), (3592, 0.0), (3593, 0.039371580230583944), (3594, 0.0), (3595, 0.0), (3596, 0.002843842907870505), (3597, 0.15785745783683575), (3598, 0.0), (3599, 0.014618735828922712), (3600, 0.010033849214958703), (3601, 0.00306457754691044), (3602, 0.049264903753967984), (3603, 0.0), (3604, 0.0), (3605, 0.02238868869012028), (3606, 0.002929860757347889), (3607, 0.0), (3608, 0.0018716749069021515), (3609, 0.0), (3610, 0.0), (3611, 0.0032649790240214522), (3612, 0.0028746320804552243), (3613, 0.0035443128696825477), (3614, 0.045463556578986375), (3615, 0.0027059778793277365), (3616, 0.021109128414061568), (3617, 0.0), (3618, 0.003045907485483222), (3619, 0.012372036764848908), (3620, 0.0034990804548967825), (3621, 0.0033813100679566926), (3622, 0.03830732002918411), (3623, 0.0029642917011947047), (3624, 0.0028469059262585515), (3625, 0.0), (3626, 0.0022045969482289082), (3627, 0.0026587498152797163), (3628, 0.0), (3629, 0.002467829644032916), (3630, 0.0), (3631, 0.0), (3632, 0.0), (3633, 0.009965803774276525), (3634, 0.002429557462680166), (3635, 0.0038850405433169515), (3636, 0.002961293195024917), (3637, 0.002512956533656051), (3638, 0.0035826437098644684), (3639, 0.03732666786790602), (3640, 0.003204655314533938), (3641, 0.0027751982871997666), (3642, 0.0031160294177285104), (3643, 0.002919213614291841), (3644, 0.0), (3645, 0.01981838140225929), (3646, 0.03083943056134851), (3647, 1.0), (3648, 0.014590534197945093), (3649, 0.0), (3650, 0.0), (3651, 0.023547368688838922), (3652, 0.0), (3653, 0.03459143139289895), (3654, 0.0030220902341291395), (3655, 0.0025007584902077325), (3656, 0.0026482372535136262), (3657, 0.03812504943537007), (3658, 0.0), (3659, 0.0), (3660, 0.07976822806439647), (3661, 0.0032772520431854613), (3662, 0.0), (3663, 0.0), (3664, 0.0), (3665, 0.0028666949350199134), (3666, 0.0029836251859422774), (3667, 0.023544341111342775), (3668, 0.011850712990798725), (3669, 0.002435185993148736), (3670, 0.03422435359904999), (3671, 0.0), (3672, 0.046344924389906644), (3673, 0.0028618957164602077), (3674, 0.0), (3675, 0.0034253756771207267), (3676, 0.0), (3677, 0.0031542268500774876), (3678, 0.03469696284720704), (3679, 0.0), (3680, 0.003249404953759534), (3681, 0.0), (3682, 0.0), (3683, 0.018128838323929804), (3684, 0.0203250282459946), (3685, 0.0), (3686, 0.0), (3687, 0.04073620975308096), (3688, 0.0), (3689, 0.014481856911787673), (3690, 0.0), (3691, 0.002734300310211685), (3692, 0.0030939497944211256), (3693, 0.0), (3694, 0.003109823733825997), (3695, 0.0), (3696, 0.0318153331036032), (3697, 0.0), (3698, 0.0), (3699, 0.0029350139308449495), (3700, 0.062471810194479685), (3701, 0.044843933075254805), (3702, 0.0), (3703, 0.0), (3704, 0.0031052929797042795), (3705, 0.0026002142191554325), (3706, 0.0028043650674957833), (3707, 0.002924603961796663), (3708, 0.0), (3709, 0.05700114815950959), (3710, 0.01882835212212654), (3711, 0.0), (3712, 0.013186508623876545), (3713, 0.0), (3714, 0.003140867093282575), (3715, 0.0), (3716, 0.0), (3717, 0.0), (3718, 0.013076003111383974), (3719, 0.0028047295225388687), (3720, 0.0), (3721, 0.0), (3722, 0.014498665760390815), (3723, 0.0), (3724, 0.0), (3725, 0.0026755979212483073), (3726, 0.0), (3727, 0.034966512499835685), (3728, 0.022635947134217592), (3729, 0.0033301689134023005), (3730, 0.027579181057374415), (3731, 0.0), (3732, 0.0), (3733, 0.01960439644828207), (3734, 0.002710242147594021), (3735, 0.0), (3736, 0.010449944417289922), (3737, 0.003208654705537675), (3738, 0.0), (3739, 0.0029051246885080932), (3740, 0.0), (3741, 0.0), (3742, 0.01278879727480807), (3743, 0.0), (3744, 0.0), (3745, 0.003380257956716598), (3746, 0.0), (3747, 0.0), (3748, 0.0), (3749, 0.003133106678256781), (3750, 0.009413751795526495), (3751, 0.011507738363153254), (3752, 0.0), (3753, 0.0), (3754, 0.016237078268817127), (3755, 0.002539610729383734), (3756, 0.0023504948451836894), (3757, 0.0030997181908270005), (3758, 0.0), (3759, 0.016144847427806), (3760, 0.0), (3761, 0.0), (3762, 0.003743617289929775), (3763, 0.0033865410654576665), (3764, 0.0), (3765, 0.002791302473269705), (3766, 0.003426779219455678), (3767, 0.028215136570053437), (3768, 0.0), (3769, 0.0), (3770, 0.022135964070779383), (3771, 0.0031123957400614947), (3772, 0.0032700721432783993), (3773, 0.013791990783170954), (3774, 0.0), (3775, 0.016435369414118522), (3776, 0.0), (3777, 0.003036080997465273), (3778, 0.027311345140176354), (3779, 0.0034698875255755337), (3780, 0.003068137582469428), (3781, 0.003078859325199221), (3782, 0.04980257584355802), (3783, 0.0), (3784, 0.002735125272538494), (3785, 0.0), (3786, 0.0), (3787, 0.0), (3788, 0.016555132768024724), (3789, 0.0), (3790, 0.0), (3791, 0.0), (3792, 0.021527009072882818), (3793, 0.0), (3794, 0.0), (3795, 0.03425561371963356), (3796, 0.0), (3797, 0.0031798377782482398), (3798, 0.0), (3799, 0.03216695938285333), (3800, 0.03923835022520072), (3801, 0.0025744863053802397), (3802, 0.0), (3803, 0.009735697363362194), (3804, 0.003205457119078586), (3805, 0.0), (3806, 0.0), (3807, 0.0028584666865646043), (3808, 0.0), (3809, 0.0029441339674329656), (3810, 0.0), (3811, 0.0027089171683516715), (3812, 0.0), (3813, 0.003135321353451629), (3814, 0.0), (3815, 0.0), (3816, 0.01939509482445082), (3817, 0.0), (3818, 0.0), (3819, 0.024825798792602494), (3820, 0.0), (3821, 0.0843165985641491), (3822, 0.0032264724952865112), (3823, 0.010462312000220606), (3824, 0.0), (3825, 0.0), (3826, 0.0027625425870869635), (3827, 0.0028174324048596613), (3828, 0.0036341525560106116), (3829, 0.030317395480330994), (3830, 0.0), (3831, 0.0), (3832, 0.025841934258978114), (3833, 0.0), (3834, 0.0), (3835, 0.021240067042505615), (3836, 0.0), (3837, 0.0), (3838, 0.0), (3839, 0.015490631099153019), (3840, 0.0), (3841, 0.002576938964435809), (3842, 0.021316189878549396), (3843, 0.0), (3844, 0.0), (3845, 0.0029972353420641617), (3846, 0.01502727308424761), (3847, 0.0), (3848, 0.04137803761428108), (3849, 0.0), (3850, 0.055200744071330035), (3851, 0.0), (3852, 0.08177319204567826), (3853, 0.0), (3854, 0.0026572926510482066), (3855, 0.0024382289662933506), (3856, 0.012203993081032278), (3857, 0.0031916198093035497), (3858, 0.01617055812253637), (3859, 0.0), (3860, 0.07292999434811223), (3861, 0.0), (3862, 0.05849153363000405), (3863, 0.002582152754166216), (3864, 0.013307467067208511), (3865, 0.012575854207383075), (3866, 0.0741523866774237), (3867, 0.0032643474718658185), (3868, 0.0027494836146016006), (3869, 0.0387921033515121), (3870, 0.0), (3871, 0.0), (3872, 0.0), (3873, 0.0030726180882069388), (3874, 0.03904959625094321), (3875, 0.020424486082360773), (3876, 0.0026377154056615925), (3877, 0.003199371828130337), (3878, 0.0037767097247352038), (3879, 0.022705433731893727), (3880, 0.0025069908519759305), (3881, 0.0), (3882, 0.003024274531315918), (3883, 0.003275494685541773), (3884, 0.003343304160776714), (3885, 0.0), (3886, 0.013542633057141052), (3887, 0.0), (3888, 0.0028432129444226676), (3889, 0.018409684922748634), (3890, 0.0027800271317998887), (3891, 0.01053759551934403), (3892, 0.003735492707245539), (3893, 0.0031042760463667954), (3894, 0.03199868798661165), (3895, 0.0025154710954616065), (3896, 0.0), (3897, 0.0), (3898, 0.0027268805844733166), (3899, 0.008728934867101943), (3900, 0.031362121599530876), (3901, 0.003465482446012058), (3902, 0.0029898387624704473), (3903, 0.024246415244516626), (3904, 0.003073547015757383), (3905, 0.0), (3906, 0.013775216544315318), (3907, 0.0), (3908, 0.1147963580137307), (3909, 0.010381817395508329), (3910, 0.014744418983173267), (3911, 0.0034336320378642467), (3912, 0.0346771691954735), (3913, 0.03896265189723719), (3914, 0.012343681602737591), (3915, 0.003121148000035358), (3916, 0.027107044789920057), (3917, 0.0027641947737277865), (3918, 0.0), (3919, 0.0030038811869883), (3920, 0.0029764154324399684), (3921, 0.0), (3922, 0.003547301702481442), (3923, 0.0), (3924, 0.003158758827470732), (3925, 0.04753232326051899), (3926, 0.0), (3927, 0.002391781944538138), (3928, 0.002400300178425578), (3929, 0.0), (3930, 0.0), (3931, 0.0), (3932, 0.005300699225224125), (3933, 0.0), (3934, 0.0), (3935, 0.003386028541926205), (3936, 0.0), (3937, 0.0), (3938, 0.0), (3939, 0.0038272168779967986), (3940, 0.0), (3941, 0.0026927990935126512), (3942, 0.021603913701675706), (3943, 0.0), (3944, 0.0), (3945, 0.008367435271876014), (3946, 0.0), (3947, 0.0), (3948, 0.0), (3949, 0.0), (3950, 0.015675411198147998), (3951, 0.003352917470742998), (3952, 0.0032953227956445306), (3953, 0.002614510112045274), (3954, 0.0027119819955225125), (3955, 0.0), (3956, 0.0025611738040308032), (3957, 0.0023685065657296344), (3958, 0.037321330698383455), (3959, 0.0029762225160767167), (3960, 0.003257693940609931), (3961, 0.003171675861077282), (3962, 0.0032272720247061115), (3963, 0.0), (3964, 0.012427482228844901), (3965, 0.0), (3966, 0.0), (3967, 0.0031765735202120785), (3968, 0.0), (3969, 0.0), (3970, 0.010642551316024334), (3971, 0.0), (3972, 0.0), (3973, 0.0030594353041893336), (3974, 0.0025863486597328088), (3975, 0.0), (3976, 0.012066361570457257), (3977, 0.08253050028059689), (3978, 0.0027408358404702863), (3979, 0.01880335448043707), (3980, 0.0), (3981, 0.0), (3982, 0.0), (3983, 0.002152753979323202), (3984, 0.0030220179160885623), (3985, 0.0), (3986, 0.002585485070635373), (3987, 0.0030605156490204418), (3988, 0.0), (3989, 0.0), (3990, 0.003966303447384128), (3991, 0.0), (3992, 0.003248176310251755), (3993, 0.026057568341100304), (3994, 0.0), (3995, 0.0), (3996, 0.0), (3997, 0.018854518182991872), (3998, 0.0), (3999, 0.07664856944505347), (4000, 0.04931007877947098), (4001, 0.031113001504115667), (4002, 0.0033371435886277337), (4003, 0.0), (4004, 0.026664989616370125), (4005, 0.003070457633173512), (4006, 0.013912679314872861), (4007, 0.0), (4008, 0.0), (4009, 0.0), (4010, 0.0), (4011, 0.00269868332588987), (4012, 0.0), (4013, 0.0031285073954778636), (4014, 0.002907439896603049), (4015, 0.002370388976912735), (4016, 0.013962422512844625), (4017, 0.0038994209471161626), (4018, 0.0), (4019, 0.003725032333404087), (4020, 0.002819066685368146), (4021, 0.0), (4022, 0.0), (4023, 0.0033934887024523836), (4024, 0.0031031237610532896), (4025, 0.002981133129983093), (4026, 0.0), (4027, 0.0), (4028, 0.0), (4029, 0.0), (4030, 0.003363368448760586), (4031, 0.0), (4032, 0.0033530084064309997), (4033, 0.0030314924337419774), (4034, 0.0), (4035, 0.0), (4036, 0.002807700777870146), (4037, 0.027529158149719145), (4038, 0.0030720487840194418), (4039, 0.0), (4040, 0.0), (4041, 0.0), (4042, 0.0031737676424717165), (4043, 0.0), (4044, 0.0), (4045, 0.01932759086319317), (4046, 0.018609219399023835), (4047, 0.01782345645418467), (4048, 0.003145767488713262), (4049, 0.0029163258874056576), (4050, 0.0), (4051, 0.018938163525820926), (4052, 0.014797347545235089), (4053, 0.023858318688081716), (4054, 0.003046951877695808), (4055, 0.0), (4056, 0.0028580058905952038), (4057, 0.00989065532727897), (4058, 0.0), (4059, 0.002687232444591633), (4060, 0.020450641909671212), (4061, 0.0), (4062, 0.016958066541041632), (4063, 0.0), (4064, 0.027987429923531502), (4065, 0.0), (4066, 0.02206754479114256), (4067, 0.0), (4068, 0.002919300101283575), (4069, 0.002775525394974017), (4070, 0.047363447666603053), (4071, 0.0), (4072, 0.0), (4073, 0.0), (4074, 0.002585978251623014), (4075, 0.00335294572224096), (4076, 0.08232229483317796), (4077, 0.0841984867244145), (4078, 0.0), (4079, 0.002978831012045283), (4080, 0.01897999013574638), (4081, 0.0028894378222258264), (4082, 0.004059370254482179), (4083, 0.003000002227538036), (4084, 0.0), (4085, 0.14953968829358785), (4086, 0.0), (4087, 0.0031237413273303882), (4088, 0.0), (4089, 0.00299198733999808), (4090, 0.0), (4091, 0.0), (4092, 0.0032518672654718154), (4093, 0.0), (4094, 0.0), (4095, 0.03834064476934078), (4096, 0.0), (4097, 0.0), (4098, 0.021099594174967082), (4099, 0.0), (4100, 0.0), (4101, 0.02310399254087105), (4102, 0.0036485106307037464), (4103, 0.0), (4104, 0.0025470678198379992), (4105, 0.0731116188265172), (4106, 0.0), (4107, 0.003548207034257485), (4108, 0.0), (4109, 0.1066640515473193), (4110, 0.0), (4111, 0.017978743217027734), (4112, 0.01785730005240214), (4113, 0.003191659028863876), (4114, 0.0), (4115, 0.0), (4116, 0.0479741543448018), (4117, 0.003280200399359018), (4118, 0.0), (4119, 0.0), (4120, 0.0), (4121, 0.0), (4122, 0.0), (4123, 0.0030340809675877003), (4124, 0.0027190019706560846), (4125, 0.014646123202507605), (4126, 0.003343761654600482), (4127, 0.0), (4128, 0.0), (4129, 0.002781378869324206), (4130, 0.003140753837400552), (4131, 0.0), (4132, 0.0030930368886422587), (4133, 0.0031332685609446287), (4134, 0.0), (4135, 0.0029142914763099818), (4136, 0.0029934567922836365), (4137, 0.021362491987281927), (4138, 0.0031851063365606193), (4139, 0.002774844773259486), (4140, 0.028728466678940197), (4141, 0.0025620617464968665), (4142, 0.003673822838151419), (4143, 0.0025829985858290003), (4144, 0.0), (4145, 0.003375467135301259), (4146, 0.0), (4147, 0.03201546338406215), (4148, 0.153639629339343), (4149, 0.0), (4150, 0.0), (4151, 0.004937124875631747), (4152, 0.002741583585741533), (4153, 0.0), (4154, 0.0025965616996840514), (4155, 0.002745209479979277), (4156, 0.0025188763652391304), (4157, 0.0), (4158, 0.012107957296614161), (4159, 0.0), (4160, 0.0032217734751577407), (4161, 0.03925132503124382), (4162, 0.0), (4163, 0.003331526011487567), (4164, 0.0), (4165, 0.0), (4166, 0.0), (4167, 0.0), (4168, 0.0), (4169, 0.0030609267572594954), (4170, 0.0), (4171, 0.021963012967768234), (4172, 0.003798857467600369), (4173, 0.0), (4174, 0.002644854651759421), (4175, 0.0030597803328378972), (4176, 0.0026422525499798346), (4177, 0.0), (4178, 0.027608448295946567), (4179, 0.0), (4180, 0.0), (4181, 0.0), (4182, 0.02902801049840386), (4183, 0.0027870490165335803), (4184, 0.0), (4185, 0.0), (4186, 0.0), (4187, 0.056992129060084704), (4188, 0.0), (4189, 0.0029393033913392838), (4190, 0.0), (4191, 0.0), (4192, 0.002782609079876969), (4193, 0.0294587803190068), (4194, 0.0), (4195, 0.0), (4196, 0.0), (4197, 0.0029294088442639614), (4198, 0.0), (4199, 0.0), (4200, 0.0023758055674633774), (4201, 0.0), (4202, 0.004018020270808013), (4203, 0.01967653976276619), (4204, 0.0), (4205, 0.018907427495806983), (4206, 0.002729524791850335), (4207, 0.0), (4208, 0.0), (4209, 0.0035211728533980978), (4210, 0.011286615377078521), (4211, 0.0), (4212, 0.0), (4213, 0.0027324184910584464), (4214, 0.0), (4215, 0.0), (4216, 0.0), (4217, 0.0), (4218, 0.0), (4219, 0.0), (4220, 0.00253496194756605), (4221, 0.0038419118717605647), (4222, 0.003853820329228553), (4223, 0.0), (4224, 0.0), (4225, 0.04019897943229739), (4226, 0.0), (4227, 0.0), (4228, 0.002838896713140758), (4229, 0.0), (4230, 0.0036818770495812363), (4231, 0.0030652932380173257), (4232, 0.08105351142213724), (4233, 0.0), (4234, 0.0), (4235, 0.03485290212209518), (4236, 0.0), (4237, 0.0), (4238, 0.0), (4239, 0.0), (4240, 0.015393999175311524), (4241, 0.0), (4242, 0.0035698673897625057), (4243, 0.003271292669747505), (4244, 0.05016662305124865), (4245, 0.003087356544085151), (4246, 0.013256542479955023), (4247, 0.014919752587897211), (4248, 0.03521133109461903), (4249, 0.06934636901244362), (4250, 0.0), (4251, 0.0), (4252, 0.0), (4253, 0.0), (4254, 0.01593875845477532), (4255, 0.0029129642586456853), (4256, 0.0), (4257, 0.0027069506924322483), (4258, 0.0), (4259, 0.003191832714210196), (4260, 0.0), (4261, 0.0), (4262, 0.00298328447839865), (4263, 0.003164937403404774), (4264, 0.0), (4265, 0.0), (4266, 0.0028995940452187056), (4267, 0.024306808874990322), (4268, 0.020500945532735296), (4269, 0.0030822500694804634), (4270, 0.0), (4271, 0.0), (4272, 0.0), (4273, 0.002940527980043647), (4274, 0.0214746129865084), (4275, 0.0), (4276, 0.0), (4277, 0.0026320280378132033), (4278, 0.0), (4279, 0.01348497060198598), (4280, 0.0034055273978545247), (4281, 0.0), (4282, 0.0026451097031366727), (4283, 0.0029291192366472595), (4284, 0.002819471101768238), (4285, 0.0), (4286, 0.0030381035728994227), (4287, 0.0029687182062914947), (4288, 0.005847039146516096), (4289, 0.018850136831195793), (4290, 0.03433170527309669), (4291, 0.0), (4292, 0.0), (4293, 0.003206512737229619), (4294, 0.0), (4295, 0.0032808143995487105), (4296, 0.002502969838627265), (4297, 0.0), (4298, 0.0035252920537019875), (4299, 0.0028051754640816256), (4300, 0.0), (4301, 0.0021319368650134962), (4302, 0.0), (4303, 0.0), (4304, 0.002579019290208048), (4305, 0.0), (4306, 0.003552611454093919), (4307, 0.012493044061638547), (4308, 0.0031512364703875466), (4309, 0.02066078218733278), (4310, 0.0), (4311, 0.0023345907574457785), (4312, 0.0), (4313, 0.0), (4314, 0.0176403911157935), (4315, 0.0), (4316, 0.0), (4317, 0.0), (4318, 0.0030364287907205744), (4319, 0.0), (4320, 0.002866235808050955), (4321, 0.0027357298004659037), (4322, 0.0), (4323, 0.0), (4324, 0.015632665743821616), (4325, 0.010321071589704927), (4326, 0.002634516216239819), (4327, 0.0), (4328, 0.0), (4329, 0.0), (4330, 0.002875135846101309), (4331, 0.0), (4332, 0.0), (4333, 0.0032334407302323552), (4334, 0.029045376281592896), (4335, 0.02083816269991411), (4336, 0.0027755860713021014), (4337, 0.0), (4338, 0.015402305750808148), (4339, 0.0), (4340, 0.002971966494641852), (4341, 0.0), (4342, 0.01025385649256519), (4343, 0.002541687526372471), (4344, 0.011968238658383201), (4345, 0.00272567405241754), (4346, 0.02122483121125494), (4347, 0.031097106228541813), (4348, 0.0026425666945593135), (4349, 0.0028255781843378068), (4350, 0.0025900401010779503), (4351, 0.0), (4352, 0.0), (4353, 0.012089281070401772), (4354, 0.003006022372999985), (4355, 0.003061281149051304), (4356, 0.030332048356295868), (4357, 0.0030630717753774178), (4358, 0.015625674841637283), (4359, 0.002623450075296937), (4360, 0.0), (4361, 0.002989613323243427), (4362, 0.0028136317193836573), (4363, 0.003009607671801057), (4364, 0.01772736600952751), (4365, 0.0), (4366, 0.03181859931347146), (4367, 0.0), (4368, 0.0032340168382055012), (4369, 0.0033059399866058412), (4370, 0.0), (4371, 0.0030814430157206966), (4372, 0.0), (4373, 0.01763010524732), (4374, 0.0027276686277866234), (4375, 0.018575677743413174), (4376, 0.014457544673094642), (4377, 0.0), (4378, 0.014815104046981302), (4379, 0.021327063783464693), (4380, 0.0), (4381, 0.0027857782824241327), (4382, 0.0027786054166843324), (4383, 0.02984513957986423), (4384, 0.0), (4385, 0.0), (4386, 0.0024782984923065023), (4387, 0.0028019083192454886), (4388, 0.011443026550068118), (4389, 0.0367018630893098), (4390, 0.0), (4391, 0.03296044321017705), (4392, 0.0), (4393, 0.0), (4394, 0.0028514440541723314), (4395, 0.0027955010975696127), (4396, 0.0032149317496672244), (4397, 0.003198032444363759), (4398, 0.003320433740539532), (4399, 0.03866478864148323), (4400, 0.003663109047643625), (4401, 0.0032105090710343423), (4402, 0.002657066794158693), (4403, 0.0036625381589251438), (4404, 0.0), (4405, 0.012815878484164482), (4406, 0.05008905751359803), (4407, 0.0037586553759414373), (4408, 0.03570797016721538), (4409, 0.17020533808661598), (4410, 0.01484012171488353), (4411, 0.0024617607234691716), (4412, 0.003366104355670214), (4413, 0.0), (4414, 0.0), (4415, 0.0), (4416, 0.02491703302438489), (4417, 0.0), (4418, 0.0037739764929965993), (4419, 0.0029956619365605077), (4420, 0.0030300022677745902), (4421, 0.0), (4422, 0.0029695022487019047), (4423, 0.0037261822221946006), (4424, 0.0), (4425, 0.0), (4426, 0.0), (4427, 0.02114443314918253), (4428, 0.0027285684803056097), (4429, 0.0024949715768335565), (4430, 0.04005900195470254), (4431, 0.003073070170377926), (4432, 0.014699701124006382), (4433, 0.0), (4434, 0.0), (4435, 0.014067763717795945), (4436, 0.0), (4437, 0.0), (4438, 0.0), (4439, 0.0), (4440, 0.0), (4441, 0.0), (4442, 0.002787209346385407), (4443, 0.003520141810754025), (4444, 0.0037641705570004643), (4445, 0.002157189044139752), (4446, 0.023221164813516743), (4447, 0.0), (4448, 0.003000932789598911), (4449, 0.0), (4450, 0.0), (4451, 0.0), (4452, 0.0), (4453, 0.0), (4454, 0.0), (4455, 0.0), (4456, 0.0), (4457, 0.0), (4458, 0.003427134732347266), (4459, 0.010705016875294073), (4460, 0.0), (4461, 0.002766316842570157), (4462, 0.03835751433501137), (4463, 0.0), (4464, 0.03781596130181811), (4465, 0.0032932842792208), (4466, 0.0), (4467, 0.036553557017123144), (4468, 0.0), (4469, 0.0035902954861473176), (4470, 0.02122197033476926), (4471, 0.07339160628000764), (4472, 0.0027777076983981084), (4473, 0.0025026599222756937), (4474, 0.0030255992585319176), (4475, 0.0025840205888261534), (4476, 0.002458887600604343), (4477, 0.003357108729925732), (4478, 0.0), (4479, 0.0026465621119947944), (4480, 0.0), (4481, 0.0), (4482, 0.0), (4483, 0.0), (4484, 0.0038312334624897378), (4485, 0.0), (4486, 0.03580867304005083), (4487, 0.002831038092492601), (4488, 0.0), (4489, 0.003047650514286383), (4490, 0.0034077914581637854), (4491, 0.0), (4492, 0.0), (4493, 0.0), (4494, 0.003246253315528773), (4495, 0.003077875776972975), (4496, 0.0), (4497, 0.0030084527001193826), (4498, 0.0), (4499, 0.0), (4500, 0.0), (4501, 0.002903161953781393), (4502, 0.03550904058687196), (4503, 0.0028980416364250876), (4504, 0.0027733913678628513), (4505, 0.0030416269383838034), (4506, 0.0), (4507, 0.0576927976806023), (4508, 0.0), (4509, 0.0), (4510, 0.0), (4511, 0.0028580483269594146), (4512, 0.0), (4513, 0.0), (4514, 0.0), (4515, 0.0), (4516, 0.003295080904626261), (4517, 0.002890914874843421), (4518, 0.0), (4519, 0.011313093734702066), (4520, 0.0028446132295891634), (4521, 0.0035867028724198865), (4522, 0.003131504502467831), (4523, 0.03246175511111289), (4524, 0.05733242169149984), (4525, 0.0), (4526, 0.0), (4527, 0.0), (4528, 0.00312065937733632), (4529, 0.0038528212887783903), (4530, 0.0028102956681138446), (4531, 0.00318455402976363), (4532, 0.0), (4533, 0.002940904027115295), (4534, 0.03441761033162253), (4535, 0.003216259010457627), (4536, 0.0027453535560298917), (4537, 0.0), (4538, 0.0), (4539, 0.0), (4540, 0.003087610240765979), (4541, 0.02273774713806313), (4542, 0.0), (4543, 0.0), (4544, 0.003584684826312267), (4545, 0.03984066693194359), (4546, 0.0037143409306756915), (4547, 0.0), (4548, 0.0), (4549, 0.0), (4550, 0.0027857173572680568), (4551, 0.0031801197078901535), (4552, 0.0), (4553, 0.012330336711942764), (4554, 0.01664293636370903), (4555, 0.0319035348044071), (4556, 0.0), (4557, 0.0), (4558, 0.0), (4559, 0.0), (4560, 0.0), (4561, 0.0), (4562, 0.0), (4563, 0.002946600095628874), (4564, 0.0), (4565, 0.0), (4566, 0.0030291795131289624), (4567, 0.0027463518573467684), (4568, 0.0), (4569, 0.0), (4570, 0.0), (4571, 0.0045661101227614945), (4572, 0.0035266674630117147), (4573, 0.00278564925377851), (4574, 0.0030767536013934734), (4575, 0.003040397655070936), (4576, 0.016487519035615225), (4577, 0.0), (4578, 0.0), (4579, 0.00309731015984718), (4580, 0.0), (4581, 0.0), (4582, 0.015797596798157586), (4583, 0.0), (4584, 0.0033782567019472794), (4585, 0.0), (4586, 0.0), (4587, 0.0), (4588, 0.14937941974513874), (4589, 0.0033633516853768817), (4590, 0.0025730832771509262), (4591, 0.015787696916245493), (4592, 0.0), (4593, 0.08602094475157226), (4594, 0.0033846411995740572), (4595, 0.0), (4596, 0.0), (4597, 0.0), (4598, 0.0022543708479948778), (4599, 0.0), (4600, 0.010183172567834641), (4601, 0.0031452101761198195), (4602, 0.003152736027771732), (4603, 0.0026804300327945363), (4604, 0.002889054749084392), (4605, 0.015552030298334074), (4606, 0.0036378859351505156), (4607, 0.004172692860413181), (4608, 0.002549985799367286), (4609, 0.0), (4610, 0.043946167637654576), (4611, 0.003830175403174968), (4612, 0.0035772776227390875), (4613, 0.0), (4614, 0.002744735153086338), (4615, 0.0), (4616, 0.002654439590489056), (4617, 0.003930090078483509), (4618, 0.0), (4619, 0.0031704687276905607), (4620, 0.002625505649791645), (4621, 0.0), (4622, 0.06013587152839377), (4623, 0.017646593369966646), (4624, 0.03825939427404874), (4625, 0.002983627626595851), (4626, 0.002323228115425248), (4627, 0.017662482387683594), (4628, 0.0), (4629, 0.0029976431711284), (4630, 0.0), (4631, 0.0), (4632, 0.003387734430874985), (4633, 0.003377034154513716), (4634, 0.0026813239319018124), (4635, 0.0), (4636, 0.0024232485343455693), (4637, 0.0034097356916240793), (4638, 0.012771705765913497), (4639, 0.0), (4640, 0.0028788476531029115), (4641, 0.0028070966940269317), (4642, 0.0), (4643, 0.002955807453245121), (4644, 0.0), (4645, 0.0), (4646, 0.0), (4647, 0.0), (4648, 0.0), (4649, 0.0026389392608571496), (4650, 0.003311569782716893), (4651, 0.0), (4652, 0.0021963937235251413), (4653, 0.0), (4654, 0.0), (4655, 0.16326320075246323), (4656, 0.0), (4657, 0.00309049244736858), (4658, 0.07030853372265215), (4659, 0.0), (4660, 0.0035434168337096696), (4661, 0.018246033744320142), (4662, 0.0), (4663, 0.0), (4664, 0.0), (4665, 0.013985998455567975), (4666, 0.0), (4667, 0.01656231845659007), (4668, 0.0028313952391592844), (4669, 0.03552187992610307), (4670, 0.0027525655707989613), (4671, 0.0), (4672, 0.1351733171709586), (4673, 0.03415734397160915), (4674, 0.002307932589233835), (4675, 0.0110855998017986), (4676, 0.0), (4677, 0.0029043683929213934), (4678, 0.0), (4679, 0.0025262912540825774), (4680, 0.0030723661803835987), (4681, 0.0), (4682, 0.0), (4683, 0.017770189931596583), (4684, 0.0), (4685, 0.002821167579049522), (4686, 0.02129724525113525), (4687, 0.002809732416143176), (4688, 0.014001879707761667), (4689, 0.10338924315252714), (4690, 0.0), (4691, 0.0), (4692, 0.0035869517604137577), (4693, 0.0027912685414088353), (4694, 0.003376318593118243), (4695, 0.0), (4696, 0.0037645646764473384), (4697, 0.06585047720410833), (4698, 0.0), (4699, 0.003242155969674466), (4700, 0.0), (4701, 0.0034247790893908612), (4702, 0.0), (4703, 0.0), (4704, 0.003925598817282365), (4705, 0.004108407766749942), (4706, 0.003192465635399067), (4707, 0.0), (4708, 0.0), (4709, 0.0), (4710, 0.003632213204163604), (4711, 0.0), (4712, 0.002588589439607287), (4713, 0.0033264443664628275), (4714, 0.0), (4715, 0.00288094668493966), (4716, 0.033572687375792096), (4717, 0.003393020212973121), (4718, 0.00322275998314606), (4719, 0.005565396598029588), (4720, 0.0), (4721, 0.017550633400268932), (4722, 0.003115214368255934), (4723, 0.003513375547765584), (4724, 0.0035422222298021663), (4725, 0.0), (4726, 0.0), (4727, 0.0), (4728, 0.014254881700967805), (4729, 0.002760180744251801), (4730, 0.0), (4731, 0.0032534453266260172), (4732, 0.0031341823192444795), (4733, 0.00239763997649877), (4734, 0.0031054032750502513), (4735, 0.0034003432528731926), (4736, 0.0), (4737, 0.0), (4738, 0.014095094421045676), (4739, 0.005859735778104925), (4740, 0.0), (4741, 0.020847251641980622), (4742, 0.0), (4743, 0.020084299791052102), (4744, 0.01668657045810609), (4745, 0.03201242654752082), (4746, 0.0), (4747, 0.020382538467158623), (4748, 0.035432540545711336), (4749, 0.003856384152665939), (4750, 0.0), (4751, 0.0), (4752, 0.0020583312299852535), (4753, 0.003276623558366648), (4754, 0.04165595211597816), (4755, 0.0), (4756, 0.002982619861212936), (4757, 0.017636588215641076), (4758, 0.0), (4759, 0.0)]\n"
          ]
        }
      ]
    },
    {
      "cell_type": "code",
      "source": [
        "len(Recommendation_Score)"
      ],
      "metadata": {
        "colab": {
          "base_uri": "https://localhost:8080/"
        },
        "id": "4cK82-w1frru",
        "outputId": "8738a50d-23e3-47f8-816d-803bcda98bbc"
      },
      "execution_count": 23,
      "outputs": [
        {
          "output_type": "execute_result",
          "data": {
            "text/plain": [
              "4760"
            ]
          },
          "metadata": {},
          "execution_count": 23
        }
      ]
    },
    {
      "cell_type": "markdown",
      "source": [
        "#Get All Movies Sort Based on Recommendation Score with respective to Favourite Movie"
      ],
      "metadata": {
        "id": "wVPXeS10fuQO"
      }
    },
    {
      "cell_type": "code",
      "source": [
        "Sorted_Similar_Movies = sorted(Recommendation_Score, key = lambda x:x[1], reverse = True)\n",
        "print(Sorted_Similar_Movies)"
      ],
      "metadata": {
        "colab": {
          "base_uri": "https://localhost:8080/"
        },
        "id": "nZi4ZbRCf0Mg",
        "outputId": "dd9524bf-c55e-48a7-9b5e-845e4d543b1a"
      },
      "execution_count": 24,
      "outputs": [
        {
          "output_type": "stream",
          "name": "stdout",
          "text": [
            "[(3647, 1.0), (4409, 0.17020533808661598), (4655, 0.16326320075246323), (3597, 0.15785745783683575), (2815, 0.1551533742963929), (2687, 0.15457801099964155), (2696, 0.15439118141607236), (4148, 0.153639629339343), (3360, 0.15192808489747275), (4085, 0.14953968829358785), (4588, 0.14937941974513874), (1555, 0.14626416658638516), (3278, 0.142863715491233), (4672, 0.1351733171709586), (2893, 0.12821963325916452), (604, 0.1211782075963796), (3338, 0.11869903207281922), (2606, 0.11698139676308768), (3908, 0.1147963580137307), (2970, 0.11415745412951951), (828, 0.1077362387598256), (2251, 0.10763516596201891), (105, 0.10752712146219268), (142, 0.10728067717895527), (4109, 0.1066640515473193), (1915, 0.10480303159873613), (2640, 0.1047343845278388), (1212, 0.10466948389682125), (4689, 0.10338924315252714), (2032, 0.10089232712246374), (1964, 0.10072630570602252), (2163, 0.09674141699259348), (1264, 0.09318489257963333), (2703, 0.0899712639869717), (103, 0.0876177268167373), (2359, 0.08656940326913713), (1908, 0.0865553451124437), (4593, 0.08602094475157226), (356, 0.08486582631591973), (3821, 0.0843165985641491), (4077, 0.0841984867244145), (3977, 0.08253050028059689), (4076, 0.08232229483317796), (3852, 0.08177319204567826), (1363, 0.08171041052785993), (4232, 0.08105351142213724), (1139, 0.08098200926315191), (216, 0.08046723153896136), (492, 0.08038428011571903), (1690, 0.08016006264735505), (3660, 0.07976822806439647), (653, 0.07885243368770695), (2559, 0.07825131417269432), (3031, 0.07778302069920105), (479, 0.0772678018942189), (3999, 0.07664856944505347), (711, 0.07654093298845509), (2723, 0.07517824904831748), (3352, 0.07439294271343191), (3866, 0.0741523866774237), (2913, 0.07411543174900122), (4471, 0.07339160628000764), (3216, 0.07328875676071733), (4105, 0.0731116188265172), (3860, 0.07292999434811223), (1865, 0.07106686652099883), (270, 0.07064258763287726), (4658, 0.07030853372265215), (370, 0.06998418333158189), (4249, 0.06934636901244362), (1838, 0.06933263678675441), (209, 0.06815822566426206), (658, 0.06655110368233194), (1503, 0.06652833407810639), (581, 0.066429662724543), (3388, 0.06609489047916786), (4697, 0.06585047720410833), (140, 0.0656625713344349), (210, 0.0645629406247413), (1181, 0.06417110507036931), (2954, 0.06404014562673174), (2727, 0.06394030547681959), (2817, 0.06382731206356426), (3275, 0.06373045900904528), (530, 0.06366248915176106), (2978, 0.06319677504327734), (3537, 0.06314541959669251), (286, 0.06296962750137464), (2144, 0.06257602156532052), (3700, 0.062471810194479685), (3329, 0.06216811736748639), (3370, 0.06180781458287382), (3369, 0.061180471267690065), (3407, 0.06083637298228303), (147, 0.06064589139516531), (576, 0.06053476803942752), (3213, 0.060392361138483105), (4622, 0.06013587152839377), (388, 0.058764574311175904), (1638, 0.05861261211216979), (3862, 0.05849153363000405), (1734, 0.05848462502320611), (1678, 0.05835103627882294), (3325, 0.058271337842026955), (3117, 0.05826657300585905), (2340, 0.057987021148851875), (2604, 0.05782155129525529), (2658, 0.05781862818940283), (4507, 0.0576927976806023), (3057, 0.05764900696995474), (3477, 0.057357639165137704), (4524, 0.05733242169149984), (3709, 0.05700114815950959), (4187, 0.056992129060084704), (1351, 0.05698325904995381), (876, 0.05674309715177312), (435, 0.05673531300461296), (2766, 0.056370285420850076), (3247, 0.055846615930013874), (3850, 0.055200744071330035), (1694, 0.05516676173980482), (2693, 0.0551321024799047), (665, 0.05509289725484244), (3497, 0.05487966091466742), (1188, 0.05481955731703181), (1169, 0.05446355449685282), (1901, 0.05445255638966446), (2190, 0.054246038347675114), (3425, 0.05412992378101672), (429, 0.054125131635234205), (3408, 0.054023862006106184), (1926, 0.054007543252242024), (628, 0.054001656609931004), (1478, 0.05391789864169991), (1605, 0.05377756696518849), (3552, 0.0530446223424146), (3469, 0.053031375094820615), (1902, 0.05289715459098672), (322, 0.05271834280578619), (1447, 0.05243494246641066), (1789, 0.052086042552490205), (1710, 0.05202097731585632), (605, 0.051977526475438116), (2236, 0.05187096901043952), (130, 0.05177568181991727), (542, 0.051692864781816186), (3555, 0.051494982091691364), (620, 0.051443700858131526), (2882, 0.05076482037995278), (3506, 0.050449863527420466), (1931, 0.050440229426879216), (3004, 0.050391035107717336), (281, 0.050335233188247085), (3251, 0.050217466274150926), (4244, 0.05016662305124865), (1531, 0.05013731363848119), (4406, 0.05008905751359803), (1909, 0.05007553098251659), (2702, 0.049994267392814644), (1697, 0.04983174678588586), (3782, 0.04980257584355802), (1779, 0.04973721645421189), (1898, 0.04968112604171894), (2234, 0.04934425854962292), (4000, 0.04931007877947098), (3602, 0.049264903753967984), (894, 0.04924600577935385), (1043, 0.04924311009298016), (2228, 0.049231673873327914), (2563, 0.04923102541853841), (1617, 0.04913068430893653), (2060, 0.048869854496738), (715, 0.04868385735409095), (2904, 0.04859003730819937), (630, 0.04854421950632619), (2951, 0.04830076621858899), (2063, 0.0481686734696142), (4116, 0.0479741543448018), (246, 0.0479219398192151), (896, 0.04783731465905237), (3925, 0.04753232326051899), (323, 0.047526531188353816), (3070, 0.047461215989789377), (4070, 0.047363447666603053), (1849, 0.047312096473308626), (1919, 0.047050199642825814), (952, 0.046548485041183106), (3672, 0.046344924389906644), (1107, 0.045982667278420604), (2937, 0.045855337315237846), (2065, 0.04575911463597498), (2787, 0.04567653872939939), (3177, 0.0456307037527205), (45, 0.04561180044096085), (649, 0.04554729772035316), (1988, 0.04554276847238823), (3614, 0.045463556578986375), (1095, 0.04542185455958806), (228, 0.045369552563224655), (2535, 0.045344728356291504), (2349, 0.045158101108336304), (2047, 0.04500756424557104), (3701, 0.044843933075254805), (2537, 0.04474113561806087), (1739, 0.04469941374584814), (1371, 0.044641395076299675), (1337, 0.04463921319272161), (1342, 0.044367608751610416), (2775, 0.04427659787053625), (3088, 0.04422588105674352), (3561, 0.04421268209011064), (3042, 0.04419099697862488), (1594, 0.044183532514280976), (3043, 0.04401231759542627), (4610, 0.043946167637654576), (119, 0.04379213034822375), (2388, 0.04356939676632421), (1776, 0.043525102708359215), (989, 0.04328106155739669), (1254, 0.04325418809452349), (2446, 0.04322212887073297), (1257, 0.043150992272117446), (3422, 0.04310723532724401), (524, 0.04303537219980402), (2659, 0.042840667608671876), (2628, 0.042695516449708634), (3282, 0.04229668731376022), (684, 0.04220845454534264), (2645, 0.041973691372144885), (212, 0.041941625176569394), (1375, 0.04193174691092817), (2103, 0.04192969573121686), (2460, 0.04186266758426624), (1760, 0.04176999170893268), (1569, 0.04174872930981427), (2286, 0.04168035586351332), (4754, 0.04165595211597816), (1850, 0.04145252356791924), (3848, 0.04137803761428108), (3015, 0.04132921143933721), (2023, 0.0412367678910608), (3266, 0.041141814686827385), (3239, 0.04111969788357042), (3354, 0.04106243909597806), (181, 0.040969922514726406), (1952, 0.04096091372453754), (2552, 0.040896207500533896), (837, 0.04084263676045139), (3249, 0.040791737719493806), (3687, 0.04073620975308096), (3357, 0.04054051206753005), (202, 0.04049539707806533), (1895, 0.04048887309214792), (2857, 0.04025928224096455), (963, 0.040251578027783744), (4225, 0.04019897943229739), (3521, 0.040179884584714894), (1629, 0.040132462786336864), (4430, 0.04005900195470254), (1408, 0.03984539866928287), (4545, 0.03984066693194359), (3123, 0.03978204389345115), (3544, 0.039700563833886385), (2459, 0.039697533096197224), (2966, 0.03964819517719207), (2834, 0.03961781446537803), (1300, 0.039606220649554956), (3020, 0.03959404259935418), (1547, 0.03952292218772439), (3496, 0.03951845869973738), (3206, 0.0394605852651061), (3593, 0.039371580230583944), (3257, 0.039299207965724184), (3108, 0.03925965010998739), (4161, 0.03925132503124382), (3800, 0.03923835022520072), (1460, 0.03921302690940692), (349, 0.03917781169022408), (3874, 0.03904959625094321), (2434, 0.03899038623366687), (3913, 0.03896265189723719), (2112, 0.03892447731854619), (3869, 0.0387921033515121), (4399, 0.03866478864148323), (2613, 0.038422956822347754), (462, 0.038415113225566816), (2936, 0.03841383558553382), (4462, 0.03835751433501137), (4095, 0.03834064476934078), (3217, 0.03832618636225166), (2483, 0.03832426706463416), (3622, 0.03830732002918411), (4624, 0.03825939427404874), (2941, 0.03822073760422469), (3536, 0.03819998860018406), (2417, 0.03818708903176232), (580, 0.03812601263308746), (3657, 0.03812504943537007), (3540, 0.03804001110505508), (224, 0.038035366469055844), (3032, 0.03798346842572804), (3359, 0.03795612795861386), (308, 0.037946364472506565), (2320, 0.03791544079846584), (2591, 0.03786343830006589), (1947, 0.03786142997879573), (4464, 0.03781596130181811), (2110, 0.03773756282190832), (815, 0.037704779983306284), (3419, 0.03763851029986822), (120, 0.03762862428720324), (541, 0.037605533496908664), (508, 0.03750144596723028), (2478, 0.03744082217743328), (998, 0.0373991658586283), (1259, 0.03739766663429045), (2515, 0.037390754815386326), (1305, 0.03734919721445939), (3639, 0.03732666786790602), (3958, 0.037321330698383455), (1497, 0.03722226450207071), (2939, 0.037041965353743364), (3146, 0.03690156895713294), (3013, 0.036792114419418515), (2325, 0.036771633927131966), (4389, 0.0367018630893098), (4467, 0.036553557017123144), (232, 0.0365450166342791), (1499, 0.036509831761015035), (3414, 0.03650880263640988), (2209, 0.03630983896508557), (2585, 0.036307329897748604), (3157, 0.03630199777911011), (373, 0.03629264246121876), (21, 0.03628879574341744), (1290, 0.03624517834682532), (434, 0.0362286433790473), (2108, 0.03619994086027057), (149, 0.03616113294178965), (3101, 0.036032854567987216), (753, 0.036005658778998764), (2115, 0.035994697629021404), (2890, 0.03598894354513681), (1313, 0.035953187720439594), (1790, 0.035902296704958044), (2996, 0.03589243867370551), (3332, 0.03584526487790947), (1440, 0.03581102833734945), (4486, 0.03580867304005083), (2390, 0.03575402609624046), (4408, 0.03570797016721538), (320, 0.03558373944361679), (4669, 0.03552187992610307), (4502, 0.03550904058687196), (1379, 0.03546448812723344), (2826, 0.03545490686960233), (4748, 0.035432540545711336), (2507, 0.03542941600686348), (329, 0.03539389635173353), (543, 0.035342968632086615), (3269, 0.03527975759274876), (2712, 0.03524876804424945), (4248, 0.03521133109461903), (1442, 0.035133929152194245), (2925, 0.03512046602562588), (1625, 0.03511360199607949), (2254, 0.03499879747902992), (3727, 0.034966512499835685), (218, 0.034961221506958455), (3324, 0.034952881315905265), (1409, 0.034892047244169326), (743, 0.03487054073830948), (3498, 0.03486051290067458), (4235, 0.03485290212209518), (826, 0.034783394598445753), (3171, 0.03470668065674743), (3678, 0.03469696284720704), (3912, 0.0346771691954735), (1339, 0.03466687553413218), (1990, 0.03465520838383111), (2821, 0.03462412198364176), (3653, 0.03459143139289895), (3547, 0.034542245238804725), (3457, 0.034537496410226284), (3086, 0.03449682890990154), (1791, 0.034488790299559306), (3264, 0.034438139770742386), (4534, 0.03441761033162253), (1615, 0.034413385222780646), (1893, 0.03439972416742426), (131, 0.03438846948222693), (4290, 0.03433170527309669), (2644, 0.03425962148314654), (3795, 0.03425561371963356), (3372, 0.03425325805006943), (3242, 0.034242110960306396), (3670, 0.03422435359904999), (4673, 0.03415734397160915), (3152, 0.034134275825996055), (760, 0.03411858828438674), (2926, 0.034109039632317366), (1382, 0.03405234758033017), (2305, 0.034015544888020346), (1461, 0.03398818949363712), (1374, 0.033967004604783704), (2486, 0.03395665356169507), (3224, 0.03395602393348765), (2558, 0.03393871443771274), (1765, 0.03373229811678893), (2186, 0.03371088191949424), (1854, 0.033671359797010345), (4716, 0.033572687375792096), (777, 0.0335589426365258), (1867, 0.03352131496789621), (2466, 0.03349491735092849), (3420, 0.033494069256091746), (1005, 0.033470728498658696), (2252, 0.03346620842112463), (3110, 0.033457177782905245), (3289, 0.033424516230432896), (1127, 0.03340775016045567), (2977, 0.03339448546787061), (76, 0.03338557893060171), (1922, 0.033303154446537836), (2762, 0.03328360667960303), (2088, 0.03322436235407578), (3283, 0.03322058296239078), (2292, 0.033217936606907264), (869, 0.033212425134598995), (3501, 0.03315268284337807), (579, 0.03306162470457808), (3504, 0.03304962276745836), (2474, 0.033037163646528145), (1166, 0.033022939615935845), (1836, 0.03302194895821386), (2502, 0.033015938503814284), (4391, 0.03296044321017705), (3371, 0.032946015782349194), (1121, 0.03294133921275229), (2396, 0.03291122030996141), (811, 0.032844063512927006), (2636, 0.032840064141053886), (2533, 0.032803105092169604), (2244, 0.03270980738056372), (3334, 0.03268018563752836), (422, 0.032641418706438136), (3226, 0.032639725360412986), (1514, 0.032638096201288325), (761, 0.0326196397928796), (2557, 0.03260964944258727), (2387, 0.03254387179717454), (1539, 0.03253380179504054), (2195, 0.03252879903889417), (2900, 0.032511081080758585), (487, 0.03248452103402136), (1112, 0.032484387738190346), (2734, 0.03248259857922711), (938, 0.0324729511758817), (4523, 0.03246175511111289), (2852, 0.032452312245752554), (1419, 0.032431659257586155), (2999, 0.032429854998274096), (1416, 0.03242801207516122), (829, 0.0323997468715984), (2512, 0.0323807630187552), (2886, 0.03237516603293532), (1296, 0.032325729404109535), (1345, 0.0323243359448682), (3389, 0.03227169215296423), (2860, 0.032268082108651355), (619, 0.03224600690101399), (3551, 0.03223005802559186), (3067, 0.032219882357895795), (3799, 0.03216695938285333), (1806, 0.03212101919856257), (2173, 0.032116239988694055), (3192, 0.03210357687962179), (2408, 0.03207935634489774), (1759, 0.032063092236049494), (3510, 0.03206289162306307), (4147, 0.03201546338406215), (4745, 0.03201242654752082), (3894, 0.03199868798661165), (1807, 0.03199112620105009), (3276, 0.031954233834638794), (2945, 0.03192574431316882), (347, 0.031919756266970904), (4555, 0.0319035348044071), (3220, 0.03187558606775529), (236, 0.03187497039785558), (2571, 0.03187370202827359), (87, 0.0318473632260696), (2029, 0.03184164715091275), (4366, 0.03181859931347146), (3696, 0.0318153331036032), (2698, 0.031776705586117844), (1272, 0.03174192118859248), (3100, 0.03170587948698327), (2401, 0.0316972239225749), (520, 0.031608552724821576), (1835, 0.03160005520416525), (2912, 0.03158066123285857), (2147, 0.031568384644487205), (3348, 0.031563280528275756), (1928, 0.03147616857214596), (399, 0.03144363185490758), (2605, 0.031438943243745555), (692, 0.03142262173238448), (3900, 0.031362121599530876), (536, 0.03131185811502526), (2259, 0.03130885173728706), (0, 0.03127795571612317), (870, 0.031225271634212366), (1195, 0.03121852234337808), (3029, 0.031179793277146643), (2141, 0.031173729980927205), (3415, 0.031126246509073124), (4001, 0.031113001504115667), (4347, 0.031097106228541813), (2525, 0.031065360102545975), (1352, 0.0309922795326304), (1207, 0.030946554118411903), (2143, 0.030877644345312864), (2984, 0.03085902999055917), (3646, 0.03083943056134851), (1270, 0.03081431470139027), (1032, 0.0308048925334256), (2816, 0.030773255930295874), (1002, 0.030771133651601938), (939, 0.030762707196626833), (1036, 0.030760592628407846), (2348, 0.030720471171732964), (2726, 0.03071025727386662), (1267, 0.030578083446318235), (2685, 0.030564711035577327), (2149, 0.030473536079367855), (324, 0.030406860455432866), (1114, 0.030386387824843698), (1965, 0.030353796276652266), (4356, 0.030332048356295868), (3829, 0.030317395480330994), (1432, 0.03027045495134224), (2814, 0.030265676342592047), (2213, 0.030261243990287085), (1100, 0.030206953495241974), (274, 0.030189979271161956), (3280, 0.03015842349336892), (1448, 0.030136303558523855), (2172, 0.030130399852606862), (2735, 0.030113217465817597), (108, 0.03002686877694815), (2845, 0.030019037888774015), (1847, 0.030003559387845012), (1813, 0.029995192058722878), (439, 0.02993979029517709), (2617, 0.029918356903101087), (724, 0.029909355076824566), (2871, 0.02988676185902893), (4383, 0.02984513957986423), (2274, 0.029805517660363334), (731, 0.02972695311741263), (317, 0.02971361193884718), (759, 0.029694805348295), (3373, 0.02959362205067264), (2402, 0.029536683520284948), (473, 0.029506871941347147), (2041, 0.029471534213336842), (4193, 0.0294587803190068), (732, 0.029450673652912013), (2239, 0.029377671713449644), (740, 0.02934407344975231), (2248, 0.02932139437882371), (1423, 0.029278836745604053), (2607, 0.02923412186356615), (2973, 0.029170157486164836), (1960, 0.029111683129712126), (1318, 0.02908720529282245), (4334, 0.029045376281592896), (4182, 0.02902801049840386), (1186, 0.02896772210110998), (2100, 0.02896005011843008), (3409, 0.02895137720809318), (1326, 0.028915399916936594), (2014, 0.028903060689956638), (2336, 0.02889696321396197), (1954, 0.02889106438369192), (3201, 0.028873416855978908), (1369, 0.02886465915952574), (1680, 0.028800285278766602), (1618, 0.028798086346218332), (1986, 0.028739660369702193), (4140, 0.028728466678940197), (1888, 0.02854661426141418), (2129, 0.02846098090142459), (1959, 0.028441934458051175), (1842, 0.028433058975124378), (2156, 0.028326997587620223), (194, 0.02829524360548113), (2631, 0.028243822770123425), (2070, 0.02821835192042123), (3767, 0.028215136570053437), (485, 0.028177200277732073), (1450, 0.028106116135079736), (861, 0.02808542240679607), (3021, 0.028069134369461457), (4064, 0.027987429923531502), (2311, 0.027977105664053262), (3027, 0.027964514245814934), (549, 0.027942703051338055), (916, 0.027906356208371952), (1291, 0.027897369872491033), (2594, 0.027857208387692744), (3376, 0.027850686838948906), (856, 0.027739385286291433), (645, 0.027715514133414554), (1666, 0.027712988542817268), (973, 0.027686958856353406), (2272, 0.027625155611379508), (3091, 0.027613579404618456), (4178, 0.027608448295946567), (741, 0.027593594209469382), (1411, 0.02759147383183825), (3730, 0.027579181057374415), (88, 0.027533464612548478), (4037, 0.027529158149719145), (2076, 0.02750729090509722), (1251, 0.02749946601216962), (2175, 0.027463688951852486), (2753, 0.027377253067723324), (2211, 0.027328410458368486), (3778, 0.027311345140176354), (1124, 0.027259474892637255), (676, 0.0272446826570584), (889, 0.02724276824684837), (2835, 0.027179181960461353), (3916, 0.027107044789920057), (496, 0.027073697612561464), (2749, 0.02706748958266327), (1971, 0.027066866101514802), (1700, 0.026878336401662713), (191, 0.02687114160099535), (1828, 0.026814760791010615), (2509, 0.02680208201018877), (2491, 0.026792934083829777), (2315, 0.026785306580588825), (2514, 0.026720092936833743), (1935, 0.026706514524851586), (4004, 0.026664989616370125), (942, 0.026514737221290528), (2833, 0.026510186574186703), (2441, 0.026410652172530812), (682, 0.026339515121436074), (1173, 0.026298320472626664), (2654, 0.026281631527752872), (3410, 0.026245401408367227), (1365, 0.026242338001059663), (2212, 0.0262362694532167), (2442, 0.02622939194228704), (3431, 0.0261906473794034), (2906, 0.026183891420980186), (3577, 0.02616038212029939), (1016, 0.02610296726143555), (3993, 0.026057568341100304), (926, 0.026036661177656496), (3538, 0.026005955811703743), (3074, 0.02597107956005782), (1338, 0.02586063484436038), (3832, 0.025841934258978114), (788, 0.025710364873688565), (3421, 0.025470553312753868), (1679, 0.025375442613172622), (2266, 0.025345575773699645), (489, 0.025322455644094802), (341, 0.02521682976733983), (2204, 0.025211858820292588), (1770, 0.025182455517635257), (1414, 0.025070861702253436), (2046, 0.025017090332529607), (4416, 0.02491703302438489), (2572, 0.02490689518340711), (1187, 0.024870602496495316), (3819, 0.024825798792602494), (1696, 0.02473945571826606), (187, 0.024738186042584223), (3243, 0.02462616512314715), (2322, 0.024575521010188246), (2380, 0.024496823053466576), (201, 0.024434542236366794), (2118, 0.024348589104507393), (3120, 0.024342951599957596), (4267, 0.024306808874990322), (614, 0.0242874106849921), (847, 0.02427425362709289), (3903, 0.024246415244516626), (2570, 0.024226820805737195), (1735, 0.024151984020666352), (43, 0.024133951643191192), (2715, 0.024084322660916792), (1796, 0.023990166860320097), (999, 0.023977302334812423), (1743, 0.023920527793725735), (1818, 0.023907540325052247), (4053, 0.023858318688081716), (1780, 0.02365102669472885), (444, 0.023585979448638168), (3651, 0.023547368688838922), (3667, 0.023544341111342775), (2376, 0.023507559168825916), (2580, 0.023480792682830303), (1430, 0.023458878923750502), (469, 0.023307330742622208), (710, 0.023269938221742552), (683, 0.023237912943449374), (1383, 0.023235894885898903), (4446, 0.023221164813516743), (136, 0.02320499514486888), (4101, 0.02310399254087105), (1576, 0.02309846996197553), (1330, 0.022990007459398006), (458, 0.022967833536865902), (3271, 0.02287221187025115), (170, 0.022858891036961648), (1518, 0.02279817154434732), (1907, 0.02278544018152553), (7, 0.0227803550990403), (4541, 0.02273774713806313), (3879, 0.022705433731893727), (1220, 0.02268004110804354), (587, 0.02263799683042624), (3728, 0.022635947134217592), (1119, 0.022600568095816), (1963, 0.02252608894149991), (930, 0.022468176244721055), (673, 0.02246261595064969), (190, 0.022437663061261617), (1691, 0.02243495314115231), (2000, 0.022394524147787396), (3605, 0.02238868869012028), (2196, 0.022385288202666158), (193, 0.022380933044785313), (451, 0.022351002641671173), (470, 0.0223257535674318), (1400, 0.02231361848944934), (360, 0.02222236665923798), (1192, 0.022178468527623535), (845, 0.022161139154073303), (3770, 0.022135964070779383), (1090, 0.022133533647323803), (3514, 0.022098874026827718), (293, 0.022096243962021537), (3351, 0.02209286076241836), (4066, 0.02206754479114256), (775, 0.022062057901048624), (1048, 0.021997230527541663), (311, 0.021982000323322575), (4171, 0.021963012967768234), (2096, 0.02193995425259437), (1941, 0.02189649238727956), (2351, 0.021836850897798757), (2992, 0.021836741278368425), (2894, 0.021722784925367552), (178, 0.02165365823614887), (3942, 0.021603913701675706), (304, 0.021591743579402408), (3792, 0.021527009072882818), (2697, 0.02152523746392268), (4274, 0.0214746129865084), (1872, 0.021409940717266165), (4137, 0.021362491987281927), (4379, 0.021327063783464693), (82, 0.02132564813606344), (3842, 0.021316189878549396), (1202, 0.021314481610153674), (4686, 0.02129724525113525), (2284, 0.021282403791180567), (980, 0.02127417866263301), (806, 0.021242277871060554), (3835, 0.021240067042505615), (4346, 0.02122483121125494), (4470, 0.02122197033476926), (300, 0.021202273146834174), (4427, 0.02114443314918253), (3616, 0.021109128414061568), (2368, 0.021108670776706383), (4098, 0.021099594174967082), (1276, 0.021036040280206336), (3441, 0.020994328488411325), (2073, 0.020978603018258307), (1871, 0.020927226418296176), (994, 0.02091839268592868), (2221, 0.020890237242583314), (2267, 0.020859783220610884), (4741, 0.020847251641980622), (4335, 0.02083816269991411), (2170, 0.020812046620461454), (2864, 0.020795490739574318), (2957, 0.02076720492272917), (1437, 0.020730331491759502), (26, 0.020711961632454146), (1540, 0.020688937595859574), (113, 0.020663809293983818), (4309, 0.02066078218733278), (2553, 0.020637055554068688), (1488, 0.02063583238775382), (2710, 0.020570025906363965), (3456, 0.020569005191207974), (2422, 0.020548001247458314), (2261, 0.020528813412515865), (4268, 0.020500945532735296), (1030, 0.02049061849901829), (4060, 0.020450641909671212), (3875, 0.020424486082360773), (747, 0.020396712873473156), (4747, 0.020382538467158623), (1248, 0.020338142567462112), (3684, 0.0203250282459946), (2646, 0.020271502913622758), (3093, 0.020257618787281922), (2908, 0.02019331532248293), (407, 0.020162191228450865), (221, 0.020126385317875955), (141, 0.020094574559782245), (4743, 0.020084299791052102), (89, 0.019968973480162938), (1481, 0.019922566933738967), (1829, 0.01991380419844605), (1563, 0.019875876345696836), (723, 0.019825907071538574), (3645, 0.01981838140225929), (2197, 0.01980799352240105), (1441, 0.019721963198034508), (4203, 0.01967653976276619), (3733, 0.01960439644828207), (2121, 0.019596360618069943), (3293, 0.01948273474262773), (1786, 0.019478615987538427), (2227, 0.019460594569626566), (875, 0.019438155388182596), (2718, 0.01942119361099853), (276, 0.019408497054351197), (787, 0.019397010919919605), (3816, 0.01939509482445082), (863, 0.019349487486271303), (4045, 0.01932759086319317), (1665, 0.01927305315786769), (474, 0.01922310453210135), (1336, 0.01920937532457828), (1299, 0.01920472526694247), (2555, 0.019189063728389685), (3342, 0.01911402586376007), (1183, 0.019106126938187442), (1456, 0.019105904089370008), (6, 0.019055233117240795), (1861, 0.01904710641414549), (1228, 0.019005267473402542), (4080, 0.01897999013574638), (2511, 0.01896292148073755), (2670, 0.018956945178492685), (1814, 0.018952845692490082), (4051, 0.018938163525820926), (4205, 0.018907427495806983), (2782, 0.018895996227732803), (3003, 0.018857090673019425), (3997, 0.018854518182991872), (4289, 0.018850136831195793), (3710, 0.01882835212212654), (1109, 0.01882281940655642), (3979, 0.01880335448043707), (2550, 0.01879050836330851), (3442, 0.018785909211824117), (3546, 0.018747717068939518), (846, 0.01873293023200378), (1608, 0.01868480662309407), (2290, 0.018668984073540153), (285, 0.018642528925667548), (4046, 0.018609219399023835), (4375, 0.018575677743413174), (2278, 0.01855991701651155), (386, 0.018441657649827015), (2739, 0.01843038694052042), (1512, 0.018413825921347465), (3494, 0.018412081978299664), (3889, 0.018409684922748634), (3556, 0.018404862558372263), (1602, 0.01837529136303031), (1906, 0.01835672225048324), (1644, 0.01827397685319954), (4661, 0.018246033744320142), (1830, 0.018238805629509674), (200, 0.01818822035674876), (519, 0.01817465180388127), (3683, 0.018128838323929804), (1572, 0.0180621832874254), (237, 0.018054899304974583), (851, 0.01803239927559783), (612, 0.018022833918445197), (3508, 0.018004163853746643), (1622, 0.017983662593413954), (4111, 0.017978743217027734), (634, 0.017971970348386504), (336, 0.017964328752246544), (2771, 0.01796183235315435), (2807, 0.017947717278643152), (83, 0.017947047484428526), (3007, 0.017941638732163995), (4112, 0.01785730005240214), (4047, 0.01782345645418467), (2633, 0.017821006014188654), (3578, 0.0177987570341298), (503, 0.017796411795591632), (4683, 0.017770189931596583), (315, 0.017765015617890043), (1505, 0.017761810921648885), (4364, 0.01772736600952751), (931, 0.017698318278456405), (1227, 0.017692574447225166), (783, 0.017691528420237308), (1146, 0.01768912931520572), (4627, 0.017662482387683594), (4623, 0.017646593369966646), (4314, 0.0176403911157935), (4757, 0.017636588215641076), (4373, 0.01763010524732), (2481, 0.01762814768391898), (2016, 0.01762220909908577), (2836, 0.017572863126062828), (3490, 0.017568468544917823), (3053, 0.017556322248215024), (4721, 0.017550633400268932), (2435, 0.017488653392704757), (1263, 0.017464983850161393), (1654, 0.01746290343352746), (2711, 0.01740770174413991), (1937, 0.017396324648529377), (1631, 0.017357140821556444), (1664, 0.017326746880901307), (1948, 0.01728734006483136), (557, 0.017258484403171796), (1973, 0.01721005412971728), (1235, 0.01720049203841912), (1723, 0.01717424086180255), (1472, 0.017172382024780893), (3331, 0.01715869692471523), (1373, 0.017157949145657637), (1175, 0.01713119457381876), (2109, 0.017111298942074936), (1232, 0.017105973130379756), (648, 0.017097398436970862), (810, 0.01709251722391083), (2465, 0.01706911555222951), (2918, 0.017062732962417296), (2052, 0.017061549870525675), (3582, 0.017061453456127352), (3156, 0.017057924430674016), (2958, 0.017043750807786837), (2681, 0.01702685800799733), (1293, 0.017022895902233652), (1606, 0.017018877613092537), (1152, 0.016960986332311724), (4062, 0.016958066541041632), (2250, 0.01693838554054483), (182, 0.01692833151627932), (1811, 0.01683851850200343), (3254, 0.01683046254689807), (400, 0.016819171942306893), (3173, 0.016717255916618236), (414, 0.01671224494429645), (3392, 0.016696573935605096), (4744, 0.01668657045810609), (3557, 0.016646162485211034), (4554, 0.01664293636370903), (3098, 0.01661966575134792), (1784, 0.01661240853473285), (1377, 0.016604546337512693), (2205, 0.016577840409957526), (4667, 0.01656231845659007), (3788, 0.016555132768024724), (215, 0.016499268177381107), (4576, 0.016487519035615225), (3775, 0.016435369414118522), (1135, 0.016434848101443834), (2119, 0.016429444190460954), (3028, 0.01640377411072437), (2612, 0.016394284711174475), (651, 0.016388562323195563), (1969, 0.01638176833846689), (1060, 0.016378024256807112), (706, 0.01634922758054355), (905, 0.016312395120959937), (3240, 0.016306496056585212), (3534, 0.01624035224038159), (3754, 0.016237078268817127), (160, 0.016233401037188424), (2917, 0.016213200432485725), (354, 0.016207445976179968), (443, 0.016194010418947073), (3858, 0.01617055812253637), (3759, 0.016144847427806), (1255, 0.0161288708583297), (2982, 0.016048018635025633), (966, 0.01602742693996036), (3170, 0.01597718842523083), (742, 0.015956484027840678), (2059, 0.015955429073842894), (4254, 0.01593875845477532), (501, 0.015903614649260173), (975, 0.015891227863361945), (2411, 0.01585382097690777), (4582, 0.015797596798157586), (4591, 0.015787696916245493), (96, 0.015710806884792806), (3180, 0.015688451965174974), (3950, 0.015675411198147998), (4324, 0.015632665743821616), (4358, 0.015625674841637283), (1725, 0.015589590573538025), (359, 0.015578080013190117), (3306, 0.015562391116306893), (4605, 0.015552030298334074), (1672, 0.015539623009034081), (1797, 0.015526752525907248), (957, 0.015500213882193515), (3839, 0.015490631099153019), (69, 0.015483478624033323), (363, 0.0154090455917777), (4338, 0.015402305750808148), (4240, 0.015393999175311524), (1387, 0.015324077594158868), (1511, 0.015312575376113363), (3318, 0.01529902538798146), (2452, 0.015272204206806084), (350, 0.01524230114208209), (8, 0.015205277389667878), (1103, 0.015195496353736272), (1008, 0.015175946827930529), (1934, 0.015157002184772707), (672, 0.015136649670660116), (3449, 0.015129386173383446), (703, 0.015078520001508165), (1333, 0.015037708541155857), (3095, 0.015031392395656429), (10, 0.015027635427402824), (3846, 0.01502727308424761), (2439, 0.015020164669879847), (1116, 0.01493903704958962), (4247, 0.014919752587897211), (2296, 0.01487743819021173), (4410, 0.01484012171488353), (1301, 0.014830218197540641), (3483, 0.014824054510956976), (4378, 0.014815104046981302), (4052, 0.014797347545235089), (3406, 0.014775984587830542), (3096, 0.01475588133039896), (3910, 0.014744418983173267), (1588, 0.01473416330571469), (1465, 0.014717005613313317), (4432, 0.014699701124006382), (4125, 0.014646123202507605), (1660, 0.014628654534022095), (3599, 0.014618735828922712), (890, 0.014602094260604175), (3393, 0.01459944354300232), (3648, 0.014590534197945093), (2911, 0.014571484567269739), (1083, 0.014567426171776103), (2222, 0.014565514558046668), (1341, 0.014535836266451097), (1833, 0.01453551027960098), (3365, 0.014515969741359972), (2744, 0.014510513257130835), (3722, 0.014498665760390815), (3689, 0.014481856911787673), (606, 0.014457729895338424), (4376, 0.014457544673094642), (377, 0.01442578766766725), (1707, 0.014417295165563549), (110, 0.0144120562325466), (940, 0.014405904253312292), (1164, 0.014400883922525287), (768, 0.014385615342730708), (865, 0.014376175374506453), (1294, 0.014372977934571594), (509, 0.014358271082421029), (1845, 0.014354865138575146), (1495, 0.01434658513816955), (2981, 0.014346549112900273), (3060, 0.01433408427346084), (2586, 0.014287635595360063), (4728, 0.014254881700967805), (1122, 0.014254246680986038), (3303, 0.01424791534853795), (2210, 0.01423518974429388), (2472, 0.014146240644138561), (2793, 0.014143149715839218), (1335, 0.014140379173666229), (2583, 0.01414010542572953), (2122, 0.014134331527119392), (2193, 0.014128331290472926), (477, 0.014127245239022323), (785, 0.01410984990386501), (343, 0.014107145285603669), (4738, 0.014095094421045676), (2067, 0.014085147221182091), (4435, 0.014067763717795945), (1769, 0.014067574272538567), (906, 0.01404257970917995), (610, 0.014020466856182504), (114, 0.014014285729364761), (4688, 0.014001879707761667), (4665, 0.013985998455567975), (4016, 0.013962422512844625), (3548, 0.013959382538405287), (1692, 0.01395237655240941), (1612, 0.013942042462840743), (2853, 0.013930820584263174), (50, 0.013925969939211464), (1028, 0.013917425175236928), (4006, 0.013912679314872861), (3299, 0.013912492018664886), (2581, 0.013905070368198375), (1253, 0.013904700542951981), (467, 0.013900636931889022), (2526, 0.013888831285479868), (433, 0.0138854689733153), (1262, 0.013883773649980183), (441, 0.013878310594158236), (2174, 0.01387798124553271), (2569, 0.013834630894500644), (1500, 0.013833675308848279), (3237, 0.013828864075610865), (834, 0.013807539484272336), (1550, 0.01380588557812441), (539, 0.013799023179047763), (2416, 0.013799016534154792), (81, 0.01379276163315745), (3773, 0.013791990783170954), (3906, 0.013775216544315318), (1110, 0.013762055114165452), (169, 0.013755873235366551), (1771, 0.013748064182254612), (2759, 0.013740712124886059), (1319, 0.013736343630409747), (2980, 0.013731384456512435), (2111, 0.013714527255551511), (2910, 0.01369880111295164), (273, 0.013684216135027061), (3531, 0.013677431371386137), (3412, 0.013654938328512445), (2279, 0.01364179487540235), (1130, 0.01364097020531148), (459, 0.013638123163648583), (2245, 0.013620174993975562), (1044, 0.013563036350393572), (1261, 0.013555730507963328), (179, 0.013554379218160726), (3886, 0.013542633057141052), (19, 0.013508483814934413), (2027, 0.013505452619647173), (2219, 0.01350134590444136), (4279, 0.01348497060198598), (1526, 0.01347548994024758), (2897, 0.013469308750666507), (1993, 0.013463766737694272), (3487, 0.013461471423013726), (2865, 0.013449801445099455), (2050, 0.01344614397354381), (1033, 0.013420288908372494), (1027, 0.013388179623298163), (2309, 0.013374488860036421), (1211, 0.013361931824389783), (1744, 0.013356647220497442), (3361, 0.0133487783108368), (3390, 0.01333996331955997), (2562, 0.013334745273102048), (1273, 0.013324976139552558), (164, 0.013322485700955785), (3036, 0.013311310931345705), (3864, 0.013307467067208511), (2068, 0.013304196788325446), (2965, 0.01329989966506712), (2892, 0.01329030958731614), (3466, 0.013275257535374492), (4246, 0.013256542479955023), (3133, 0.0132545048149895), (1914, 0.013252912629141356), (2679, 0.013248668124827114), (144, 0.013229221468213344), (818, 0.01322680675730168), (3014, 0.013217306374540614), (1903, 0.013191237762363642), (3712, 0.013186508623876545), (1992, 0.013174095992469692), (835, 0.013162175556831265), (1899, 0.013146048850317909), (154, 0.01314213941805418), (853, 0.013124700976840584), (1820, 0.013113751140305588), (734, 0.01311231708870814), (3083, 0.01310875525659208), (279, 0.013107130039538575), (1206, 0.013088303567229976), (568, 0.013078717993155293), (3718, 0.013076003111383974), (471, 0.0130748842367332), (106, 0.013067120040161051), (1562, 0.013061561228892495), (229, 0.013053010459483937), (598, 0.013045017475119516), (944, 0.01304442356928821), (895, 0.013044129216892469), (1068, 0.013041056212039794), (3294, 0.013006260057197435), (2907, 0.012985005200495649), (1650, 0.012982839031748598), (2556, 0.01298252817538863), (2445, 0.01297894566727899), (589, 0.01297569439560433), (1466, 0.012971984409887415), (1197, 0.012965498575304994), (1774, 0.012961157630069775), (94, 0.012949736969741991), (1519, 0.01294711868377516), (2399, 0.012923987956133554), (80, 0.012920771748435042), (3244, 0.012917757888045792), (355, 0.012910226052997385), (1974, 0.012887052790191618), (669, 0.012882468177609041), (121, 0.012868073274131498), (1288, 0.012830419090804136), (4405, 0.012815878484164482), (3459, 0.012813455890748112), (2012, 0.01279679150978924), (3742, 0.01278879727480807), (1626, 0.012777407833436534), (4638, 0.012771705765913497), (199, 0.012766298504472317), (934, 0.012760192575838446), (1538, 0.012708541388329702), (3418, 0.012706063345422049), (2055, 0.012689442855369121), (1039, 0.012655716753911733), (1719, 0.012635802252495446), (1366, 0.012629488976099943), (3231, 0.012627762924169065), (981, 0.01260475060659914), (3336, 0.012601971945216632), (936, 0.012597636009838445), (597, 0.012585778233219942), (3865, 0.012575854207383075), (158, 0.012558941799728102), (3495, 0.012539249716533309), (3111, 0.012531130316929685), (4307, 0.012493044061638547), (91, 0.012484005893836367), (1977, 0.012465786534244593), (2485, 0.012453247510551917), (1392, 0.012448253062350756), (3964, 0.012427482228844901), (2587, 0.012424848603082253), (2372, 0.01237333932355188), (3619, 0.012372036764848908), (3914, 0.012343681602737591), (4553, 0.012330336711942764), (862, 0.012284936453471531), (647, 0.012284465168423025), (32, 0.01227801152847699), (1089, 0.012233850383802217), (1559, 0.012204275745061482), (3856, 0.012203993081032278), (924, 0.012195499717477583), (2101, 0.01217691000436097), (1803, 0.01215218828594192), (1674, 0.012138456176712283), (2520, 0.012137187139594087), (2747, 0.012131709970893915), (3129, 0.012115384369356441), (2942, 0.012115350963546833), (929, 0.012114896341994615), (4158, 0.012107957296614161), (2, 0.01209974320878397), (2270, 0.012097087676943258), (4353, 0.012089281070401772), (3279, 0.012083390846231305), (357, 0.01208196253232939), (3976, 0.012066361570457257), (3238, 0.012048992379773943), (60, 0.011976810181604975), (4344, 0.011968238658383201), (3579, 0.01195094469828347), (2124, 0.011925164928230581), (639, 0.01190755569471462), (2729, 0.011871414676418803), (3668, 0.011850712990798725), (1957, 0.011846871101643989), (175, 0.011822479830968152), (1222, 0.011821347222769693), (2719, 0.011808758952763372), (3464, 0.011793111884443826), (186, 0.011792588847066295), (1010, 0.011774148079818948), (275, 0.011767187898622355), (196, 0.011759983585907588), (3347, 0.01175120805556355), (330, 0.011729056897189522), (600, 0.011708740537422168), (2985, 0.01167837124700683), (575, 0.011678350477331815), (3559, 0.011668227413842765), (3252, 0.01166638172655805), (3045, 0.01164512350665429), (796, 0.011623905783877533), (3018, 0.011620678829863935), (2969, 0.011612244213064098), (2844, 0.011563539228410039), (2573, 0.01155913274648576), (3229, 0.011556651580064728), (2794, 0.011519952459290403), (3751, 0.011507738363153254), (2648, 0.011473979630223714), (1464, 0.011468787843057306), (858, 0.01146149906936225), (4388, 0.011443026550068118), (2276, 0.011429955459552705), (1098, 0.011416968404429408), (1695, 0.0114137465164398), (319, 0.011406323528970475), (1624, 0.011393255507820207), (2955, 0.011363075092799829), (2524, 0.011362918242980725), (1453, 0.011346066954019204), (4519, 0.011313093734702066), (1386, 0.01131280494117566), (3575, 0.011311077215645424), (4210, 0.011286615377078521), (1599, 0.011266291576755159), (714, 0.011259060753045998), (1741, 0.011217467266697902), (2534, 0.011209528426627067), (510, 0.011191514613472339), (2022, 0.011183467000381407), (1144, 0.011162508715659892), (265, 0.011153624737991441), (2813, 0.011151166484989417), (63, 0.011142905041869117), (1566, 0.011136370697462492), (609, 0.011108857584028298), (1133, 0.011103507934524831), (241, 0.011100100143370314), (3362, 0.011086730951025041), (4675, 0.0110855998017986), (527, 0.011084075390621131), (1517, 0.011078514532722147), (2019, 0.011051113756626155), (1239, 0.011026353505758422), (1837, 0.011018221481542823), (1159, 0.011012244207755052), (1913, 0.010981036393879089), (1549, 0.010976296216239), (1508, 0.010958435345097032), (1314, 0.01094625181444943), (3090, 0.010942199735886967), (1082, 0.010928526384561894), (2329, 0.010914408145887285), (1635, 0.010912826539738543), (2663, 0.010878646097288072), (2867, 0.010856345312206335), (1933, 0.010846576068536869), (1966, 0.010812412010655623), (3127, 0.010778509496700513), (546, 0.010736219881361506), (1493, 0.010727854682821628), (1076, 0.01072620132062673), (3141, 0.010720523886235945), (521, 0.010713501675399285), (4459, 0.010705016875294073), (1561, 0.01069556723860169), (310, 0.010691036321152423), (2398, 0.01064659524255711), (3970, 0.010642551316024334), (2690, 0.010566558852000769), (1738, 0.010563568891092197), (2751, 0.010552111289002188), (452, 0.010545088438328304), (53, 0.010544249584808898), (3891, 0.01053759551934403), (3023, 0.01052788253643462), (763, 0.010505033136854915), (3356, 0.010499576523968907), (296, 0.01049342774904168), (1756, 0.010493236978311322), (1277, 0.010469995797253861), (3823, 0.010462312000220606), (1824, 0.010459607605130365), (1648, 0.0104557600871054), (3736, 0.010449944417289922), (561, 0.01039849655059208), (3909, 0.010381817395508329), (46, 0.01034235770437714), (532, 0.010332746483604676), (4325, 0.010321071589704927), (2513, 0.010320207353381225), (2183, 0.010318657899745263), (3114, 0.010286817738098041), (35, 0.010267581505872666), (4342, 0.01025385649256519), (409, 0.010244609781939055), (1081, 0.010237522392559345), (1157, 0.010209780115053961), (1982, 0.010192134727696369), (4600, 0.010183172567834641), (14, 0.010182237114045714), (37, 0.010158060490122037), (776, 0.010156110412261679), (1809, 0.010056401416358317), (2538, 0.010048612115342621), (3600, 0.010033849214958703), (641, 0.01002606817894857), (2262, 0.010024817141767022), (334, 0.010012727744732936), (1316, 0.010012720251321284), (2185, 0.009968528361178078), (1715, 0.009965924493031195), (3633, 0.009965803774276525), (383, 0.009917178158503577), (1025, 0.00991601034682618), (2161, 0.00990807090563104), (1384, 0.00990354173147394), (333, 0.009897638373824947), (4057, 0.00989065532727897), (3485, 0.0098879945830834), (47, 0.00987680080186576), (3063, 0.009840390503141914), (979, 0.009839530191538697), (1283, 0.00978562539146805), (756, 0.009771159830184319), (824, 0.009749817156974677), (3803, 0.009735697363362194), (1348, 0.009692537297402644), (2686, 0.009615582581198925), (1698, 0.009611539070243908), (3458, 0.009592132214870683), (1506, 0.009588046382892698), (1753, 0.00956479180123083), (2291, 0.009533271578883114), (779, 0.009511827134721164), (1178, 0.00945271480844994), (1046, 0.00945122653005449), (2541, 0.009442771872547061), (3750, 0.009413751795526495), (970, 0.009401441501882107), (1910, 0.009400458214446888), (13, 0.009354765544098472), (78, 0.00935355714065008), (1214, 0.009330562869406188), (964, 0.00927634111971633), (2508, 0.009210552835704116), (3328, 0.009202644228960555), (2443, 0.009195048139843322), (57, 0.009177120889748773), (24, 0.009144410036183256), (381, 0.009088387841438674), (366, 0.009074490370354474), (1646, 0.008953225545881039), (1586, 0.008889886328062717), (294, 0.008859909673003485), (807, 0.008834871455777476), (881, 0.008777776670201977), (1467, 0.008753869291811732), (3899, 0.008728934867101943), (3574, 0.008546150962660416), (972, 0.008523214706442097), (369, 0.008516103340152395), (3945, 0.008367435271876014), (155, 0.008303456119607568), (3205, 0.008277030048409639), (1210, 0.008091414411719608), (2841, 0.007820336360052922), (2324, 0.007415046191801914), (2660, 0.007265972053417024), (3391, 0.0064063427332944406), (2614, 0.006240264628720286), (844, 0.006194497279473689), (2809, 0.006049272535495818), (4739, 0.005859735778104925), (4288, 0.005847039146516096), (2440, 0.00583652698941615), (4719, 0.005565396598029588), (1019, 0.0054535922261471255), (3137, 0.005334058192663913), (3932, 0.005300699225224125), (4151, 0.004937124875631747), (2678, 0.004679859633984801), (611, 0.004616746025245765), (2299, 0.004595090168953213), (4571, 0.0045661101227614945), (3178, 0.004543209528681139), (3512, 0.0044063132191916226), (2757, 0.004398157528342265), (2998, 0.004313922468340407), (4607, 0.004172692860413181), (2529, 0.004171250633287274), (2379, 0.004147049101349971), (2490, 0.004141664156864856), (3523, 0.004119277258192044), (4705, 0.004108407766749942), (3051, 0.004098912998898307), (2764, 0.004093896324855012), (2768, 0.004084704495733725), (2858, 0.004072957389343619), (2137, 0.004072730028505242), (3139, 0.0040683821960760536), (4082, 0.004059370254482179), (2649, 0.00405898059743209), (2722, 0.004033948918129803), (2189, 0.0040336804358978), (4202, 0.004018020270808013), (3040, 0.004012942390862765), (2989, 0.004004019012716653), (3166, 0.003985931312511556), (1145, 0.003973548054848064), (2407, 0.003972110707144032), (3990, 0.003966303447384128), (2889, 0.003955715539108119), (3119, 0.003939452680485145), (4617, 0.003930090078483509), (4704, 0.003925598817282365), (3052, 0.0039249478156289435), (735, 0.003923814449886408), (3055, 0.003910146948094769), (2404, 0.0039084115597658176), (4017, 0.0038994209471161626), (2870, 0.003895422932191135), (3030, 0.0038927733057735683), (627, 0.003891002707977828), (2883, 0.0038885814255339097), (3635, 0.0038850405433169515), (947, 0.0038761968000154117), (2923, 0.003871704010473517), (3291, 0.0038615314621221137), (2731, 0.0038571698149111756), (4749, 0.003856384152665939), (4222, 0.003853820329228553), (4529, 0.0038528212887783903), (2484, 0.0038421104824170804), (2310, 0.003841989306614155), (4221, 0.0038419118717605647), (3479, 0.003837532590202181), (4484, 0.0038312334624897378), (4611, 0.003830175403174968), (2694, 0.0038277056106560815), (3939, 0.0038272168779967986), (2673, 0.003822580774221801), (2861, 0.0038088076294563794), (2655, 0.0038080744895908313), (2932, 0.003799273595360355), (4172, 0.003798857467600369), (3878, 0.0037767097247352038), (4418, 0.0037739764929965993), (2832, 0.0037710824943134754), (2075, 0.003765190787864507), (4696, 0.0037645646764473384), (4444, 0.0037641705570004643), (3076, 0.003760653116680391), (4407, 0.0037586553759414373), (3219, 0.0037552722528837053), (2448, 0.0037527528565692407), (2392, 0.0037519162233633817), (3292, 0.0037511626414999948), (3762, 0.003743617289929775), (2199, 0.0037405338532331537), (3892, 0.003735492707245539), (4423, 0.0037261822221946006), (4019, 0.003725032333404087), (2425, 0.0037242036486330515), (2643, 0.0037163516428172197), (4546, 0.0037143409306756915), (2255, 0.003707341108835626), (2257, 0.0036996238364822914), (3322, 0.003698273559329692), (3262, 0.0036973981995084546), (2350, 0.0036924762394492903), (2901, 0.003689357095141016), (4230, 0.0036818770495812363), (2154, 0.0036806963245240125), (4142, 0.003673822838151419), (2838, 0.0036723100996720044), (1208, 0.003663496042780461), (4400, 0.003663109047643625), (4403, 0.0036625381589251438), (2530, 0.003652237426715805), (4102, 0.0036485106307037464), (4606, 0.0036378859351505156), (2306, 0.0036355752647801733), (3828, 0.0036341525560106116), (4710, 0.003632213204163604), (2795, 0.0036288986311125344), (3128, 0.0036222603983272683), (2423, 0.003621363260845033), (3140, 0.003616331501886477), (526, 0.0036134206203608716), (1711, 0.0036034758673308127), (4469, 0.0035902954861473176), (4692, 0.0035869517604137577), (4521, 0.0035867028724198865), (4544, 0.003584684826312267), (3363, 0.003583754133094618), (3638, 0.0035826437098644684), (4612, 0.0035772776227390875), (4242, 0.0035698673897625057), (2438, 0.003559295311138441), (3159, 0.0035564292930119574), (4306, 0.003552611454093919), (4107, 0.003548207034257485), (3922, 0.003547301702481442), (3613, 0.0035443128696825477), (4660, 0.0035434168337096696), (4724, 0.0035422222298021663), (670, 0.003541303744043732), (4572, 0.0035266674630117147), (4298, 0.0035252920537019875), (4209, 0.0035211728533980978), (4443, 0.003520141810754025), (326, 0.003519077585636266), (2797, 0.0035171736659736622), (3154, 0.003517046008630367), (2568, 0.003514427486291963), (4723, 0.003513375547765584), (2488, 0.003511773788074098), (2848, 0.0035075120769350377), (2188, 0.0035069155390398095), (402, 0.003503010790270095), (3302, 0.003501135357437675), (2879, 0.003499517320835971), (3620, 0.0034990804548967825), (1655, 0.0034954213252945615), (3358, 0.0034885783443577667), (3228, 0.0034872443417949634), (2415, 0.003486831318740068), (1593, 0.0034823649552466573), (1064, 0.003481383435715402), (2778, 0.003474603214473957), (3779, 0.0034698875255755337), (2454, 0.0034698755875822336), (2993, 0.003465936336824183), (3901, 0.003465482446012058), (2619, 0.003460451118330489), (1429, 0.0034544928509569594), (3413, 0.0034514571243953935), (1168, 0.0034506223465848905), (2895, 0.0034395349199556184), (3911, 0.0034336320378642467), (4458, 0.003427134732347266), (3766, 0.003426779219455678), (3675, 0.0034253756771207267), (4701, 0.0034247790893908612), (949, 0.0034179548239382596), (4637, 0.0034097356916240793), (4490, 0.0034077914581637854), (1049, 0.003407350708628398), (4280, 0.0034055273978545247), (2772, 0.003403917685725141), (3308, 0.003401931041463024), (4735, 0.0034003432528731926), (2986, 0.003398942587603418), (4023, 0.0033934887024523836), (4717, 0.003393020212973121), (2769, 0.0033917111440733205), (2738, 0.0033910721201849538), (431, 0.0033888284985386123), (4632, 0.003387734430874985), (3763, 0.0033865410654576665), (3935, 0.003386028541926205), (4594, 0.0033846411995740572), (3081, 0.0033817564397737795), (2378, 0.003381714937817028), (3621, 0.0033813100679566926), (3524, 0.0033808704298022157), (3745, 0.003380257956716598), (1053, 0.0033798338492624625), (4584, 0.0033782567019472794), (4633, 0.003377034154513716), (1792, 0.003376901648939922), (2089, 0.003376528951550003), (4694, 0.003376318593118243), (4145, 0.003375467135301259), (2406, 0.003375314327254203), (1968, 0.0033745849002516605), (2707, 0.0033725454584408003), (518, 0.0033687280576234924), (2720, 0.0033678483444203795), (1885, 0.003366916693936403), (4412, 0.003366104355670214), (1748, 0.0033643165601158656), (4030, 0.003363368448760586), (4589, 0.0033633516853768817), (2846, 0.00336233150561412), (3094, 0.0033622708552957024), (937, 0.0033572227819664404), (4477, 0.003357108729925732), (4032, 0.0033530084064309997), (4075, 0.00335294572224096), (3951, 0.003352917470742998), (2142, 0.0033513607093480324), (3019, 0.0033451527665499864), (4126, 0.003343761654600482), (3884, 0.003343304160776714), (3072, 0.0033398140733603165), (3307, 0.0033378932679908693), (2427, 0.003337809783796064), (3450, 0.003337316021171942), (4002, 0.0033371435886277337), (2269, 0.003335063419180223), (2924, 0.003332555039362427), (4163, 0.003331526011487567), (3729, 0.0033301689134023005), (860, 0.0033293883031271635), (1398, 0.003326451205647543), (4713, 0.0033264443664628275), (4398, 0.003320433740539532), (3230, 0.0033174609766277565), (2987, 0.003317382324657599), (3364, 0.003317236043722685), (2884, 0.003317157321058287), (448, 0.003316766679181152), (1275, 0.003315635165956435), (3337, 0.003315612972322858), (3396, 0.0033144724124686887), (823, 0.003312182257561034), (2403, 0.0033119076438850956), (4650, 0.003311569782716893), (2872, 0.003307709419783514), (4369, 0.0033059399866058412), (3355, 0.003305904562089435), (925, 0.0033040817410128673), (2625, 0.003301427896665341), (3165, 0.0033004728913512507), (2560, 0.0032979987698274426), (2187, 0.003297927040103028), (3952, 0.0032953227956445306), (4516, 0.003295080904626261), (1656, 0.003294478992656111), (4465, 0.0032932842792208), (721, 0.0032924592517114167), (2796, 0.0032884898447356208), (3423, 0.00328796675897717), (985, 0.0032871092242896427), (1924, 0.0032828466568647473), (4295, 0.0032808143995487105), (4117, 0.003280200399359018), (739, 0.0032789614990516975), (1184, 0.0032782122238134625), (3661, 0.0032772520431854613), (4753, 0.003276623558366648), (3883, 0.003275494685541773), (4243, 0.003271292669747505), (3772, 0.0032700721432783993), (3296, 0.0032682618339436188), (2223, 0.003267229669347615), (2346, 0.0032671814861823935), (3611, 0.0032649790240214522), (2638, 0.0032649173423974385), (2051, 0.0032647961452176803), (3867, 0.0032643474718658185), (2302, 0.00326382874860339), (2629, 0.0032619328766224547), (2437, 0.0032615997894070133), (1843, 0.0032591923937288123), (107, 0.003259057769275712), (3186, 0.003258198241088077), (3960, 0.003257693940609931), (1887, 0.003256396188116943), (2881, 0.003254462481714942), (3148, 0.003253457360672299), (4731, 0.0032534453266260172), (2623, 0.0032530527903549366), (478, 0.0032521053989725424), (4092, 0.0032518672654718154), (2400, 0.00325011859573894), (2914, 0.003249775122372314), (3680, 0.003249404953759534), (3992, 0.003248176310251755), (4494, 0.003246253315528773), (1148, 0.003244409279741584), (235, 0.003243375184902173), (4699, 0.003242155969674466), (737, 0.0032410399038237192), (1349, 0.0032377376890809673), (3274, 0.003237677860786044), (3587, 0.003236949550153033), (419, 0.0032363549146461534), (2740, 0.003235413160227511), (4368, 0.0032340168382055012), (4333, 0.0032334407302323552), (533, 0.0032320026607466222), (1023, 0.00323004885266033), (1489, 0.0032288873011075605), (3560, 0.0032286807458543018), (813, 0.0032273867190520944), (3962, 0.0032272720247061115), (3822, 0.0032264724952865112), (2974, 0.003226204400380944), (922, 0.003223919199915617), (4718, 0.00322275998314606), (1716, 0.003222644623412524), (2903, 0.0032224722828041977), (3196, 0.003222239577454953), (4160, 0.0032217734751577407), (3012, 0.00322166483816361), (2579, 0.003220941890528567), (596, 0.0032196540696871967), (2916, 0.003218676651064296), (1862, 0.003218240099274751), (4535, 0.003216259010457627), (1858, 0.003215346054170577), (436, 0.003214990670733337), (4396, 0.0032149317496672244), (2134, 0.003214165038630958), (2356, 0.003212289927591115), (2436, 0.0032116527287137904), (4401, 0.0032105090710343423), (3737, 0.003208654705537675), (701, 0.003207658182665541), (4293, 0.003206512737229619), (3804, 0.003205457119078586), (2840, 0.003204900378016094), (3248, 0.0032047296658065795), (3640, 0.003204655314533938), (1474, 0.0032045980662017987), (729, 0.003204313614571653), (3877, 0.003199371828130337), (3273, 0.0031991077041532237), (2830, 0.003198067193745902), (4397, 0.003198032444363759), (41, 0.00319743987738356), (1498, 0.003194650844174556), (4706, 0.003192465635399067), (4259, 0.003191832714210196), (4113, 0.003191659028863876), (3857, 0.0031916198093035497), (2854, 0.0031913353350788796), (1923, 0.0031913302276188474), (2505, 0.0031912572351744245), (1890, 0.0031885025037644383), (3062, 0.0031857748143227322), (4138, 0.0031851063365606193), (888, 0.0031847418744643317), (4531, 0.00318455402976363), (688, 0.00318321471887361), (1658, 0.0031813889800001915), (2592, 0.003181186425327012), (4551, 0.0031801197078901535), (3797, 0.0031798377782482398), (3967, 0.0031765735202120785), (3026, 0.00317478429996487), (2040, 0.003174576954550685), (4042, 0.0031737676424717165), (857, 0.0031731896321561433), (967, 0.0031725414743024633), (62, 0.003172539245889458), (2176, 0.0031721480209705158), (3961, 0.003171675861077282), (2428, 0.003171190088822146), (1580, 0.003170834812572637), (4619, 0.0031704687276905607), (2159, 0.003168640053712634), (3097, 0.003168576381770425), (2049, 0.003167912871274333), (254, 0.0031672231630836254), (48, 0.0031662033233125922), (1754, 0.003165457096350606), (4263, 0.003164937403404774), (3417, 0.0031648627398087534), (371, 0.0031620067544352645), (3924, 0.003158758827470732), (3116, 0.003157667555354541), (2375, 0.0031568568078406732), (1454, 0.0031562015993272284), (476, 0.0031542965677886963), (3677, 0.0031542268500774876), (450, 0.0031530947151202854), (4602, 0.003152736027771732), (2410, 0.0031523522108134203), (1479, 0.0031516554061311957), (2464, 0.0031514991336767024), (4308, 0.0031512364703875466), (1733, 0.0031507125277165805), (3183, 0.0031466542857059724), (4048, 0.003145767488713262), (4601, 0.0031452101761198195), (2624, 0.0031442663389551397), (123, 0.003143866151227008), (253, 0.003141696243247365), (3234, 0.0031409330692774846), (3714, 0.003140867093282575), (4130, 0.003140753837400552), (2229, 0.003140291357162364), (318, 0.00314029072991987), (1866, 0.0031376770998027387), (3813, 0.003135321353451629), (1243, 0.003134231547545714), (4732, 0.0031341823192444795), (675, 0.003133691707826676), (4133, 0.0031332685609446287), (3749, 0.003133106678256781), (1905, 0.0031328143431522243), (3044, 0.0031322807212657597), (2293, 0.00313221205606561), (2037, 0.0031315669168172056), (4522, 0.003131504502467831), (1805, 0.003130767486545167), (342, 0.003130313577031057), (4013, 0.0031285073954778636), (499, 0.003127172210873247), (2097, 0.003126976160308069), (3064, 0.00312674958109889), (3516, 0.0031251680455153885), (481, 0.0031249890421261085), (2915, 0.0031248855690197883), (2748, 0.003124726513660916), (3258, 0.0031246612670615737), (887, 0.003124489151906911), (2214, 0.003124327815602766), (4087, 0.0031237413273303882), (1997, 0.003121995604938353), (3915, 0.003121148000035358), (4528, 0.00312065937733632), (2595, 0.00311671950582499), (3642, 0.0031160294177285104), (1897, 0.0031156112531177792), (4722, 0.003115214368255934), (1325, 0.00311456930151012), (2888, 0.0031127122991955296), (3771, 0.0031123957400614947), (2705, 0.0031114063302953437), (3694, 0.003109823733825997), (192, 0.003107925632842413), (1015, 0.003106209545730549), (1874, 0.0031054618167211884), (794, 0.0031054227059328777), (4734, 0.0031054032750502513), (3704, 0.0031052929797042795), (2477, 0.0031046327712681873), (3893, 0.0031042760463667954), (4024, 0.0031031237610532896), (2116, 0.003101354903178132), (3757, 0.0030997181908270005), (728, 0.003099294292783814), (2494, 0.0030980707087752708), (4579, 0.00309731015984718), (2776, 0.0030948616739042453), (3692, 0.0030939497944211256), (1848, 0.0030933314683335095), (4132, 0.0030930368886422587), (430, 0.003092862903881052), (4657, 0.00309049244736858), (2475, 0.0030902310055274536), (3112, 0.003089941588569761), (1995, 0.0030898593491174766), (1359, 0.003087758617284127), (4540, 0.003087610240765979), (4245, 0.003087356544085151), (791, 0.00308695705342675), (3184, 0.003086377981061002), (1708, 0.003086317588836964), (2162, 0.003085825886021109), (1798, 0.0030848417696263094), (2661, 0.003084745065351441), (991, 0.0030845270300744903), (395, 0.0030830097734775527), (1637, 0.0030823282018037413), (4269, 0.0030822500694804634), (4371, 0.0030814430157206966), (3781, 0.003078859325199221), (4495, 0.003077875776972975), (2786, 0.003077233063034494), (1140, 0.0030767624848569647), (4574, 0.0030767536013934734), (1537, 0.0030764936255184257), (872, 0.003076282765728536), (1683, 0.0030749417434870418), (2260, 0.0030739422038478996), (3904, 0.003073547015757383), (2725, 0.003073145559981997), (4431, 0.003073070170377926), (3873, 0.0030726180882069388), (4680, 0.0030723661803835987), (4038, 0.0030720487840194418), (1712, 0.0030715167706990083), (2940, 0.003071347790534465), (227, 0.0030709872568711943), (1141, 0.003070865003120234), (2964, 0.0030706494207911245), (4005, 0.003070457633173512), (2949, 0.0030703052544838127), (2391, 0.0030690876201284294), (2104, 0.003068843370600931), (12, 0.0030685923093562552), (3780, 0.003068137582469428), (2393, 0.0030665681282229275), (1071, 0.003066502611660399), (4231, 0.0030652932380173257), (1324, 0.0030652135203530434), (2609, 0.003064973074592807), (3601, 0.00306457754691044), (2151, 0.0030637248489112424), (3218, 0.003063479243024099), (2664, 0.0030634785422696733), (3235, 0.0030632951866302184), (4357, 0.0030630717753774178), (2522, 0.003062532902924637), (1619, 0.0030622851518552854), (4355, 0.003061281149051304), (4169, 0.0030609267572594954), (3987, 0.0030605156490204418), (2105, 0.0030598883322224316), (4175, 0.0030597803328378972), (3973, 0.0030594353041893336), (3434, 0.003057056219733181), (792, 0.0030566568300762252), (74, 0.003056107458598202), (680, 0.0030559535856836397), (622, 0.003053373492748727), (3297, 0.0030533379138783794), (3590, 0.0030524106535524415), (623, 0.0030519203795405076), (493, 0.0030509479109501634), (208, 0.0030507239736711554), (1951, 0.0030487510012086696), (1896, 0.003048402350072734), (2565, 0.0030482644612005944), (206, 0.003048194793215549), (2361, 0.003047957694644368), (3084, 0.003047699255989618), (4489, 0.003047650514286383), (3314, 0.0030475969049666234), (68, 0.0030475296753207006), (4054, 0.003046951877695808), (1687, 0.0030467139292627526), (2418, 0.0030459263739294517), (3618, 0.003045907485483222), (456, 0.00304446888728614), (2792, 0.003044353501281754), (3326, 0.0030434524346037795), (1234, 0.003042877005192108), (4505, 0.0030416269383838034), (1853, 0.0030415962538655125), (2953, 0.003041570489101686), (2714, 0.0030411627914071105), (4575, 0.003040397655070936), (1685, 0.003040242604629061), (1484, 0.0030396224028419847), (2288, 0.00303944718151701), (2755, 0.003038510455048244), (4286, 0.0030381035728994227), (2849, 0.003037874988265369), (2610, 0.003036805651864943), (4318, 0.0030364287907205744), (3777, 0.003036080997465273), (1918, 0.003035254252264916), (4123, 0.0030340809675877003), (483, 0.0030339737964230518), (1822, 0.0030333629210782154), (3037, 0.003033174925541675), (4, 0.003031912326575776), (4033, 0.0030314924337419774), (1225, 0.0030314132674468374), (4420, 0.0030300022677745902), (4566, 0.0030291795131289624), (2878, 0.0030290862193324323), (1916, 0.0030281151029563865), (2394, 0.003027851266413837), (1075, 0.0030270653643562433), (2385, 0.0030265527240915524), (4474, 0.0030255992585319176), (1007, 0.0030251158612910355), (3511, 0.003024786535994565), (1670, 0.003024422585237942), (3882, 0.003024274531315918), (3187, 0.0030239029975358683), (51, 0.0030232944333083967), (3654, 0.0030220902341291395), (3984, 0.0030220179160885623), (1570, 0.0030220158284573456), (830, 0.003020640337817959), (2419, 0.003018940579213726), (262, 0.0030187346312129677), (1643, 0.003016798612068475), (1821, 0.003015392044574128), (716, 0.003013293009311849), (1402, 0.0030132177310337213), (173, 0.003011611174266788), (564, 0.0030104544318651574), (4363, 0.003009607671801057), (255, 0.003009066186068598), (1439, 0.0030087033555838815), (4497, 0.0030084527001193826), (502, 0.003008269619332147), (3437, 0.003008211029113437), (1736, 0.003008185301984186), (3493, 0.0030076067473070183), (2083, 0.0030071953150131218), (3150, 0.0030064915505760795), (4354, 0.003006022372999985), (20, 0.003005615597988687), (3919, 0.0030038811869883), (211, 0.003003560911378264), (1006, 0.003002108722014396), (204, 0.0030020564934889727), (660, 0.003001635336915115), (4448, 0.003000932789598911), (4083, 0.003000002227538036), (1229, 0.0029999540407980602), (1224, 0.002999591765205331), (482, 0.0029993102386311706), (3382, 0.002998430811660716), (879, 0.0029979116764411442), (2561, 0.002997891670334993), (3241, 0.0029978381356470804), (4629, 0.0029976431711284), (3845, 0.0029972353420641617), (2601, 0.0029968012065012596), (717, 0.002996615513003272), (4419, 0.0029956619365605077), (1475, 0.0029956066541711106), (2531, 0.0029947384148436224), (23, 0.002994466865737593), (2545, 0.002993776339596468), (2370, 0.0029937287232809817), (4136, 0.0029934567922836365), (1513, 0.002993367629653078), (1983, 0.00299273537721472), (4089, 0.00299198733999808), (1851, 0.002991591432935206), (2546, 0.00299139424171969), (34, 0.0029901096258232378), (3902, 0.0029898387624704473), (884, 0.002989642794669475), (4361, 0.002989613323243427), (2405, 0.002988653114718455), (1727, 0.002987688616169211), (3353, 0.0029874257995216803), (588, 0.0029859654067574903), (2650, 0.0029855225194559258), (2319, 0.0029851521441971477), (551, 0.002984288947249096), (447, 0.0029837930165106754), (1364, 0.002983754465842333), (4625, 0.002983627626595851), (3666, 0.0029836251859422774), (4262, 0.00298328447839865), (4756, 0.002982619861212936), (3349, 0.0029812362725423988), (4025, 0.002981133129983093), (987, 0.0029804695724016646), (4079, 0.002978831012045283), (2148, 0.0029784001371455766), (2072, 0.002977583014910766), (774, 0.002977401672583551), (3920, 0.0029764154324399684), (3959, 0.0029762225160767167), (637, 0.002975669830853975), (11, 0.0029756585687888194), (3517, 0.0029752785175741654), (2123, 0.00297429126670933), (584, 0.002973308288846725), (1703, 0.002973124726055322), (4340, 0.002971966494641852), (3527, 0.0029703517922242163), (4422, 0.0029695022487019047), (4287, 0.0029687182062914947), (2919, 0.0029685107342371235), (3198, 0.00296847243675367), (2053, 0.0029666932432933215), (3623, 0.0029642917011947047), (2988, 0.0029637207282029645), (2126, 0.0029634380103744115), (2863, 0.0029628337005336235), (3636, 0.002961293195024917), (1494, 0.0029602876900266264), (1717, 0.002959422480558404), (1516, 0.002959343028833173), (3153, 0.0029589881952190506), (472, 0.002958311195876125), (2334, 0.0029576487578024265), (2048, 0.002957598919391715), (3290, 0.002957174542830585), (2668, 0.0029566529219387716), (3233, 0.002956173877487805), (4643, 0.002955807453245121), (1860, 0.002955183399657084), (631, 0.00295453495924781), (1768, 0.002954396105763317), (1946, 0.0029528143316935097), (176, 0.002952674567475966), (871, 0.0029525021024590244), (2321, 0.0029522836070147032), (2230, 0.0029510766001998516), (3016, 0.0029499458369640014), (1334, 0.002949836077181785), (4563, 0.002946600095628874), (3225, 0.0029446460572781856), (3809, 0.0029441339674329656), (71, 0.0029438389769601407), (3445, 0.0029428667265784525), (1355, 0.0029426448904340224), (3000, 0.0029421201567629666), (4533, 0.002940904027115295), (3526, 0.0029407463425930327), (4273, 0.002940527980043647), (3542, 0.002940053334983424), (4189, 0.0029393033913392838), (652, 0.0029391835409939477), (3571, 0.002938356189035327), (115, 0.002938250001265359), (2386, 0.0029378503744985464), (1174, 0.002937614343162226), (2784, 0.0029370807912387975), (1936, 0.002936874459883361), (1077, 0.0029356395165537983), (3699, 0.0029350139308449495), (933, 0.002934672185774864), (1176, 0.0029332119031935523), (969, 0.002932965216199519), (1182, 0.0029317829262344866), (406, 0.0029317692809629485), (1740, 0.002931295536926792), (593, 0.002930912569942231), (3113, 0.0029308565391868587), (238, 0.0029308010975112285), (1688, 0.0029301730368043507), (3606, 0.002929860757347889), (4197, 0.0029294088442639614), (4283, 0.0029291192366472595), (2489, 0.002928411531180608), (750, 0.002927485060204119), (3182, 0.0029272119397604213), (850, 0.0029253602995299127), (3707, 0.002924603961796663), (2155, 0.0029237650943248206), (1942, 0.0029235174681483964), (2397, 0.0029224722117239914), (832, 0.002921761398235844), (2746, 0.0029217158525934642), (1087, 0.002921383694517983), (2045, 0.0029203115443136663), (4068, 0.002919300101283575), (2295, 0.00291921957098027), (3643, 0.002919213614291841), (353, 0.0029184357694615045), (2798, 0.002917984134748438), (2313, 0.0029174152623136313), (4049, 0.0029163258874056576), (1413, 0.0029162898472389364), (544, 0.002916035646271382), (198, 0.0029155399708244464), (1204, 0.0029154836171776865), (2430, 0.002915421909308425), (1533, 0.0029148615694484163), (4135, 0.0029142914763099818), (2091, 0.0029135288239233617), (4255, 0.0029129642586456853), (2277, 0.002912865002594971), (2374, 0.0029122193587065486), (2887, 0.002911639706448736), (3386, 0.0029115911455959236), (1476, 0.002911275649625131), (2061, 0.002910458616022818), (2647, 0.0029103961070409724), (4014, 0.002907439896603049), (1138, 0.0029067797738119502), (3739, 0.0029051246885080932), (2652, 0.002905040765132709), (4677, 0.0029043683929213934), (1410, 0.0029042427172850803), (1985, 0.002903623290686486), (864, 0.0029036111122863082), (3335, 0.0029033515833722275), (4501, 0.002903161953781393), (636, 0.0029020400581884274), (1722, 0.002901761075609701), (1510, 0.002900936571203082), (2745, 0.0029004315229682323), (1574, 0.002899776544702949), (1706, 0.002899704878727603), (4266, 0.0028995940452187056), (2554, 0.002898842963152243), (3210, 0.0028985008821216605), (4503, 0.0028980416364250876), (848, 0.0028979647509350284), (3227, 0.0028973467003354752), (897, 0.0028953870889468123), (993, 0.0028946670757500443), (2934, 0.002894469144375243), (2192, 0.0028938032742953403), (3155, 0.0028931901018695474), (696, 0.002892371794162985), (2169, 0.002892108027516507), (3436, 0.0028920086037794897), (2783, 0.002891841555210749), (104, 0.00289167418309559), (2492, 0.0028915179092952785), (4517, 0.002890914874843421), (504, 0.0028908992497515087), (3541, 0.0028905291975683052), (1876, 0.002890040905897998), (4081, 0.0028894378222258264), (4604, 0.002889054749084392), (3125, 0.0028877268821650187), (378, 0.0028858401391539477), (697, 0.002885545630114689), (1191, 0.0028848661702851153), (3491, 0.002884814521475884), (3564, 0.0028846820077862508), (1223, 0.0028846477616356575), (1131, 0.002883123138025714), (172, 0.002882644942920554), (5, 0.0028820832315816333), (3341, 0.002881580257454604), (4715, 0.00288094668493966), (2344, 0.0028795062267736463), (4640, 0.0028788476531029115), (1385, 0.0028771472997445677), (2695, 0.0028770780910571106), (2831, 0.002876834794066253), (1170, 0.0028767619123666937), (2354, 0.0028763982514882604), (749, 0.002875260769863994), (4330, 0.002875135846101309), (3612, 0.0028746320804552243), (1304, 0.0028744881774998574), (3478, 0.002873540060355906), (2495, 0.0028732793388617874), (226, 0.002873139430924557), (1179, 0.002873134865804545), (986, 0.002871339882972225), (1378, 0.0028710928766784573), (3492, 0.002869997521480215), (1163, 0.002868468761159405), (66, 0.0028679281721916278), (3665, 0.0028666949350199134), (4320, 0.002866235808050955), (280, 0.002866020181799248), (3346, 0.002865894697998452), (3174, 0.002865861791564242), (109, 0.0028648271221282827), (79, 0.0028645732272000405), (3330, 0.0028637473701512077), (2943, 0.002863205823027321), (1021, 0.002862278651926198), (3673, 0.0028618957164602077), (3807, 0.0028584666865646043), (4511, 0.0028580483269594146), (4056, 0.0028580058905952038), (689, 0.002857772731303517), (1298, 0.0028576137028148473), (346, 0.0028553296797687797), (988, 0.0028541584754501375), (2289, 0.0028536347649206198), (1102, 0.002851924501308534), (3374, 0.0028517556772481136), (4394, 0.0028514440541723314), (1483, 0.0028512452831325344), (1891, 0.002848600624492203), (1634, 0.002848019162300006), (3553, 0.002847933958282615), (1252, 0.0028469907545333557), (3624, 0.0028469059262585515), (1072, 0.0028461005975126304), (1438, 0.0028457771240739636), (3435, 0.00284560385361795), (490, 0.0028454609976557256), (4520, 0.0028446132295891634), (348, 0.0028445549574069254), (1059, 0.002844438508976795), (3565, 0.002843856709732107), (3596, 0.002843842907870505), (3888, 0.0028432129444226676), (1831, 0.0028412064271806222), (247, 0.0028412061982217574), (466, 0.0028409067146493994), (464, 0.0028403470456590785), (3381, 0.0028392212028996193), (4228, 0.002838896713140758), (174, 0.0028383316019663517), (534, 0.002838083507051244), (61, 0.002836986862067202), (1598, 0.0028365933493745277), (769, 0.002835915896955535), (374, 0.00283510346118605), (1621, 0.002832792583752429), (880, 0.0028322700750845215), (867, 0.00283199698274719), (4668, 0.0028313952391592844), (4487, 0.002831038092492601), (282, 0.002830880191678611), (2961, 0.002828472821839813), (2946, 0.002827926451769451), (3195, 0.002827829768416657), (4349, 0.0028255781843378068), (2463, 0.0028245613878919297), (2069, 0.0028232948503219613), (727, 0.0028231918349550566), (3499, 0.0028229234672411934), (4685, 0.002821167579049522), (1026, 0.0028197243526804274), (4284, 0.002819471101768238), (3260, 0.002819324665696567), (4020, 0.002819066685368146), (3046, 0.0028183528344138536), (3827, 0.0028174324048596613), (3379, 0.002817236034326952), (1286, 0.0028170674257480505), (2216, 0.002816216967371336), (1084, 0.0028156880680128013), (1882, 0.0028154489342210047), (98, 0.002813741971498342), (4362, 0.0028136317193836573), (1527, 0.002812246764774104), (2087, 0.002810517880927927), (4530, 0.0028102956681138446), (2226, 0.0028098095001940584), (2802, 0.00280980644348961), (4687, 0.002809732416143176), (2102, 0.002809195207355502), (3447, 0.0028079002997042713), (4036, 0.002807700777870146), (4641, 0.0028070966940269317), (3069, 0.002806149231525169), (2632, 0.0028059894319409306), (4299, 0.0028051754640816256), (3719, 0.0028047295225388687), (3706, 0.0028043650674957833), (446, 0.002803153800354678), (2909, 0.0028025075751561867), (1653, 0.002802181326563603), (4387, 0.0028019083192454886), (799, 0.002801256861992159), (3402, 0.0028001984428748907), (1350, 0.0027990723021430546), (127, 0.002797935673219795), (1422, 0.0027978275704485527), (1284, 0.002797245097422684), (693, 0.0027967888016160536), (1096, 0.0027955537106256535), (4395, 0.0027955010975696127), (358, 0.002794713832218291), (2008, 0.0027944949545449477), (1017, 0.0027930175574994026), (755, 0.002792579909523671), (1035, 0.002791566478516804), (1967, 0.0027915549552466885), (3765, 0.002791302473269705), (4693, 0.0027912685414088353), (959, 0.002791074305087943), (3075, 0.002790789033305499), (522, 0.0027893388736056624), (292, 0.002787946461098001), (4442, 0.002787209346385407), (4183, 0.0027870490165335803), (2461, 0.002786134872487914), (4381, 0.0027857782824241327), (4550, 0.0027857173572680568), (4573, 0.00278564925377851), (1245, 0.0027854180605597976), (643, 0.002784530830706757), (2808, 0.0027844007450670365), (4192, 0.002782609079876969), (1671, 0.002782068625967648), (4129, 0.002781378869324206), (817, 0.0027807681859026378), (3890, 0.0027800271317998887), (488, 0.002779429251640067), (4382, 0.0027786054166843324), (4472, 0.0027777076983981084), (2080, 0.002776349564155449), (1645, 0.002776003769744202), (167, 0.002776002191244998), (3298, 0.002775763011492073), (4336, 0.0027755860713021014), (4069, 0.002775525394974017), (1247, 0.002775440632887801), (2268, 0.0027751992029649408), (3641, 0.0027751982871997666), (4139, 0.002774844773259486), (4504, 0.0027733913678628513), (2653, 0.00277292104327366), (2467, 0.0027723899053599234), (3010, 0.002770948766631494), (1463, 0.0027705415917855442), (1421, 0.002770184308088393), (2642, 0.0027685256097028333), (1597, 0.002768045152675088), (2716, 0.0027678457279428164), (923, 0.0027672766805375767), (112, 0.0027664490258616954), (4461, 0.002766316842570157), (85, 0.002764373085640026), (3917, 0.0027641947737277865), (1864, 0.0027638195488995476), (646, 0.0027633405842397633), (3826, 0.0027625425870869635), (396, 0.002761367840210159), (1117, 0.0027604737911383387), (2131, 0.0027604304887740164), (4729, 0.002760180744251801), (1582, 0.002758711701757645), (782, 0.0027573901567889965), (1020, 0.0027568361270003893), (2117, 0.002756331546838504), (3503, 0.0027554355853077303), (18, 0.0027553964224529257), (3246, 0.0027547534556743034), (1446, 0.0027537036219149277), (4670, 0.0027525655707989613), (1034, 0.0027518557064509196), (2024, 0.0027516818218666353), (2367, 0.0027506243332192353), (3868, 0.0027494836146016006), (852, 0.0027487519227551026), (2752, 0.002748394165369946), (52, 0.002747513823017479), (4567, 0.0027463518573467684), (4536, 0.0027453535560298917), (4155, 0.002745209479979277), (3315, 0.002745034444721065), (883, 0.0027449449350235035), (4614, 0.002744735153086338), (3214, 0.0027433354214707406), (2779, 0.002743122408692486), (3268, 0.0027425946631437314), (854, 0.0027423661271917987), (798, 0.0027422144295430424), (1877, 0.0027420460085675444), (4152, 0.002741583585741533), (3122, 0.00274126396542028), (3978, 0.0027408358404702863), (1929, 0.00273940407034569), (2540, 0.002738699521716759), (1001, 0.0027386981436723847), (3151, 0.002737244304341446), (157, 0.002736731008460918), (2473, 0.00273666325792554), (29, 0.002736428107837018), (4321, 0.0027357298004659037), (3035, 0.002735581149599245), (3784, 0.002735125272538494), (3691, 0.002734300310211685), (984, 0.0027333217699355545), (4213, 0.0027324184910584464), (2706, 0.002731858820208978), (2765, 0.0027314076297445034), (2242, 0.0027312848584025323), (1123, 0.0027309788972095395), (1132, 0.002730905118487163), (505, 0.0027298011631597553), (644, 0.002729733722239154), (4206, 0.002729524791850335), (4428, 0.0027285684803056097), (1878, 0.002728394959034006), (4374, 0.0027276686277866234), (1160, 0.0027274587069637058), (3898, 0.0027268805844733166), (2224, 0.002726716966661638), (437, 0.002726588379217022), (767, 0.0027258443192937722), (4345, 0.00272567405241754), (962, 0.002724730732643276), (2859, 0.0027243149148440723), (2995, 0.002723392574448445), (911, 0.00272233849245433), (4124, 0.0027190019706560846), (203, 0.0027189242197766758), (698, 0.002718722035660816), (2651, 0.002718702013914111), (2598, 0.002718676205392949), (2133, 0.0027179455818987066), (1742, 0.0027170133618169114), (408, 0.002716791969196999), (1404, 0.0027162540113682757), (2997, 0.0027160201832858296), (325, 0.0027153936600366317), (2800, 0.0027148608946448143), (878, 0.002714089282086735), (197, 0.002713219364937077), (3194, 0.002712242642573238), (116, 0.0027120521125787614), (578, 0.0027120266874021363), (3954, 0.0027119819955225125), (126, 0.002711198432237745), (3734, 0.002710242147594021), (2303, 0.0027101279213109872), (387, 0.0027100806583472037), (3811, 0.0027089171683516715), (2972, 0.0027085866985552555), (2812, 0.00270807844909067), (1663, 0.0027070775964776837), (4257, 0.0027069506924322483), (1177, 0.0027068767484071795), (2166, 0.002706243917553464), (3615, 0.0027059778793277365), (3433, 0.002705698160220801), (31, 0.002702475119774487), (694, 0.0027021907449755887), (2899, 0.0027012374995899085), (2004, 0.002700752132587715), (3300, 0.0027003951640478937), (4011, 0.00269868332588987), (507, 0.002698167429058313), (1203, 0.0026980054201221244), (1693, 0.0026980031437663496), (1041, 0.0026973133465324674), (1682, 0.002696568269286305), (287, 0.0026962896758353527), (1372, 0.00269554905658953), (307, 0.002695359495026382), (886, 0.0026939555052119643), (903, 0.002693558320699991), (1793, 0.0026932633682106855), (3941, 0.0026927990935126512), (3071, 0.002691507103594308), (941, 0.0026913495901127256), (2496, 0.0026872563452485392), (4059, 0.002687232444591633), (1620, 0.0026869178950349663), (900, 0.002686709899144963), (2099, 0.0026858307038269526), (1884, 0.0026858020263976086), (2634, 0.0026849812130380337), (3399, 0.0026846381691072244), (655, 0.002683386774496756), (4634, 0.0026813239319018124), (4603, 0.0026804300327945363), (3452, 0.0026795111903521007), (2862, 0.0026779815805328534), (372, 0.002677398520955087), (1819, 0.0026770973448277443), (659, 0.0026766721517639367), (3725, 0.0026755979212483073), (3147, 0.0026751063881584177), (213, 0.0026744611909300647), (921, 0.0026743507328950756), (410, 0.002673367321895267), (1433, 0.002673364653023522), (2201, 0.0026730933136063597), (935, 0.002672749112528914), (838, 0.002671983172243104), (866, 0.0026713588009345556), (1558, 0.002671175815240921), (111, 0.0026693531273386875), (2528, 0.002668516037219088), (868, 0.0026679639205974977), (3500, 0.0026659483892821144), (1641, 0.0026646867095712133), (463, 0.0026631075155935926), (1052, 0.002660254746312067), (1642, 0.002659495089609398), (2777, 0.002658862824025377), (766, 0.002658807982562467), (2317, 0.00265879215441698), (3627, 0.0026587498152797163), (2868, 0.002658550413963525), (744, 0.002657402546289322), (3854, 0.0026572926510482066), (805, 0.002657231081229802), (4402, 0.002657066794158693), (1920, 0.0026569075923199245), (4616, 0.002654439590489056), (3558, 0.0026528834259338576), (2593, 0.002651178472616761), (15, 0.0026504501200700016), (1477, 0.0026504295614759093), (558, 0.002649736673030672), (899, 0.002648865837019842), (2482, 0.0026486856828617355), (590, 0.002648431175001638), (638, 0.0026484249977027827), (1667, 0.0026482696386490893), (3656, 0.0026482372535136262), (1357, 0.002648096543206683), (1543, 0.002647428109210964), (4479, 0.0026465621119947944), (2674, 0.002645159714321769), (4282, 0.0026451097031366727), (4174, 0.002644854651759421), (4348, 0.0026425666945593135), (907, 0.002642533342079788), (1079, 0.002642482768374073), (3460, 0.0026423638391844632), (4176, 0.0026422525499798346), (2347, 0.0026415495483582876), (2453, 0.002641029170324658), (4649, 0.0026389392608571496), (1875, 0.002638762160373571), (3455, 0.0026384639988303394), (3876, 0.0026377154056615925), (457, 0.0026373579653051937), (1308, 0.0026363536341502958), (1462, 0.002635664494310405), (183, 0.0026353610436679865), (4326, 0.002634516216239819), (2362, 0.0026340683731465764), (416, 0.0026332287061795337), (3050, 0.0026326958541983934), (4277, 0.0026320280378132033), (3284, 0.002631771083728288), (910, 0.0026304249912908833), (1628, 0.0026292692021867474), (2920, 0.002629175146208379), (2301, 0.0026285532662025145), (624, 0.002628345732191821), (1782, 0.002628165731491917), (1065, 0.0026263964505383965), (4620, 0.002625505649791645), (124, 0.002623860388406072), (1434, 0.002623529003057816), (4359, 0.002623450075296937), (465, 0.0026234015450989634), (1730, 0.0026197662997960655), (3563, 0.002618965505680867), (1675, 0.002617780320878438), (2728, 0.002615567242767781), (1360, 0.0026152593256186405), (2803, 0.002615033501515449), (3953, 0.002614510112045274), (2011, 0.00261291003192682), (3474, 0.002611085822369917), (1528, 0.0026099788947523605), (1892, 0.0026092998105728994), (2265, 0.002608652129037465), (1237, 0.002608474729607109), (3267, 0.0026073712760178447), (1216, 0.002605717313703225), (608, 0.002604777369720739), (968, 0.0026029950411047983), (3304, 0.0026019475366817913), (1869, 0.002601696660465838), (1595, 0.0026004619209639536), (3705, 0.0026002142191554325), (3311, 0.002599350638243026), (2931, 0.002599345378508497), (449, 0.002598856203557417), (1827, 0.0025984838799181366), (1826, 0.0025984273835107908), (4154, 0.0025965616996840514), (2338, 0.0025961862208734045), (428, 0.002594325257385687), (1161, 0.0025939147793492276), (2323, 0.0025931445412514854), (2031, 0.002593023950061703), (563, 0.002591125438713543), (515, 0.002590166688589674), (4350, 0.0025900401010779503), (4712, 0.002588589439607287), (2741, 0.002587296874982205), (1080, 0.002586848423565046), (3974, 0.0025863486597328088), (4074, 0.002585978251623014), (2285, 0.0025856662048428115), (3986, 0.002585485070635373), (2457, 0.0025848622914315658), (1000, 0.002584569763375383), (804, 0.002584519043265752), (4475, 0.0025840205888261534), (4143, 0.0025829985858290003), (161, 0.002582883521425364), (800, 0.0025828257014479947), (3863, 0.002582152754166216), (722, 0.002581986750382021), (4304, 0.002579019290208048), (1219, 0.002577859118802932), (3327, 0.00257745979028348), (885, 0.002577425085570847), (1980, 0.0025773555309035532), (1808, 0.002577076389762284), (2191, 0.0025770473866047593), (3841, 0.002576938964435809), (1004, 0.0025756005559976537), (3801, 0.0025744863053802397), (2976, 0.0025741262309344187), (3167, 0.0025734000384175473), (4590, 0.0025730832771509262), (917, 0.0025720783280484163), (594, 0.0025684132986351763), (1921, 0.002568078543013881), (1762, 0.0025634858783277407), (268, 0.002562909371661266), (4141, 0.0025620617464968665), (3956, 0.0025611738040308032), (2724, 0.002553414917392461), (2264, 0.002552877128059808), (657, 0.002551756782241549), (3380, 0.0025508278627053623), (4608, 0.002549985799367286), (1009, 0.002549186893967764), (132, 0.0025475900080735216), (4104, 0.0025470678198379992), (1394, 0.0025458888577254662), (252, 0.0025453293600055274), (705, 0.0025439409798693165), (4343, 0.002541687526372471), (495, 0.0025415314888909417), (3755, 0.002539610729383734), (33, 0.002539470623337583), (712, 0.0025387477334744566), (166, 0.0025377756457871784), (1553, 0.0025360639693054634), (4220, 0.00253496194756605), (1199, 0.0025348728293225946), (808, 0.0025332557085362374), (184, 0.0025303862752083183), (222, 0.0025291699923913253), (92, 0.0025288211616562766), (4679, 0.0025262912540825774), (3, 0.0025261473046874284), (1616, 0.0025252343043507225), (2975, 0.002524510697481048), (97, 0.002521721500590385), (2240, 0.002521668936156729), (480, 0.002521519536161528), (2237, 0.0025214800694479495), (249, 0.002520074228769391), (1136, 0.002519182956873797), (4156, 0.0025188763652391304), (3403, 0.002517537478840091), (3895, 0.0025154710954616065), (3637, 0.002512956533656051), (3880, 0.0025069908519759305), (4296, 0.002502969838627265), (4473, 0.0025026599222756937), (1943, 0.0025011389769220437), (3655, 0.0025007584902077325), (2621, 0.002500017870907618), (2721, 0.0024968555468886677), (2692, 0.0024952762541183417), (2412, 0.0024951002792581874), (4429, 0.0024949715768335565), (1217, 0.0024946946219090906), (1764, 0.0024908126580375617), (3211, 0.0024879601793394174), (242, 0.0024879162336073186), (733, 0.0024862590349235287), (1397, 0.002484930461665832), (165, 0.0024840587010895496), (642, 0.0024820541496218085), (4386, 0.0024782984923065023), (874, 0.0024780654700701818), (1370, 0.002477694198202891), (278, 0.00247486928248364), (2761, 0.0024727931627539657), (364, 0.002472115718821465), (2527, 0.0024714576940517595), (3629, 0.002467829644032916), (269, 0.002465685956275863), (2611, 0.0024652336873529647), (2447, 0.0024645549575259963), (3569, 0.002463692954719072), (2743, 0.002463661624694637), (251, 0.002462910969183581), (4411, 0.0024617607234691716), (2382, 0.0024615337234853807), (1763, 0.002460738489441703), (445, 0.0024599445118642796), (1215, 0.0024596393562330864), (4476, 0.002458887600604343), (1088, 0.0024564103441653434), (1627, 0.002456318962955346), (1565, 0.0024561882706490273), (2146, 0.002455704911065596), (1050, 0.002448034342431657), (432, 0.0024445646075276213), (3200, 0.0024415502060769574), (3065, 0.002440765035260335), (2758, 0.002440467319931005), (3344, 0.0024403841253811996), (1340, 0.0024403291517978358), (2933, 0.002440301196640286), (3855, 0.0024382289662933506), (403, 0.002435579886565391), (626, 0.0024351894350424694), (3669, 0.002435185993148736), (267, 0.002435154066568138), (2035, 0.0024343255024028647), (1356, 0.00243212464580085), (3634, 0.002429557462680166), (617, 0.0024260962981452728), (951, 0.002425802401484794), (1312, 0.0024249681863266954), (4636, 0.0024232485343455693), (547, 0.002422702872301841), (2039, 0.0024171207247758626), (707, 0.002416933333546917), (2157, 0.002416244978669474), (195, 0.0024152976037595925), (2603, 0.0024134186326440995), (1801, 0.0024132241339367517), (2127, 0.002412313577588073), (566, 0.0024107823419542546), (2132, 0.002400642087660179), (3928, 0.002400300178425578), (2876, 0.002399929570031932), (1042, 0.002399928872143392), (1367, 0.002399662819167025), (4733, 0.00239763997649877), (2287, 0.0023973593762775087), (2355, 0.002395651803659333), (16, 0.0023950542983237613), (616, 0.00239464169591279), (1209, 0.002394587595769855), (1078, 0.0023930291639834168), (44, 0.002392010153267279), (3430, 0.00239183754807355), (3927, 0.002391781944538138), (2602, 0.0023843129520908966), (442, 0.0023826561517744857), (3056, 0.002380506324434988), (901, 0.0023800775812469446), (3024, 0.0023770744062448835), (25, 0.0023769839073894835), (4200, 0.0023758055674633774), (1571, 0.00237573156835542), (4015, 0.002370388976912735), (3957, 0.0023685065657296344), (2034, 0.002367426799176649), (843, 0.002363105154106752), (1241, 0.0023622671399345482), (1427, 0.0023555467704941264), (1415, 0.0023543100427341913), (3317, 0.0023535781995226383), (3756, 0.0023504948451836894), (412, 0.0023476020442857446), (1950, 0.0023471495927628034), (3313, 0.0023460238578151553), (816, 0.002338799176256474), (1037, 0.002337514623263047), (4311, 0.0023345907574457785), (156, 0.00233433480658555), (1317, 0.002328211609920157), (4626, 0.002323228115425248), (691, 0.0023224501321675796), (1303, 0.002316809783159068), (953, 0.002313642010868056), (719, 0.002308535398979381), (1989, 0.002307984042749156), (4674, 0.002307932589233835), (757, 0.0022953356724260015), (309, 0.0022855290169436797), (3471, 0.002284756999296118), (1886, 0.002283946547506195), (2010, 0.0022692708228448802), (1677, 0.002260719851451022), (4598, 0.0022543708479948778), (3301, 0.0022502168900300113), (2469, 0.002249801585321911), (159, 0.0022489712674295965), (1040, 0.0022443529287547036), (1417, 0.0022430653664037756), (2767, 0.0022418520585369426), (1747, 0.002236259153550461), (3199, 0.002225243666215989), (571, 0.00221553891835694), (607, 0.002214241508685027), (266, 0.0022109894020924887), (3316, 0.002210409421460609), (1403, 0.002207776729184298), (2760, 0.0022055517924733084), (3626, 0.0022045969482289082), (271, 0.002202216774117577), (453, 0.0021972968194231145), (4652, 0.0021963937235251413), (351, 0.0021923286327449236), (562, 0.0021800060070749105), (3285, 0.002160249972573119), (4445, 0.002157189044139752), (3983, 0.002152753979323202), (256, 0.0021467768323412957), (4301, 0.0021319368650134962), (1471, 0.0021308998840552738), (2902, 0.0021134060234770844), (283, 0.0021028581571116856), (1306, 0.0020947633662247514), (4752, 0.0020583312299852535), (455, 0.002039065049507069), (831, 0.0020285923486943968), (243, 0.0020230551027161613), (129, 0.002006587437025407), (1509, 0.001963051282777022), (3608, 0.0018716749069021515), (475, 0.001004557484433803), (1, 0.0), (9, 0.0), (17, 0.0), (22, 0.0), (27, 0.0), (28, 0.0), (30, 0.0), (36, 0.0), (38, 0.0), (39, 0.0), (40, 0.0), (42, 0.0), (49, 0.0), (54, 0.0), (55, 0.0), (56, 0.0), (58, 0.0), (59, 0.0), (64, 0.0), (65, 0.0), (67, 0.0), (70, 0.0), (72, 0.0), (73, 0.0), (75, 0.0), (77, 0.0), (84, 0.0), (86, 0.0), (90, 0.0), (93, 0.0), (95, 0.0), (99, 0.0), (100, 0.0), (101, 0.0), (102, 0.0), (117, 0.0), (118, 0.0), (122, 0.0), (125, 0.0), (128, 0.0), (133, 0.0), (134, 0.0), (135, 0.0), (137, 0.0), (138, 0.0), (139, 0.0), (143, 0.0), (145, 0.0), (146, 0.0), (148, 0.0), (150, 0.0), (151, 0.0), (152, 0.0), (153, 0.0), (162, 0.0), (163, 0.0), (168, 0.0), (171, 0.0), (177, 0.0), (180, 0.0), (185, 0.0), (188, 0.0), (189, 0.0), (205, 0.0), (207, 0.0), (214, 0.0), (217, 0.0), (219, 0.0), (220, 0.0), (223, 0.0), (225, 0.0), (230, 0.0), (231, 0.0), (233, 0.0), (234, 0.0), (239, 0.0), (240, 0.0), (244, 0.0), (245, 0.0), (248, 0.0), (250, 0.0), (257, 0.0), (258, 0.0), (259, 0.0), (260, 0.0), (261, 0.0), (263, 0.0), (264, 0.0), (272, 0.0), (277, 0.0), (284, 0.0), (288, 0.0), (289, 0.0), (290, 0.0), (291, 0.0), (295, 0.0), (297, 0.0), (298, 0.0), (299, 0.0), (301, 0.0), (302, 0.0), (303, 0.0), (305, 0.0), (306, 0.0), (312, 0.0), (313, 0.0), (314, 0.0), (316, 0.0), (321, 0.0), (327, 0.0), (328, 0.0), (331, 0.0), (332, 0.0), (335, 0.0), (337, 0.0), (338, 0.0), (339, 0.0), (340, 0.0), (344, 0.0), (345, 0.0), (352, 0.0), (361, 0.0), (362, 0.0), (365, 0.0), (367, 0.0), (368, 0.0), (375, 0.0), (376, 0.0), (379, 0.0), (380, 0.0), (382, 0.0), (384, 0.0), (385, 0.0), (389, 0.0), (390, 0.0), (391, 0.0), (392, 0.0), (393, 0.0), (394, 0.0), (397, 0.0), (398, 0.0), (401, 0.0), (404, 0.0), (405, 0.0), (411, 0.0), (413, 0.0), (415, 0.0), (417, 0.0), (418, 0.0), (420, 0.0), (421, 0.0), (423, 0.0), (424, 0.0), (425, 0.0), (426, 0.0), (427, 0.0), (438, 0.0), (440, 0.0), (454, 0.0), (460, 0.0), (461, 0.0), (468, 0.0), (484, 0.0), (486, 0.0), (491, 0.0), (494, 0.0), (497, 0.0), (498, 0.0), (500, 0.0), (506, 0.0), (511, 0.0), (512, 0.0), (513, 0.0), (514, 0.0), (516, 0.0), (517, 0.0), (523, 0.0), (525, 0.0), (528, 0.0), (529, 0.0), (531, 0.0), (535, 0.0), (537, 0.0), (538, 0.0), (540, 0.0), (545, 0.0), (548, 0.0), (550, 0.0), (552, 0.0), (553, 0.0), (554, 0.0), (555, 0.0), (556, 0.0), (559, 0.0), (560, 0.0), (565, 0.0), (567, 0.0), (569, 0.0), (570, 0.0), (572, 0.0), (573, 0.0), (574, 0.0), (577, 0.0), (582, 0.0), (583, 0.0), (585, 0.0), (586, 0.0), (591, 0.0), (592, 0.0), (595, 0.0), (599, 0.0), (601, 0.0), (602, 0.0), (603, 0.0), (613, 0.0), (615, 0.0), (618, 0.0), (621, 0.0), (625, 0.0), (629, 0.0), (632, 0.0), (633, 0.0), (635, 0.0), (640, 0.0), (650, 0.0), (654, 0.0), (656, 0.0), (661, 0.0), (662, 0.0), (663, 0.0), (664, 0.0), (666, 0.0), (667, 0.0), (668, 0.0), (671, 0.0), (674, 0.0), (677, 0.0), (678, 0.0), (679, 0.0), (681, 0.0), (685, 0.0), (686, 0.0), (687, 0.0), (690, 0.0), (695, 0.0), (699, 0.0), (700, 0.0), (702, 0.0), (704, 0.0), (708, 0.0), (709, 0.0), (713, 0.0), (718, 0.0), (720, 0.0), (725, 0.0), (726, 0.0), (730, 0.0), (736, 0.0), (738, 0.0), (745, 0.0), (746, 0.0), (748, 0.0), (751, 0.0), (752, 0.0), (754, 0.0), (758, 0.0), (762, 0.0), (764, 0.0), (765, 0.0), (770, 0.0), (771, 0.0), (772, 0.0), (773, 0.0), (778, 0.0), (780, 0.0), (781, 0.0), (784, 0.0), (786, 0.0), (789, 0.0), (790, 0.0), (793, 0.0), (795, 0.0), (797, 0.0), (801, 0.0), (802, 0.0), (803, 0.0), (809, 0.0), (812, 0.0), (814, 0.0), (819, 0.0), (820, 0.0), (821, 0.0), (822, 0.0), (825, 0.0), (827, 0.0), (833, 0.0), (836, 0.0), (839, 0.0), (840, 0.0), (841, 0.0), (842, 0.0), (849, 0.0), (855, 0.0), (859, 0.0), (873, 0.0), (877, 0.0), (882, 0.0), (891, 0.0), (892, 0.0), (893, 0.0), (898, 0.0), (902, 0.0), (904, 0.0), (908, 0.0), (909, 0.0), (912, 0.0), (913, 0.0), (914, 0.0), (915, 0.0), (918, 0.0), (919, 0.0), (920, 0.0), (927, 0.0), (928, 0.0), (932, 0.0), (943, 0.0), (945, 0.0), (946, 0.0), (948, 0.0), (950, 0.0), (954, 0.0), (955, 0.0), (956, 0.0), (958, 0.0), (960, 0.0), (961, 0.0), (965, 0.0), (971, 0.0), (974, 0.0), (976, 0.0), (977, 0.0), (978, 0.0), (982, 0.0), (983, 0.0), (990, 0.0), (992, 0.0), (995, 0.0), (996, 0.0), (997, 0.0), (1003, 0.0), (1011, 0.0), (1012, 0.0), (1013, 0.0), (1014, 0.0), (1018, 0.0), (1022, 0.0), (1024, 0.0), (1029, 0.0), (1031, 0.0), (1038, 0.0), (1045, 0.0), (1047, 0.0), (1051, 0.0), (1054, 0.0), (1055, 0.0), (1056, 0.0), (1057, 0.0), (1058, 0.0), (1061, 0.0), (1062, 0.0), (1063, 0.0), (1066, 0.0), (1067, 0.0), (1069, 0.0), (1070, 0.0), (1073, 0.0), (1074, 0.0), (1085, 0.0), (1086, 0.0), (1091, 0.0), (1092, 0.0), (1093, 0.0), (1094, 0.0), (1097, 0.0), (1099, 0.0), (1101, 0.0), (1104, 0.0), (1105, 0.0), (1106, 0.0), (1108, 0.0), (1111, 0.0), (1113, 0.0), (1115, 0.0), (1118, 0.0), (1120, 0.0), (1125, 0.0), (1126, 0.0), (1128, 0.0), (1129, 0.0), (1134, 0.0), (1137, 0.0), (1142, 0.0), (1143, 0.0), (1147, 0.0), (1149, 0.0), (1150, 0.0), (1151, 0.0), (1153, 0.0), (1154, 0.0), (1155, 0.0), (1156, 0.0), (1158, 0.0), (1162, 0.0), (1165, 0.0), (1167, 0.0), (1171, 0.0), (1172, 0.0), (1180, 0.0), (1185, 0.0), (1189, 0.0), (1190, 0.0), (1193, 0.0), (1194, 0.0), (1196, 0.0), (1198, 0.0), (1200, 0.0), (1201, 0.0), (1205, 0.0), (1213, 0.0), (1218, 0.0), (1221, 0.0), (1226, 0.0), (1230, 0.0), (1231, 0.0), (1233, 0.0), (1236, 0.0), (1238, 0.0), (1240, 0.0), (1242, 0.0), (1244, 0.0), (1246, 0.0), (1249, 0.0), (1250, 0.0), (1256, 0.0), (1258, 0.0), (1260, 0.0), (1265, 0.0), (1266, 0.0), (1268, 0.0), (1269, 0.0), (1271, 0.0), (1274, 0.0), (1278, 0.0), (1279, 0.0), (1280, 0.0), (1281, 0.0), (1282, 0.0), (1285, 0.0), (1287, 0.0), (1289, 0.0), (1292, 0.0), (1295, 0.0), (1297, 0.0), (1302, 0.0), (1307, 0.0), (1309, 0.0), (1310, 0.0), (1311, 0.0), (1315, 0.0), (1320, 0.0), (1321, 0.0), (1322, 0.0), (1323, 0.0), (1327, 0.0), (1328, 0.0), (1329, 0.0), (1331, 0.0), (1332, 0.0), (1343, 0.0), (1344, 0.0), (1346, 0.0), (1347, 0.0), (1353, 0.0), (1354, 0.0), (1358, 0.0), (1361, 0.0), (1362, 0.0), (1368, 0.0), (1376, 0.0), (1380, 0.0), (1381, 0.0), (1388, 0.0), (1389, 0.0), (1390, 0.0), (1391, 0.0), (1393, 0.0), (1395, 0.0), (1396, 0.0), (1399, 0.0), (1401, 0.0), (1405, 0.0), (1406, 0.0), (1407, 0.0), (1412, 0.0), (1418, 0.0), (1420, 0.0), (1424, 0.0), (1425, 0.0), (1426, 0.0), (1428, 0.0), (1431, 0.0), (1435, 0.0), (1436, 0.0), (1443, 0.0), (1444, 0.0), (1445, 0.0), (1449, 0.0), (1451, 0.0), (1452, 0.0), (1455, 0.0), (1457, 0.0), (1458, 0.0), (1459, 0.0), (1468, 0.0), (1469, 0.0), (1470, 0.0), (1473, 0.0), (1480, 0.0), (1482, 0.0), (1485, 0.0), (1486, 0.0), (1487, 0.0), (1490, 0.0), (1491, 0.0), (1492, 0.0), (1496, 0.0), (1501, 0.0), (1502, 0.0), (1504, 0.0), (1507, 0.0), (1515, 0.0), (1520, 0.0), (1521, 0.0), (1522, 0.0), (1523, 0.0), (1524, 0.0), (1525, 0.0), (1529, 0.0), (1530, 0.0), (1532, 0.0), (1534, 0.0), (1535, 0.0), (1536, 0.0), (1541, 0.0), (1542, 0.0), (1544, 0.0), (1545, 0.0), (1546, 0.0), (1548, 0.0), (1551, 0.0), (1552, 0.0), (1554, 0.0), (1556, 0.0), (1557, 0.0), (1560, 0.0), (1564, 0.0), (1567, 0.0), (1568, 0.0), (1573, 0.0), (1575, 0.0), (1577, 0.0), (1578, 0.0), (1579, 0.0), (1581, 0.0), (1583, 0.0), (1584, 0.0), (1585, 0.0), (1587, 0.0), (1589, 0.0), (1590, 0.0), (1591, 0.0), (1592, 0.0), (1596, 0.0), (1600, 0.0), (1601, 0.0), (1603, 0.0), (1604, 0.0), (1607, 0.0), (1609, 0.0), (1610, 0.0), (1611, 0.0), (1613, 0.0), (1614, 0.0), (1623, 0.0), (1630, 0.0), (1632, 0.0), (1633, 0.0), (1636, 0.0), (1639, 0.0), (1640, 0.0), (1647, 0.0), (1649, 0.0), (1651, 0.0), (1652, 0.0), (1657, 0.0), (1659, 0.0), (1661, 0.0), (1662, 0.0), (1668, 0.0), (1669, 0.0), (1673, 0.0), (1676, 0.0), (1681, 0.0), (1684, 0.0), (1686, 0.0), (1689, 0.0), (1699, 0.0), (1701, 0.0), (1702, 0.0), (1704, 0.0), (1705, 0.0), (1709, 0.0), (1713, 0.0), (1714, 0.0), (1718, 0.0), (1720, 0.0), (1721, 0.0), (1724, 0.0), (1726, 0.0), (1728, 0.0), (1729, 0.0), (1731, 0.0), (1732, 0.0), (1737, 0.0), (1745, 0.0), (1746, 0.0), (1749, 0.0), (1750, 0.0), (1751, 0.0), (1752, 0.0), (1755, 0.0), (1757, 0.0), (1758, 0.0), (1761, 0.0), (1766, 0.0), (1767, 0.0), (1772, 0.0), (1773, 0.0), (1775, 0.0), (1777, 0.0), (1778, 0.0), (1781, 0.0), (1783, 0.0), (1785, 0.0), (1787, 0.0), (1788, 0.0), (1794, 0.0), (1795, 0.0), (1799, 0.0), (1800, 0.0), (1802, 0.0), (1804, 0.0), (1810, 0.0), (1812, 0.0), (1815, 0.0), (1816, 0.0), (1817, 0.0), (1823, 0.0), (1825, 0.0), (1832, 0.0), (1834, 0.0), (1839, 0.0), (1840, 0.0), (1841, 0.0), (1844, 0.0), (1846, 0.0), (1852, 0.0), (1855, 0.0), (1856, 0.0), (1857, 0.0), (1859, 0.0), (1863, 0.0), (1868, 0.0), (1870, 0.0), (1873, 0.0), (1879, 0.0), (1880, 0.0), (1881, 0.0), (1883, 0.0), (1889, 0.0), (1894, 0.0), (1900, 0.0), (1904, 0.0), (1911, 0.0), (1912, 0.0), (1917, 0.0), (1925, 0.0), (1927, 0.0), (1930, 0.0), (1932, 0.0), (1938, 0.0), (1939, 0.0), (1940, 0.0), (1944, 0.0), (1945, 0.0), (1949, 0.0), (1953, 0.0), (1955, 0.0), (1956, 0.0), (1958, 0.0), (1961, 0.0), (1962, 0.0), (1970, 0.0), (1972, 0.0), (1975, 0.0), (1976, 0.0), (1978, 0.0), (1979, 0.0), (1981, 0.0), (1984, 0.0), (1987, 0.0), (1991, 0.0), (1994, 0.0), (1996, 0.0), (1998, 0.0), (1999, 0.0), (2001, 0.0), (2002, 0.0), (2003, 0.0), (2005, 0.0), (2006, 0.0), (2007, 0.0), (2009, 0.0), (2013, 0.0), (2015, 0.0), (2017, 0.0), (2018, 0.0), (2020, 0.0), (2021, 0.0), (2025, 0.0), (2026, 0.0), (2028, 0.0), (2030, 0.0), (2033, 0.0), (2036, 0.0), (2038, 0.0), (2042, 0.0), (2043, 0.0), (2044, 0.0), (2054, 0.0), (2056, 0.0), (2057, 0.0), (2058, 0.0), (2062, 0.0), (2064, 0.0), (2066, 0.0), (2071, 0.0), (2074, 0.0), (2077, 0.0), (2078, 0.0), (2079, 0.0), (2081, 0.0), (2082, 0.0), (2084, 0.0), (2085, 0.0), (2086, 0.0), (2090, 0.0), (2092, 0.0), (2093, 0.0), (2094, 0.0), (2095, 0.0), (2098, 0.0), (2106, 0.0), (2107, 0.0), (2113, 0.0), (2114, 0.0), (2120, 0.0), (2125, 0.0), (2128, 0.0), (2130, 0.0), (2135, 0.0), (2136, 0.0), (2138, 0.0), (2139, 0.0), (2140, 0.0), (2145, 0.0), (2150, 0.0), (2152, 0.0), (2153, 0.0), (2158, 0.0), (2160, 0.0), (2164, 0.0), (2165, 0.0), (2167, 0.0), (2168, 0.0), (2171, 0.0), (2177, 0.0), (2178, 0.0), (2179, 0.0), (2180, 0.0), (2181, 0.0), (2182, 0.0), (2184, 0.0), (2194, 0.0), (2198, 0.0), (2200, 0.0), (2202, 0.0), (2203, 0.0), (2206, 0.0), (2207, 0.0), (2208, 0.0), (2215, 0.0), (2217, 0.0), (2218, 0.0), (2220, 0.0), (2225, 0.0), (2231, 0.0), (2232, 0.0), (2233, 0.0), (2235, 0.0), (2238, 0.0), (2241, 0.0), (2243, 0.0), (2246, 0.0), (2247, 0.0), (2249, 0.0), (2253, 0.0), (2256, 0.0), (2258, 0.0), (2263, 0.0), (2271, 0.0), (2273, 0.0), (2275, 0.0), (2280, 0.0), (2281, 0.0), (2282, 0.0), (2283, 0.0), (2294, 0.0), (2297, 0.0), (2298, 0.0), (2300, 0.0), (2304, 0.0), (2307, 0.0), (2308, 0.0), (2312, 0.0), (2314, 0.0), (2316, 0.0), (2318, 0.0), (2326, 0.0), (2327, 0.0), (2328, 0.0), (2330, 0.0), (2331, 0.0), (2332, 0.0), (2333, 0.0), (2335, 0.0), (2337, 0.0), (2339, 0.0), (2341, 0.0), (2342, 0.0), (2343, 0.0), (2345, 0.0), (2352, 0.0), (2353, 0.0), (2357, 0.0), (2358, 0.0), (2360, 0.0), (2363, 0.0), (2364, 0.0), (2365, 0.0), (2366, 0.0), (2369, 0.0), (2371, 0.0), (2373, 0.0), (2377, 0.0), (2381, 0.0), (2383, 0.0), (2384, 0.0), (2389, 0.0), (2395, 0.0), (2409, 0.0), (2413, 0.0), (2414, 0.0), (2420, 0.0), (2421, 0.0), (2424, 0.0), (2426, 0.0), (2429, 0.0), (2431, 0.0), (2432, 0.0), (2433, 0.0), (2444, 0.0), (2449, 0.0), (2450, 0.0), (2451, 0.0), (2455, 0.0), (2456, 0.0), (2458, 0.0), (2462, 0.0), (2468, 0.0), (2470, 0.0), (2471, 0.0), (2476, 0.0), (2479, 0.0), (2480, 0.0), (2487, 0.0), (2493, 0.0), (2497, 0.0), (2498, 0.0), (2499, 0.0), (2500, 0.0), (2501, 0.0), (2503, 0.0), (2504, 0.0), (2506, 0.0), (2510, 0.0), (2516, 0.0), (2517, 0.0), (2518, 0.0), (2519, 0.0), (2521, 0.0), (2523, 0.0), (2532, 0.0), (2536, 0.0), (2539, 0.0), (2542, 0.0), (2543, 0.0), (2544, 0.0), (2547, 0.0), (2548, 0.0), (2549, 0.0), (2551, 0.0), (2564, 0.0), (2566, 0.0), (2567, 0.0), (2574, 0.0), (2575, 0.0), (2576, 0.0), (2577, 0.0), (2578, 0.0), (2582, 0.0), (2584, 0.0), (2588, 0.0), (2589, 0.0), (2590, 0.0), (2596, 0.0), (2597, 0.0), (2599, 0.0), (2600, 0.0), (2608, 0.0), (2615, 0.0), (2616, 0.0), (2618, 0.0), (2620, 0.0), (2622, 0.0), (2626, 0.0), (2627, 0.0), (2630, 0.0), (2635, 0.0), (2637, 0.0), (2639, 0.0), (2641, 0.0), (2656, 0.0), (2657, 0.0), (2662, 0.0), (2665, 0.0), (2666, 0.0), (2667, 0.0), (2669, 0.0), (2671, 0.0), (2672, 0.0), (2675, 0.0), (2676, 0.0), (2677, 0.0), (2680, 0.0), (2682, 0.0), (2683, 0.0), (2684, 0.0), (2688, 0.0), (2689, 0.0), (2691, 0.0), (2699, 0.0), (2700, 0.0), (2701, 0.0), (2704, 0.0), (2708, 0.0), (2709, 0.0), (2713, 0.0), (2717, 0.0), (2730, 0.0), (2732, 0.0), (2733, 0.0), (2736, 0.0), (2737, 0.0), (2742, 0.0), (2750, 0.0), (2754, 0.0), (2756, 0.0), (2763, 0.0), (2770, 0.0), (2773, 0.0), (2774, 0.0), (2780, 0.0), (2781, 0.0), (2785, 0.0), (2788, 0.0), (2789, 0.0), (2790, 0.0), (2791, 0.0), (2799, 0.0), (2801, 0.0), (2804, 0.0), (2805, 0.0), (2806, 0.0), (2810, 0.0), (2811, 0.0), (2818, 0.0), (2819, 0.0), (2820, 0.0), (2822, 0.0), (2823, 0.0), (2824, 0.0), (2825, 0.0), (2827, 0.0), (2828, 0.0), (2829, 0.0), (2837, 0.0), (2839, 0.0), (2842, 0.0), (2843, 0.0), (2847, 0.0), (2850, 0.0), (2851, 0.0), (2855, 0.0), (2856, 0.0), (2866, 0.0), (2869, 0.0), (2873, 0.0), (2874, 0.0), (2875, 0.0), (2877, 0.0), (2880, 0.0), (2885, 0.0), (2891, 0.0), (2896, 0.0), (2898, 0.0), (2905, 0.0), (2921, 0.0), (2922, 0.0), (2927, 0.0), (2928, 0.0), (2929, 0.0), (2930, 0.0), (2935, 0.0), (2938, 0.0), (2944, 0.0), (2947, 0.0), (2948, 0.0), (2950, 0.0), (2952, 0.0), (2956, 0.0), (2959, 0.0), (2960, 0.0), (2962, 0.0), (2963, 0.0), (2967, 0.0), (2968, 0.0), (2971, 0.0), (2979, 0.0), (2983, 0.0), (2990, 0.0), (2991, 0.0), (2994, 0.0), (3001, 0.0), (3002, 0.0), (3005, 0.0), (3006, 0.0), (3008, 0.0), (3009, 0.0), (3011, 0.0), (3017, 0.0), (3022, 0.0), (3025, 0.0), (3033, 0.0), (3034, 0.0), (3038, 0.0), (3039, 0.0), (3041, 0.0), (3047, 0.0), (3048, 0.0), (3049, 0.0), (3054, 0.0), (3058, 0.0), (3059, 0.0), (3061, 0.0), (3066, 0.0), (3068, 0.0), (3073, 0.0), (3077, 0.0), (3078, 0.0), (3079, 0.0), (3080, 0.0), (3082, 0.0), (3085, 0.0), (3087, 0.0), (3089, 0.0), (3092, 0.0), (3099, 0.0), (3102, 0.0), (3103, 0.0), (3104, 0.0), (3105, 0.0), (3106, 0.0), (3107, 0.0), (3109, 0.0), (3115, 0.0), (3118, 0.0), (3121, 0.0), (3124, 0.0), (3126, 0.0), (3130, 0.0), (3131, 0.0), (3132, 0.0), (3134, 0.0), (3135, 0.0), (3136, 0.0), (3138, 0.0), (3142, 0.0), (3143, 0.0), (3144, 0.0), (3145, 0.0), (3149, 0.0), (3158, 0.0), (3160, 0.0), (3161, 0.0), (3162, 0.0), (3163, 0.0), (3164, 0.0), (3168, 0.0), (3169, 0.0), (3172, 0.0), (3175, 0.0), (3176, 0.0), (3179, 0.0), (3181, 0.0), (3185, 0.0), (3188, 0.0), (3189, 0.0), (3190, 0.0), (3191, 0.0), (3193, 0.0), (3197, 0.0), (3202, 0.0), (3203, 0.0), (3204, 0.0), (3207, 0.0), (3208, 0.0), (3209, 0.0), (3212, 0.0), (3215, 0.0), (3221, 0.0), (3222, 0.0), (3223, 0.0), (3232, 0.0), (3236, 0.0), (3245, 0.0), (3250, 0.0), (3253, 0.0), (3255, 0.0), (3256, 0.0), (3259, 0.0), (3261, 0.0), (3263, 0.0), (3265, 0.0), (3270, 0.0), (3272, 0.0), (3277, 0.0), (3281, 0.0), (3286, 0.0), (3287, 0.0), (3288, 0.0), (3295, 0.0), (3305, 0.0), (3309, 0.0), (3310, 0.0), (3312, 0.0), (3319, 0.0), (3320, 0.0), (3321, 0.0), (3323, 0.0), (3333, 0.0), (3339, 0.0), (3340, 0.0), (3343, 0.0), (3345, 0.0), (3350, 0.0), (3366, 0.0), (3367, 0.0), (3368, 0.0), (3375, 0.0), (3377, 0.0), (3378, 0.0), (3383, 0.0), (3384, 0.0), (3385, 0.0), (3387, 0.0), (3394, 0.0), (3395, 0.0), (3397, 0.0), (3398, 0.0), (3400, 0.0), (3401, 0.0), (3404, 0.0), (3405, 0.0), (3411, 0.0), (3416, 0.0), (3424, 0.0), (3426, 0.0), (3427, 0.0), (3428, 0.0), (3429, 0.0), (3432, 0.0), (3438, 0.0), (3439, 0.0), (3440, 0.0), (3443, 0.0), (3444, 0.0), (3446, 0.0), (3448, 0.0), (3451, 0.0), (3453, 0.0), (3454, 0.0), (3461, 0.0), (3462, 0.0), (3463, 0.0), (3465, 0.0), (3467, 0.0), (3468, 0.0), (3470, 0.0), (3472, 0.0), (3473, 0.0), (3475, 0.0), (3476, 0.0), (3480, 0.0), (3481, 0.0), (3482, 0.0), (3484, 0.0), (3486, 0.0), (3488, 0.0), (3489, 0.0), (3502, 0.0), (3505, 0.0), (3507, 0.0), (3509, 0.0), (3513, 0.0), (3515, 0.0), (3518, 0.0), (3519, 0.0), (3520, 0.0), (3522, 0.0), (3525, 0.0), (3528, 0.0), (3529, 0.0), (3530, 0.0), (3532, 0.0), (3533, 0.0), (3535, 0.0), (3539, 0.0), (3543, 0.0), (3545, 0.0), (3549, 0.0), (3550, 0.0), (3554, 0.0), (3562, 0.0), (3566, 0.0), (3567, 0.0), (3568, 0.0), (3570, 0.0), (3572, 0.0), (3573, 0.0), (3576, 0.0), (3580, 0.0), (3581, 0.0), (3583, 0.0), (3584, 0.0), (3585, 0.0), (3586, 0.0), (3588, 0.0), (3589, 0.0), (3591, 0.0), (3592, 0.0), (3594, 0.0), (3595, 0.0), (3598, 0.0), (3603, 0.0), (3604, 0.0), (3607, 0.0), (3609, 0.0), (3610, 0.0), (3617, 0.0), (3625, 0.0), (3628, 0.0), (3630, 0.0), (3631, 0.0), (3632, 0.0), (3644, 0.0), (3649, 0.0), (3650, 0.0), (3652, 0.0), (3658, 0.0), (3659, 0.0), (3662, 0.0), (3663, 0.0), (3664, 0.0), (3671, 0.0), (3674, 0.0), (3676, 0.0), (3679, 0.0), (3681, 0.0), (3682, 0.0), (3685, 0.0), (3686, 0.0), (3688, 0.0), (3690, 0.0), (3693, 0.0), (3695, 0.0), (3697, 0.0), (3698, 0.0), (3702, 0.0), (3703, 0.0), (3708, 0.0), (3711, 0.0), (3713, 0.0), (3715, 0.0), (3716, 0.0), (3717, 0.0), (3720, 0.0), (3721, 0.0), (3723, 0.0), (3724, 0.0), (3726, 0.0), (3731, 0.0), (3732, 0.0), (3735, 0.0), (3738, 0.0), (3740, 0.0), (3741, 0.0), (3743, 0.0), (3744, 0.0), (3746, 0.0), (3747, 0.0), (3748, 0.0), (3752, 0.0), (3753, 0.0), (3758, 0.0), (3760, 0.0), (3761, 0.0), (3764, 0.0), (3768, 0.0), (3769, 0.0), (3774, 0.0), (3776, 0.0), (3783, 0.0), (3785, 0.0), (3786, 0.0), (3787, 0.0), (3789, 0.0), (3790, 0.0), (3791, 0.0), (3793, 0.0), (3794, 0.0), (3796, 0.0), (3798, 0.0), (3802, 0.0), (3805, 0.0), (3806, 0.0), (3808, 0.0), (3810, 0.0), (3812, 0.0), (3814, 0.0), (3815, 0.0), (3817, 0.0), (3818, 0.0), (3820, 0.0), (3824, 0.0), (3825, 0.0), (3830, 0.0), (3831, 0.0), (3833, 0.0), (3834, 0.0), (3836, 0.0), (3837, 0.0), (3838, 0.0), (3840, 0.0), (3843, 0.0), (3844, 0.0), (3847, 0.0), (3849, 0.0), (3851, 0.0), (3853, 0.0), (3859, 0.0), (3861, 0.0), (3870, 0.0), (3871, 0.0), (3872, 0.0), (3881, 0.0), (3885, 0.0), (3887, 0.0), (3896, 0.0), (3897, 0.0), (3905, 0.0), (3907, 0.0), (3918, 0.0), (3921, 0.0), (3923, 0.0), (3926, 0.0), (3929, 0.0), (3930, 0.0), (3931, 0.0), (3933, 0.0), (3934, 0.0), (3936, 0.0), (3937, 0.0), (3938, 0.0), (3940, 0.0), (3943, 0.0), (3944, 0.0), (3946, 0.0), (3947, 0.0), (3948, 0.0), (3949, 0.0), (3955, 0.0), (3963, 0.0), (3965, 0.0), (3966, 0.0), (3968, 0.0), (3969, 0.0), (3971, 0.0), (3972, 0.0), (3975, 0.0), (3980, 0.0), (3981, 0.0), (3982, 0.0), (3985, 0.0), (3988, 0.0), (3989, 0.0), (3991, 0.0), (3994, 0.0), (3995, 0.0), (3996, 0.0), (3998, 0.0), (4003, 0.0), (4007, 0.0), (4008, 0.0), (4009, 0.0), (4010, 0.0), (4012, 0.0), (4018, 0.0), (4021, 0.0), (4022, 0.0), (4026, 0.0), (4027, 0.0), (4028, 0.0), (4029, 0.0), (4031, 0.0), (4034, 0.0), (4035, 0.0), (4039, 0.0), (4040, 0.0), (4041, 0.0), (4043, 0.0), (4044, 0.0), (4050, 0.0), (4055, 0.0), (4058, 0.0), (4061, 0.0), (4063, 0.0), (4065, 0.0), (4067, 0.0), (4071, 0.0), (4072, 0.0), (4073, 0.0), (4078, 0.0), (4084, 0.0), (4086, 0.0), (4088, 0.0), (4090, 0.0), (4091, 0.0), (4093, 0.0), (4094, 0.0), (4096, 0.0), (4097, 0.0), (4099, 0.0), (4100, 0.0), (4103, 0.0), (4106, 0.0), (4108, 0.0), (4110, 0.0), (4114, 0.0), (4115, 0.0), (4118, 0.0), (4119, 0.0), (4120, 0.0), (4121, 0.0), (4122, 0.0), (4127, 0.0), (4128, 0.0), (4131, 0.0), (4134, 0.0), (4144, 0.0), (4146, 0.0), (4149, 0.0), (4150, 0.0), (4153, 0.0), (4157, 0.0), (4159, 0.0), (4162, 0.0), (4164, 0.0), (4165, 0.0), (4166, 0.0), (4167, 0.0), (4168, 0.0), (4170, 0.0), (4173, 0.0), (4177, 0.0), (4179, 0.0), (4180, 0.0), (4181, 0.0), (4184, 0.0), (4185, 0.0), (4186, 0.0), (4188, 0.0), (4190, 0.0), (4191, 0.0), (4194, 0.0), (4195, 0.0), (4196, 0.0), (4198, 0.0), (4199, 0.0), (4201, 0.0), (4204, 0.0), (4207, 0.0), (4208, 0.0), (4211, 0.0), (4212, 0.0), (4214, 0.0), (4215, 0.0), (4216, 0.0), (4217, 0.0), (4218, 0.0), (4219, 0.0), (4223, 0.0), (4224, 0.0), (4226, 0.0), (4227, 0.0), (4229, 0.0), (4233, 0.0), (4234, 0.0), (4236, 0.0), (4237, 0.0), (4238, 0.0), (4239, 0.0), (4241, 0.0), (4250, 0.0), (4251, 0.0), (4252, 0.0), (4253, 0.0), (4256, 0.0), (4258, 0.0), (4260, 0.0), (4261, 0.0), (4264, 0.0), (4265, 0.0), (4270, 0.0), (4271, 0.0), (4272, 0.0), (4275, 0.0), (4276, 0.0), (4278, 0.0), (4281, 0.0), (4285, 0.0), (4291, 0.0), (4292, 0.0), (4294, 0.0), (4297, 0.0), (4300, 0.0), (4302, 0.0), (4303, 0.0), (4305, 0.0), (4310, 0.0), (4312, 0.0), (4313, 0.0), (4315, 0.0), (4316, 0.0), (4317, 0.0), (4319, 0.0), (4322, 0.0), (4323, 0.0), (4327, 0.0), (4328, 0.0), (4329, 0.0), (4331, 0.0), (4332, 0.0), (4337, 0.0), (4339, 0.0), (4341, 0.0), (4351, 0.0), (4352, 0.0), (4360, 0.0), (4365, 0.0), (4367, 0.0), (4370, 0.0), (4372, 0.0), (4377, 0.0), (4380, 0.0), (4384, 0.0), (4385, 0.0), (4390, 0.0), (4392, 0.0), (4393, 0.0), (4404, 0.0), (4413, 0.0), (4414, 0.0), (4415, 0.0), (4417, 0.0), (4421, 0.0), (4424, 0.0), (4425, 0.0), (4426, 0.0), (4433, 0.0), (4434, 0.0), (4436, 0.0), (4437, 0.0), (4438, 0.0), (4439, 0.0), (4440, 0.0), (4441, 0.0), (4447, 0.0), (4449, 0.0), (4450, 0.0), (4451, 0.0), (4452, 0.0), (4453, 0.0), (4454, 0.0), (4455, 0.0), (4456, 0.0), (4457, 0.0), (4460, 0.0), (4463, 0.0), (4466, 0.0), (4468, 0.0), (4478, 0.0), (4480, 0.0), (4481, 0.0), (4482, 0.0), (4483, 0.0), (4485, 0.0), (4488, 0.0), (4491, 0.0), (4492, 0.0), (4493, 0.0), (4496, 0.0), (4498, 0.0), (4499, 0.0), (4500, 0.0), (4506, 0.0), (4508, 0.0), (4509, 0.0), (4510, 0.0), (4512, 0.0), (4513, 0.0), (4514, 0.0), (4515, 0.0), (4518, 0.0), (4525, 0.0), (4526, 0.0), (4527, 0.0), (4532, 0.0), (4537, 0.0), (4538, 0.0), (4539, 0.0), (4542, 0.0), (4543, 0.0), (4547, 0.0), (4548, 0.0), (4549, 0.0), (4552, 0.0), (4556, 0.0), (4557, 0.0), (4558, 0.0), (4559, 0.0), (4560, 0.0), (4561, 0.0), (4562, 0.0), (4564, 0.0), (4565, 0.0), (4568, 0.0), (4569, 0.0), (4570, 0.0), (4577, 0.0), (4578, 0.0), (4580, 0.0), (4581, 0.0), (4583, 0.0), (4585, 0.0), (4586, 0.0), (4587, 0.0), (4592, 0.0), (4595, 0.0), (4596, 0.0), (4597, 0.0), (4599, 0.0), (4609, 0.0), (4613, 0.0), (4615, 0.0), (4618, 0.0), (4621, 0.0), (4628, 0.0), (4630, 0.0), (4631, 0.0), (4635, 0.0), (4639, 0.0), (4642, 0.0), (4644, 0.0), (4645, 0.0), (4646, 0.0), (4647, 0.0), (4648, 0.0), (4651, 0.0), (4653, 0.0), (4654, 0.0), (4656, 0.0), (4659, 0.0), (4662, 0.0), (4663, 0.0), (4664, 0.0), (4666, 0.0), (4671, 0.0), (4676, 0.0), (4678, 0.0), (4681, 0.0), (4682, 0.0), (4684, 0.0), (4690, 0.0), (4691, 0.0), (4695, 0.0), (4698, 0.0), (4700, 0.0), (4702, 0.0), (4703, 0.0), (4707, 0.0), (4708, 0.0), (4709, 0.0), (4711, 0.0), (4714, 0.0), (4720, 0.0), (4725, 0.0), (4726, 0.0), (4727, 0.0), (4730, 0.0), (4736, 0.0), (4737, 0.0), (4740, 0.0), (4742, 0.0), (4746, 0.0), (4750, 0.0), (4751, 0.0), (4755, 0.0), (4758, 0.0), (4759, 0.0)]\n"
          ]
        }
      ]
    },
    {
      "cell_type": "code",
      "source": [
        "print('Top 30 Movies Suggested for You : \\n')\n",
        "i = 1\n",
        "for movie in Sorted_Similar_Movies:\n",
        "  index = movie[0]\n",
        "  title_from_index = df[df.index==index]['Movie_Title'].values[0]\n",
        "  if (i<31):\n",
        "    print(i, '.',title_from_index)\n",
        "    i+=1"
      ],
      "metadata": {
        "colab": {
          "base_uri": "https://localhost:8080/"
        },
        "id": "BgntiArmfYeh",
        "outputId": "67243c95-941d-4516-ac36-70079b140849"
      },
      "execution_count": 25,
      "outputs": [
        {
          "output_type": "stream",
          "name": "stdout",
          "text": [
            "Top 30 Movies Suggested for You : \n",
            "\n",
            "1 . The Poker House\n",
            "2 . If I Stay\n",
            "3 . Neighbors 2: Sorority Rising\n",
            "4 . Kick-Ass 2\n",
            "5 . Kick-Ass\n",
            "6 . Days of Summer\n",
            "7 . Purple Violets\n",
            "8 . The Equalizer\n",
            "9 . Hugo\n",
            "10 . Carrie\n",
            "11 . The 5th Wave\n",
            "12 . The Amityville Horror\n",
            "13 . Let Me In\n",
            "14 . Antibirth\n",
            "15 . Jesus' Son\n",
            "16 . Traffic\n",
            "17 . Devil\n",
            "18 . Edmond\n",
            "19 . Riddick\n",
            "20 . Trees Lounge\n",
            "21 . Blow\n",
            "22 . Shattered Glass\n",
            "23 . Boys Don't Cry\n",
            "24 . Once Upon a Time in America\n",
            "25 . Detention of the Dead\n",
            "26 . A League of Their Own\n",
            "27 . Highway\n",
            "28 . Tank Girl\n",
            "29 . AWOL-72\n",
            "30 . The Sweetest Thing\n"
          ]
        }
      ]
    },
    {
      "cell_type": "markdown",
      "source": [
        "#Top 5 movies"
      ],
      "metadata": {
        "id": "kLynrDTCgFuz"
      }
    },
    {
      "cell_type": "code",
      "source": [
        "print('Top 5 Movies Suggested for You : \\n')\n",
        "i = 1\n",
        "for movie in Sorted_Similar_Movies:\n",
        "  index = movie[0]\n",
        "  title_from_index = df[df.index==index]['Movie_Title'].values[0]\n",
        "  if (i<6):\n",
        "    print(i, '.',title_from_index)\n",
        "    i+=1"
      ],
      "metadata": {
        "colab": {
          "base_uri": "https://localhost:8080/"
        },
        "id": "12swBTGigLXw",
        "outputId": "31e69f77-f0dd-43df-ea9f-fb401420d85a"
      },
      "execution_count": 26,
      "outputs": [
        {
          "output_type": "stream",
          "name": "stdout",
          "text": [
            "Top 5 Movies Suggested for You : \n",
            "\n",
            "1 . The Poker House\n",
            "2 . If I Stay\n",
            "3 . Neighbors 2: Sorority Rising\n",
            "4 . Kick-Ass 2\n",
            "5 . Kick-Ass\n"
          ]
        }
      ]
    }
  ]
}